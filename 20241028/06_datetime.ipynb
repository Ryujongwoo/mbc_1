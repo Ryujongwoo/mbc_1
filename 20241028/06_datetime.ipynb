{
 "cells": [
  {
   "cell_type": "markdown",
   "id": "c00985ea",
   "metadata": {},
   "source": [
    "datetime 모듈\n",
    "\n",
    "컴퓨터 시스템의 날짜와 시간을 처리한다."
   ]
  },
  {
   "cell_type": "code",
   "execution_count": 1,
   "id": "b553f22d",
   "metadata": {},
   "outputs": [
    {
     "name": "stdout",
     "output_type": "stream",
     "text": [
      "2024-10-28 14:21:21.021198\n"
     ]
    }
   ],
   "source": [
    "import datetime # datetime 모듈 전체를 import 한다.\n",
    "# now() 메소드로 현재 컴퓨터 시스템의 날짜와 시간을 얻어올 수 있다.\n",
    "now = datetime.datetime.now()\n",
    "print(now)"
   ]
  },
  {
   "cell_type": "code",
   "execution_count": 2,
   "id": "105daba3",
   "metadata": {},
   "outputs": [
    {
     "name": "stdout",
     "output_type": "stream",
     "text": [
      "2024-10-28 14:21:21.035160\n"
     ]
    }
   ],
   "source": [
    "from datetime import datetime # datetime 모듈에서 datetime 클래스만 import 한다.\n",
    "now2 = datetime.now()\n",
    "print(now2)"
   ]
  },
  {
   "cell_type": "code",
   "execution_count": 3,
   "id": "739a955b",
   "metadata": {},
   "outputs": [
    {
     "name": "stdout",
     "output_type": "stream",
     "text": [
      "2024-10-28 14:21:21.051117\n"
     ]
    }
   ],
   "source": [
    "from datetime import datetime as dt # import한 datetime 클래스에 dt라는 별명을 지정한다.\n",
    "# import 하는 모듈에 'as'를 사용해서 별명을 지정하면 원래 모듈 이름을 사용할 수 없고 'as' 뒤에 지정한 별명을 사용해야 한다.\n",
    "# now3 = datetime.now() # 에러\n",
    "now3 = dt.now()\n",
    "print(now3)"
   ]
  },
  {
   "cell_type": "markdown",
   "id": "ef7f135d",
   "metadata": {},
   "source": [
    "날짜, 시간 데이터에서 년, 월, 일, 시, 분, 초, 밀리초, 마이크로초, 요일 얻어오기"
   ]
  },
  {
   "cell_type": "code",
   "execution_count": 10,
   "id": "14f6e755",
   "metadata": {},
   "outputs": [
    {
     "name": "stdout",
     "output_type": "stream",
     "text": [
      "2024-10-28 14:31:28.372673\n",
      "년: 2024\n",
      "월: 10\n",
      "일: 28\n",
      "시: 14\n",
      "분: 31\n",
      "초: 28\n",
      "마이크로초: 372673\n",
      "밀리초: 372\n",
      "요일: 0\n",
      "요일: 월\n"
     ]
    }
   ],
   "source": [
    "from datetime import datetime as dt\n",
    "today = dt.now()\n",
    "print(today)\n",
    "\n",
    "print('년: {}'.format(today.year))\n",
    "print('월: {}'.format(today.month))\n",
    "print('일: {}'.format(today.day))\n",
    "print('시: {}'.format(today.hour))\n",
    "print('분: {}'.format(today.minute))\n",
    "print('초: {}'.format(today.second))\n",
    "print('마이크로초: {}'.format(today.microsecond))\n",
    "print('밀리초: {}'.format(today.microsecond // 1000))\n",
    "# weekday() 메소드로 요일을 숫자로 얻어올 수 있다. => 0(월), 1(화), 2(수), 3(목), 4(금), 5(토), 6(일)\n",
    "print('요일: {}'.format(today.weekday()))\n",
    "week = ['월', '화', '수', '목', '금', '토', '일']\n",
    "print('요일: {}'.format(week[today.weekday()]))"
   ]
  },
  {
   "cell_type": "markdown",
   "id": "77e3c057",
   "metadata": {},
   "source": [
    "날짜, 시간 수정하기"
   ]
  },
  {
   "cell_type": "code",
   "execution_count": 19,
   "id": "e3a41cce",
   "metadata": {},
   "outputs": [
    {
     "name": "stdout",
     "output_type": "stream",
     "text": [
      "2024-10-28 14:35:38.834589\n",
      "2025-10-28 14:35:38.834589\n",
      "2024-04-28 14:35:38.834589\n",
      "2024-10-07 14:35:38.834589\n",
      "2024-10-28 18:35:38.834589\n",
      "2024-10-28 14:00:38.834589\n",
      "2024-10-28 14:35:01.834589\n",
      "2024-10-28 14:35:38.777777\n"
     ]
    }
   ],
   "source": [
    "from datetime import datetime as dt\n",
    "today = dt.now()\n",
    "print(today)\n",
    "\n",
    "# replace() 메소드로 날짜, 시간을 수정할 수 있다.\n",
    "print(today.replace(year=2025))\n",
    "print(today.replace(month=4))\n",
    "print(today.replace(day=7))\n",
    "print(today.replace(hour=18))\n",
    "print(today.replace(minute=0))\n",
    "print(today.replace(second=1))\n",
    "print(today.replace(microsecond=777777))"
   ]
  },
  {
   "cell_type": "markdown",
   "id": "77bb2ca3",
   "metadata": {},
   "source": [
    "문자열을 날짜, 시간 데이터로 만들기"
   ]
  },
  {
   "cell_type": "code",
   "execution_count": 35,
   "id": "7f1baf36",
   "metadata": {},
   "outputs": [
    {
     "name": "stdout",
     "output_type": "stream",
     "text": [
      "2025-4-7 <class 'str'>\n",
      "2025-04-07 00:00:00 <class 'datetime.datetime'>\n",
      "********************************************************************************\n",
      "18:00:01 <class 'str'>\n",
      "2024-10-28 18:00:01 <class 'datetime.datetime'>\n",
      "********************************************************************************\n",
      "2025-4-7 18:00:01 <class 'str'>\n",
      "2025-04-07 18:00:01 <class 'datetime.datetime'>\n"
     ]
    }
   ],
   "source": [
    "from dateutil.parser import parse\n",
    "\n",
    "string = '2025-4-7' # 2025/4/7, 2025.4.7\n",
    "print(string, type(string))\n",
    "date = parse(string)\n",
    "print(date, type(date))\n",
    "print('*' * 80)\n",
    "\n",
    "string = '18:00:01'\n",
    "print(string, type(string))\n",
    "time = parse(string)\n",
    "print(time, type(time))\n",
    "print('*' * 80)\n",
    "\n",
    "string = '2025-4-7 18:00:01'\n",
    "print(string, type(string))\n",
    "now = parse(string)\n",
    "print(now, type(now))"
   ]
  },
  {
   "cell_type": "markdown",
   "id": "a0058849",
   "metadata": {},
   "source": [
    "두 날짜 데이터 사이의 차이 계산하기"
   ]
  },
  {
   "cell_type": "code",
   "execution_count": 50,
   "id": "87d361e2",
   "metadata": {},
   "outputs": [
    {
     "name": "stdout",
     "output_type": "stream",
     "text": [
      "2024-10-28 14:44:39.121280 2025-04-07 18:00:01\n",
      "161 days, 3:06:20.046806\n",
      "161\n",
      "11180\n",
      "46806\n",
      "13921580.046806\n"
     ]
    }
   ],
   "source": [
    "from datetime import datetime as dt\n",
    "from dateutil.parser import parse\n",
    "start = dt.now()\n",
    "end = parse('2025/4/7 18:0:1') # 수료일\n",
    "print(today, end)\n",
    "\n",
    "gap = end - start\n",
    "print(gap)\n",
    "print(gap.days) # 두 날짜 사이의 일 단위 차이를 얻어온다. => 시간 무시\n",
    "print(gap.seconds) # 두 날짜 사이의 시간을 초 단위로 계산해서 얻어온다. => 날짜 무시\n",
    "print(gap.microseconds) # 두 날짜 사이의 시간 데이터 중에서 마이크로초만 얻어온다.\n",
    "print(gap.total_seconds()) # 두 날짜 사이의 차이를 초 단위로 얻어온다. => 전체 데이터"
   ]
  },
  {
   "cell_type": "markdown",
   "id": "3c5a80cc",
   "metadata": {},
   "source": [
    "날짜, 시간 서식 지정하기  \n",
    "날짜데이터.strftime('출력 서식')\n",
    "\n",
    "날짜 서식  \n",
    "%Y: 년도 4자리, %y: 년도 2자리  \n",
    "%m: 월(숫자), %B: 월(영어 => 전체), %b: 월(영어 => 앞 3글자)  \n",
    "%d: 일  \n",
    "%A: 요일(영어 => 전체), %a: 요일(영어 => 앞 3글자)"
   ]
  },
  {
   "cell_type": "code",
   "execution_count": 61,
   "id": "fae3222b",
   "metadata": {},
   "outputs": [
    {
     "name": "stdout",
     "output_type": "stream",
     "text": [
      "2024-10-28 15:14:05.192624\n",
      "2024-10-28\n",
      "<class 'str'>\n",
      "2024/10/28\n",
      "2024.10.28\n",
      "2024-10-28 Monday\n",
      "2024-10-28 Mon\n",
      "Mon Oct-28 2024\n",
      "2024년 10월 28일\n"
     ]
    }
   ],
   "source": [
    "from datetime import datetime as dt\n",
    "today = dt.now()\n",
    "print(today)\n",
    "\n",
    "print(today.strftime('%Y-%m-%d'))\n",
    "print(type(today.strftime('%Y-%m-%d')))\n",
    "print(today.strftime('%Y/%m/%d'))\n",
    "print(today.strftime('%Y.%m.%d'))\n",
    "print(today.strftime('%Y-%m-%d %A'))\n",
    "print(today.strftime('%Y-%m-%d %a'))\n",
    "print(today.strftime('%a %b-%d %Y'))\n",
    "\n",
    "# 날짜, 시간 서식에 한글을 넣었을 때 유니코드 인코딩 문제로 UnicodeEncodeError가 발생한다.\n",
    "# print(today.strftime('%Y년 %m월 %d일')) # 에러\n",
    "# 날짜, 시간 서식 지정시 UnicodeEncodeError가 발생되면 아래와 같이 코딩한다.\n",
    "print(today.strftime('%Y년 %m월 %d일'.encode('unicode-escape').decode()).encode().decode('unicode-escape'))"
   ]
  },
  {
   "cell_type": "markdown",
   "id": "13eccb31",
   "metadata": {},
   "source": [
    "시간 서식  \n",
    "%H: 시간(24시각), %I: 시간(12시각)  \n",
    "%M: 분  \n",
    "%S: 초  \n",
    "%f: 마이크로초  \n",
    "%p: AM/PM"
   ]
  },
  {
   "cell_type": "code",
   "execution_count": 67,
   "id": "b38b0ad2",
   "metadata": {},
   "outputs": [
    {
     "name": "stdout",
     "output_type": "stream",
     "text": [
      "2024-10-28 15:19:02.647653\n",
      "15:19:02\n",
      "PM 03:19:02.647653\n",
      "15시 19분 02초\n"
     ]
    }
   ],
   "source": [
    "from datetime import datetime as dt\n",
    "today = dt.now()\n",
    "print(today)\n",
    "\n",
    "print(today.strftime('%H:%M:%S'))\n",
    "print(today.strftime('%p %I:%M:%S.%f'))\n",
    "# print(today.strftime('%H시 %M분 %S초')) # 에러\n",
    "print(today.strftime('%H시 %M분 %S초'.encode('unicode-escape').decode()).encode().decode('unicode-escape'))"
   ]
  },
  {
   "cell_type": "code",
   "execution_count": null,
   "id": "ff1beb02",
   "metadata": {},
   "outputs": [],
   "source": []
  },
  {
   "cell_type": "code",
   "execution_count": null,
   "id": "f09a955c",
   "metadata": {},
   "outputs": [],
   "source": []
  }
 ],
 "metadata": {
  "kernelspec": {
   "display_name": "Python 3",
   "language": "python",
   "name": "python3"
  },
  "language_info": {
   "codemirror_mode": {
    "name": "ipython",
    "version": 3
   },
   "file_extension": ".py",
   "mimetype": "text/x-python",
   "name": "python",
   "nbconvert_exporter": "python",
   "pygments_lexer": "ipython3",
   "version": "3.6.8"
  }
 },
 "nbformat": 4,
 "nbformat_minor": 5
}
