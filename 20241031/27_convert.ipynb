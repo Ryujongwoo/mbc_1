{
 "cells": [
  {
   "cell_type": "markdown",
   "id": "3c326cfd",
   "metadata": {},
   "source": [
    "진법 변환\n",
    "\n",
    "<img src=\"./convert.png\" align=\"left\" width=\"1300\" title=\"진법 변환\">"
   ]
  },
  {
   "cell_type": "markdown",
   "id": "0db08cb0",
   "metadata": {},
   "source": [
    "10진수를 2진수로: 26<sub>(10)</sub> => 11010<sub>(2)</sub>"
   ]
  },
  {
   "cell_type": "code",
   "execution_count": 5,
   "id": "9c120559",
   "metadata": {},
   "outputs": [
    {
     "name": "stdout",
     "output_type": "stream",
     "text": [
      "10진수를 입력하세요: 26\n",
      "[0, 1, 0, 1, 1]\n",
      "11010"
     ]
    }
   ],
   "source": [
    "dec = int(input('10진수를 입력하세요: '))\n",
    "b = [] # 10진수가 2진수로 변환된 결과를 기억할 빈 리스트를 선언한다.\n",
    "# 입력되는 10진수의 크키에 따라 반복 횟수가 달라지므로 무한 루프를 돌려서 처리한다.\n",
    "while True:\n",
    "    m = dec // 2 # 10진수를 2로 나눈 몫을 계산한다.\n",
    "    r = dec % 2 # 10진수를 2로 나눈 나머지를 계산한다.\n",
    "    b.append(r) # 나머지를 2진수로 변환될 결과를 기억할 리스트에 저장한다.\n",
    "    # 몫이 0이되면 진법 변환이 완료된것이므로 무한 루프를 탈출한다.\n",
    "    if m == 0:\n",
    "        break\n",
    "    # ===== if\n",
    "    # 다음 계산을 위해서 dec를 몫으로 수정한다.\n",
    "    dec = m\n",
    "# ===== while\n",
    "print(b)\n",
    "# print(b[::-1])\n",
    "# b.reverse()\n",
    "# print(b)\n",
    "for i in range(len(b) - 1, -1, -1):\n",
    "    print(b[i], end='')"
   ]
  },
  {
   "cell_type": "markdown",
   "id": "68a7baec",
   "metadata": {},
   "source": [
    "10진수를 8진수로: 26<sub>(10)</sub> => 32<sub>(8)</sub>"
   ]
  },
  {
   "cell_type": "code",
   "execution_count": 7,
   "id": "cb3e62e2",
   "metadata": {},
   "outputs": [
    {
     "name": "stdout",
     "output_type": "stream",
     "text": [
      "10진수를 입력하세요: 26\n",
      "[2, 3]\n",
      "32"
     ]
    }
   ],
   "source": [
    "dec = int(input('10진수를 입력하세요: '))\n",
    "o = [] # 10진수가 8진수로 변환된 결과를 기억할 빈 리스트를 선언한다.\n",
    "# 입력되는 10진수의 크키에 따라 반복 횟수가 달라지므로 무한 루프를 돌려서 처리한다.\n",
    "while True:\n",
    "    m = dec // 8 # 10진수를 8로 나눈 몫을 계산한다.\n",
    "    r = dec % 8 # 10진수를 8로 나눈 나머지를 계산한다.\n",
    "    o.append(r) # 나머지를 8진수로 변환될 결과를 기억할 리스트에 저장한다.\n",
    "    # 몫이 0이되면 진법 변환이 완료된것이므로 무한 루프를 탈출한다.\n",
    "    if m == 0:\n",
    "        break\n",
    "    # ===== if\n",
    "    # 다음 계산을 위해서 dec를 몫으로 수정한다.\n",
    "    dec = m\n",
    "# ===== while\n",
    "print(o)\n",
    "for i in range(len(o) - 1, -1, -1):\n",
    "    print(o[i], end='')"
   ]
  },
  {
   "cell_type": "markdown",
   "id": "5ebce92c",
   "metadata": {},
   "source": [
    "10진수를 16진수로: 26<sub>(10)</sub> => 1A<sub>(16)</sub>"
   ]
  },
  {
   "cell_type": "code",
   "execution_count": 20,
   "id": "432d2221",
   "metadata": {},
   "outputs": [
    {
     "name": "stdout",
     "output_type": "stream",
     "text": [
      "10진수를 입력하세요: 26\n",
      "[10, 1]\n",
      "[0, 1, 2, 3, 4, 5, 6, 7, 8, 9, 'A', 'B', 'C', 'D', 'E', 'F']\n",
      "1A"
     ]
    }
   ],
   "source": [
    "dec = int(input('10진수를 입력하세요: '))\n",
    "h = [] # 10진수가 16진수로 변환된 결과를 기억할 빈 리스트를 선언한다.\n",
    "# 입력되는 10진수의 크키에 따라 반복 횟수가 달라지므로 무한 루프를 돌려서 처리한다.\n",
    "while True:\n",
    "    m = dec // 16 # 10진수를 16으로 나눈 몫을 계산한다.\n",
    "    r = dec % 16 # 10진수를 16으로 나눈 나머지를 계산한다.\n",
    "    h.append(r) # 나머지를 16진수로 변환될 결과를 기억할 리스트에 저장한다.\n",
    "    # 몫이 0이되면 진법 변환이 완료된것이므로 무한 루프를 탈출한다.\n",
    "    if m == 0:\n",
    "        break\n",
    "    # ===== if\n",
    "    # 다음 계산을 위해서 dec를 몫으로 수정한다.\n",
    "    dec = m\n",
    "# ===== while\n",
    "print(h)\n",
    "\n",
    "# 16진수를 기억하는 리스트 또는 튜플을 만든다.\n",
    "# hex16 = '0', '1', '2', '3', '4', '5', '6', '7', '8', '9', 'A', 'B', 'C', 'D', 'E', 'F'\n",
    "hex16 = [i if i < 10 else chr(i + 55) for i in range(16) ]\n",
    "print(hex16)\n",
    "\n",
    "for i in range(len(h) - 1, -1, -1):\n",
    "    # print(h[i], end='') # 110\n",
    "    print(hex16[h[i]], end='')"
   ]
  },
  {
   "cell_type": "markdown",
   "id": "b4fd0624",
   "metadata": {},
   "source": [
    "10진법을 n진수로"
   ]
  },
  {
   "cell_type": "code",
   "execution_count": 23,
   "id": "f2e90c7b",
   "metadata": {},
   "outputs": [
    {
     "name": "stdout",
     "output_type": "stream",
     "text": [
      "A\n",
      "A B C D E F "
     ]
    }
   ],
   "source": [
    "print(chr(65))\n",
    "for i in range(6):\n",
    "    print(chr(i + 65), end=' ')"
   ]
  },
  {
   "cell_type": "code",
   "execution_count": 28,
   "id": "6321b1e3",
   "metadata": {},
   "outputs": [
    {
     "name": "stdout",
     "output_type": "stream",
     "text": [
      "10진수와 변환할 진법을 입력하세요: 35 36\n",
      "[35]\n",
      "Z"
     ]
    }
   ],
   "source": [
    "dec, n = map(int, input('10진수와 변환할 진법을 입력하세요: ').split())\n",
    "h = [] # 10진수가 n진수로 변환된 결과를 기억할 빈 리스트를 선언한다.\n",
    "# 입력되는 10진수의 크키에 따라 반복 횟수가 달라지므로 무한 루프를 돌려서 처리한다.\n",
    "while True:\n",
    "    m = dec // n # 10진수를 n으로 나눈 몫을 계산한다.\n",
    "    r = dec % n # 10진수를 n으로 나눈 나머지를 계산한다.\n",
    "    h.append(r) # 나머지를 n진수로 변환될 결과를 기억할 리스트에 저장한다.\n",
    "    # 몫이 0이되면 진법 변환이 완료된것이므로 무한 루프를 탈출한다.\n",
    "    if m == 0:\n",
    "        break\n",
    "    # ===== if\n",
    "    # 다음 계산을 위해서 dec를 몫으로 수정한다.\n",
    "    dec = m\n",
    "# ===== while\n",
    "print(h)\n",
    "\n",
    "for i in range(len(h) - 1, -1, -1):\n",
    "    print(h[i] if h[i] < 10 else chr(h[i] + 55), end='')"
   ]
  },
  {
   "cell_type": "code",
   "execution_count": 33,
   "id": "c6cdff54",
   "metadata": {},
   "outputs": [
    {
     "name": "stdout",
     "output_type": "stream",
     "text": [
      "[0, 1, 2, 3, 4, 5, 6, 7, 8, 9, 'A', 'B', 'C', 'D', 'E', 'F']\n",
      "['0', '1', '2', '3', '4', '5', '6', '7', '8', '9']\n",
      "['A', 'B', 'C', 'D', 'E', 'F', 'G', 'H', 'I', 'J', 'K', 'L', 'M', 'N', 'O', 'P', 'Q', 'R', 'S', 'T', 'U', 'V', 'W', 'X', 'Y', 'Z']\n",
      "['0', '1', '2', '3', '4', '5', '6', '7', '8', '9', 'A', 'B', 'C', 'D', 'E', 'F', 'G', 'H', 'I', 'J', 'K', 'L', 'M', 'N', 'O', 'P', 'Q', 'R', 'S', 'T', 'U', 'V', 'W', 'X', 'Y', 'Z']\n"
     ]
    }
   ],
   "source": [
    "a = [i if i < 10 else chr(i + 55) for i in range(16) ]\n",
    "print(a)\n",
    "b = [chr(i) for i in range(48, 58)]\n",
    "print(b)\n",
    "c = [chr(i) for i in range(65, 91)]\n",
    "print(c)\n",
    "d = b + c\n",
    "print(d)"
   ]
  },
  {
   "cell_type": "code",
   "execution_count": null,
   "id": "2e8b8207",
   "metadata": {},
   "outputs": [],
   "source": []
  }
 ],
 "metadata": {
  "kernelspec": {
   "display_name": "Python 3",
   "language": "python",
   "name": "python3"
  },
  "language_info": {
   "codemirror_mode": {
    "name": "ipython",
    "version": 3
   },
   "file_extension": ".py",
   "mimetype": "text/x-python",
   "name": "python",
   "nbconvert_exporter": "python",
   "pygments_lexer": "ipython3",
   "version": "3.6.8"
  }
 },
 "nbformat": 4,
 "nbformat_minor": 5
}
