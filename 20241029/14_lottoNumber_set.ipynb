{
 "cells": [
  {
   "cell_type": "code",
   "execution_count": 1,
   "id": "14ab0e07",
   "metadata": {},
   "outputs": [],
   "source": [
    "import random"
   ]
  },
  {
   "cell_type": "code",
   "execution_count": 9,
   "id": "b4f00fa2",
   "metadata": {},
   "outputs": [
    {
     "name": "stdout",
     "output_type": "stream",
     "text": [
      "1등 번호: {33, 2, 4, 12, 45, 26}, 보너스 번호: 44 \n"
     ]
    }
   ],
   "source": [
    "# 로또 1등 번호를 기억할 빈 리스트를 선언한다.\n",
    "# lotto = []\n",
    "# 로또 1등 번호를 기억할 빈 set을 선언한다.\n",
    "lotto = set()\n",
    "\n",
    "# 1등 번호\n",
    "# 중복되는 번호가 나올수 있기 때문에 난수를 발생시키는 작업을 몇 번 반복해야하는지 알 수 없으므로\n",
    "# while 반복을 무한 루프를 돌려서 처리한다.\n",
    "while True:\n",
    "    # 1 ~ 45 사이의 난수를 정수로 발생시킨다.\n",
    "    r = random.randint(1, 45)\n",
    "    # print(r)\n",
    "    '''\n",
    "    # 리스트에 중복되는 번호가 없다면 발생된 난수를 lotto 리스트에 추가한다.\n",
    "    if r not in lotto:\n",
    "        lotto.append(r)\n",
    "    # ===== if\n",
    "    '''\n",
    "    # 리스트는 중복을 확인하는 if가 필요했지만 set은 중복 데이터를 허용하지 않기 때문에 중복을\n",
    "    # 확인하는 if 필요없다.\n",
    "    lotto.add(r)\n",
    "    # lotto 리스트에 숫자가 6개가 저장되면 무한 루프를 탈출한다.\n",
    "    if len(lotto) == 6:\n",
    "        break\n",
    "    # ===== if\n",
    "# ===== while\n",
    "\n",
    "# set은 입력 순서와 저장 순서가 다르기때문에 sort() 메소드를 지원하지 않는다.\n",
    "# lotto.sort()\n",
    "print('1등 번호: {}, '.format(lotto), end='')\n",
    "\n",
    "# 보너스 번호\n",
    "while True:\n",
    "    bonus = random.randint(1, 45)\n",
    "    # print(bonus)\n",
    "    if bonus not in lotto:\n",
    "        break\n",
    "    # ===== if\n",
    "# ===== while\n",
    "print('보너스 번호: {:02d} '.format(bonus))"
   ]
  },
  {
   "cell_type": "code",
   "execution_count": null,
   "id": "729886cb",
   "metadata": {},
   "outputs": [],
   "source": []
  },
  {
   "cell_type": "code",
   "execution_count": null,
   "id": "5795ea8b",
   "metadata": {},
   "outputs": [],
   "source": []
  }
 ],
 "metadata": {
  "kernelspec": {
   "display_name": "Python 3",
   "language": "python",
   "name": "python3"
  },
  "language_info": {
   "codemirror_mode": {
    "name": "ipython",
    "version": 3
   },
   "file_extension": ".py",
   "mimetype": "text/x-python",
   "name": "python",
   "nbconvert_exporter": "python",
   "pygments_lexer": "ipython3",
   "version": "3.6.8"
  }
 },
 "nbformat": 4,
 "nbformat_minor": 5
}
