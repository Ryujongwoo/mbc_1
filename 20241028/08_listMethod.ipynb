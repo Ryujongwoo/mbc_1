{
 "cells": [
  {
   "cell_type": "markdown",
   "id": "8e98feab",
   "metadata": {},
   "source": [
    "리스트 메소드"
   ]
  },
  {
   "cell_type": "code",
   "execution_count": 5,
   "id": "a6e2403f",
   "metadata": {},
   "outputs": [
    {
     "name": "stdout",
     "output_type": "stream",
     "text": [
      "3\n",
      "********************************************************************************\n",
      "[1, 2, 3]\n",
      "[1, 2, 3, 4]\n",
      "********************************************************************************\n",
      "[1, 2, 5, 3, 4]\n"
     ]
    }
   ],
   "source": [
    "a = [1, 2, 3]\n",
    "\n",
    "# len() 함수로 리스트에 저장된 데이터의 개수를 얻어온다.\n",
    "print(len(a))\n",
    "print('*' * 80)\n",
    "\n",
    "# append(데이터) 메소드로 리스트의 맨 뒤에 데이터를 추가한다.\n",
    "print(a)\n",
    "a.append(4)\n",
    "print(a)\n",
    "print('*' * 80)\n",
    "\n",
    "# insert(인덱스, 데이터) 메소드로 리스트의 특정 인덱스 위치에 데이터를 삽입한다.\n",
    "a.insert(2, 5)\n",
    "print(a)"
   ]
  },
  {
   "cell_type": "code",
   "execution_count": 17,
   "id": "d51c28e4",
   "metadata": {},
   "outputs": [
    {
     "name": "stdout",
     "output_type": "stream",
     "text": [
      "[1, 5, 2, 3, 6, 4]\n",
      "[1, 2, 3, 4, 5, 6]\n",
      "********************************************************************************\n",
      "['d', 'b', 'a', 'c']\n",
      "['a', 'b', 'c', 'd']\n",
      "********************************************************************************\n",
      "['홍길동', '임꺽정', '장길산', '일지매']\n",
      "['일지매', '임꺽정', '장길산', '홍길동']\n",
      "********************************************************************************\n",
      "['1', '010', '999', '50']\n",
      "['010', '1', '50', '999']\n",
      "********************************************************************************\n",
      "[1, 'a', 2, 'b']\n"
     ]
    }
   ],
   "source": [
    "# sort() 메소드로 리스트에 저장된 데이터를 정렬할 수 있다.\n",
    "# 별도의 설정을 하지 않으면 오름차순(문자열은 가나다순)으로 정렬한다.\n",
    "a = [1, 5, 2, 3, 6, 4]\n",
    "print(a)\n",
    "a.sort()\n",
    "print(a)\n",
    "print('*' * 80)\n",
    "\n",
    "b = ['d', 'b', 'a', 'c']\n",
    "print(b)\n",
    "b.sort()\n",
    "print(b)\n",
    "print('*' * 80)\n",
    "\n",
    "c = ['홍길동', '임꺽정', '장길산', '일지매']\n",
    "print(c)\n",
    "c.sort()\n",
    "print(c)\n",
    "print('*' * 80)\n",
    "\n",
    "d = ['1', '010', '999', '50']\n",
    "print(d)\n",
    "d.sort()\n",
    "print(d)\n",
    "print('*' * 80)\n",
    "\n",
    "e = [1, 'a', 2, 'b']\n",
    "print(e)\n",
    "# 정렬할 데이터가 저장된 리스트에 2가지 이상의 타입이 존재하면 에러가 발생된다\n",
    "# e.sort() # 에러"
   ]
  },
  {
   "cell_type": "code",
   "execution_count": 19,
   "id": "55bb6acb",
   "metadata": {},
   "outputs": [
    {
     "name": "stdout",
     "output_type": "stream",
     "text": [
      "[1, 5, 2, 3, 6, 4]\n",
      "[6, 5, 4, 3, 2, 1]\n",
      "********************************************************************************\n",
      "['d', 'b', 'a', 'c']\n",
      "['d', 'c', 'b', 'a']\n",
      "********************************************************************************\n",
      "['홍길동', '임꺽정', '장길산', '일지매']\n",
      "['홍길동', '장길산', '임꺽정', '일지매']\n",
      "********************************************************************************\n",
      "['1', '010', '999', '50']\n",
      "['999', '50', '1', '010']\n",
      "********************************************************************************\n"
     ]
    }
   ],
   "source": [
    "# sort() 메소드에 reverse 옵션 값을 True로 지정하면 내림차순(문자열은 다나가순)으로 정렬한다.\n",
    "a = [1, 5, 2, 3, 6, 4]\n",
    "print(a)\n",
    "a.sort(reverse=True)\n",
    "print(a)\n",
    "print('*' * 80)\n",
    "\n",
    "b = ['d', 'b', 'a', 'c']\n",
    "print(b)\n",
    "b.sort(reverse=True)\n",
    "print(b)\n",
    "print('*' * 80)\n",
    "\n",
    "c = ['홍길동', '임꺽정', '장길산', '일지매']\n",
    "print(c)\n",
    "c.sort(reverse=True)\n",
    "print(c)\n",
    "print('*' * 80)\n",
    "\n",
    "d = ['1', '010', '999', '50']\n",
    "print(d)\n",
    "d.sort(reverse=True)\n",
    "print(d)\n",
    "print('*' * 80)"
   ]
  },
  {
   "cell_type": "code",
   "execution_count": 21,
   "id": "d6c1180c",
   "metadata": {},
   "outputs": [
    {
     "name": "stdout",
     "output_type": "stream",
     "text": [
      "[1, 5, 2, 3, 6, 4]\n",
      "[1, 2, 3, 4, 5, 6]\n",
      "[6, 5, 4, 3, 2, 1]\n"
     ]
    }
   ],
   "source": [
    "# reverse=True가 기억나지 않으면 오름차순으로 정렬하고 reverse() 메소드를 실행하면 된다.\n",
    "a = [1, 5, 2, 3, 6, 4]\n",
    "print(a)\n",
    "a.sort()\n",
    "print(a)\n",
    "a.reverse()\n",
    "print(a)"
   ]
  },
  {
   "cell_type": "code",
   "execution_count": 22,
   "id": "9d0d0a32",
   "metadata": {},
   "outputs": [
    {
     "name": "stdout",
     "output_type": "stream",
     "text": [
      "[1, 5, 2, 3, 6, 4]\n",
      "[1, 2, 3, 4, 5, 6]\n",
      "[6, 5, 4, 3, 2, 1]\n"
     ]
    }
   ],
   "source": [
    "# reverse=True가 기억나지 않고 reverse() 메소드도 기억나지 않는다면 [::-1]로 슬라이싱 하면 된다.\n",
    "a = [1, 5, 2, 3, 6, 4]\n",
    "print(a)\n",
    "a.sort()\n",
    "print(a)\n",
    "a = a[::-1]\n",
    "print(a)"
   ]
  },
  {
   "cell_type": "code",
   "execution_count": 28,
   "id": "d4d7c63a",
   "metadata": {},
   "outputs": [
    {
     "name": "stdout",
     "output_type": "stream",
     "text": [
      "[1, 5, 2, 3, 6, 4]\n",
      "[1, 2, 3, 4, 5, 6]\n",
      "[1, 5, 2, 3, 6, 4]\n",
      "[6, 5, 4, 3, 2, 1]\n",
      "[1, 5, 2, 3, 6, 4]\n",
      "[1, 2, 3, 4, 5, 6]\n"
     ]
    }
   ],
   "source": [
    "# sorted() 함수를 사용해도 리스트에 저장된 데이터의 정렬이 가능하다.\n",
    "# sort() 메소드와 sorted() 함수의 차이점은 sort() 메소드는 메소드를 실행하는 리스트의 내용이 정렬된 결과로\n",
    "# 수정되고 sorted() 함수는 정렬된 결과를 리턴하므로 내용이 수정되지 않는다.\n",
    "a = [1, 5, 2, 3, 6, 4]\n",
    "print(a)\n",
    "print(sorted(a))\n",
    "print(a)\n",
    "print(sorted(a, reverse=True))\n",
    "print(a)\n",
    "a = sorted(a)\n",
    "print(a)"
   ]
  },
  {
   "cell_type": "code",
   "execution_count": null,
   "id": "19f9ea1c",
   "metadata": {},
   "outputs": [],
   "source": []
  },
  {
   "cell_type": "code",
   "execution_count": null,
   "id": "dc7cbace",
   "metadata": {},
   "outputs": [],
   "source": []
  },
  {
   "cell_type": "code",
   "execution_count": null,
   "id": "215e84ba",
   "metadata": {},
   "outputs": [],
   "source": []
  },
  {
   "cell_type": "code",
   "execution_count": null,
   "id": "01c4979d",
   "metadata": {},
   "outputs": [],
   "source": []
  }
 ],
 "metadata": {
  "kernelspec": {
   "display_name": "Python 3",
   "language": "python",
   "name": "python3"
  },
  "language_info": {
   "codemirror_mode": {
    "name": "ipython",
    "version": 3
   },
   "file_extension": ".py",
   "mimetype": "text/x-python",
   "name": "python",
   "nbconvert_exporter": "python",
   "pygments_lexer": "ipython3",
   "version": "3.6.8"
  }
 },
 "nbformat": 4,
 "nbformat_minor": 5
}
