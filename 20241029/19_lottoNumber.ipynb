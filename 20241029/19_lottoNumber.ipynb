{
 "cells": [
  {
   "cell_type": "code",
   "execution_count": 1,
   "id": "ba18d61f",
   "metadata": {},
   "outputs": [],
   "source": [
    "import random"
   ]
  },
  {
   "cell_type": "code",
   "execution_count": 10,
   "id": "cabf5a2e",
   "metadata": {},
   "outputs": [
    {
     "name": "stdout",
     "output_type": "stream",
     "text": [
      "로또 복권 구매 금액을 입력하세요: 5000\n",
      "  1 game: 01 04 30 32 33 44 \n",
      "  2 game: 01 12 25 30 37 38 \n",
      "  3 game: 14 21 32 37 38 40 \n",
      "  4 game: 05 06 13 15 17 30 \n",
      "  5 game: 09 20 24 31 40 43 \n"
     ]
    }
   ],
   "source": [
    "# 로또 복권 구매 금액을 입력받아 입력받은 금액만큼 로또 번호를 생성하는 프로그램\n",
    "lotto = [i + 1 for i in range(45)]\n",
    "# print(lotto)\n",
    "# 로또 번호 구매 금액을 입력받는다.\n",
    "money = int(input('로또 복권 구매 금액을 입력하세요: '))\n",
    "# 로또 번호 구매 금액만큼 반복하며 로또 번호를 생성한다.\n",
    "for i in range(money // 1000):\n",
    "    random.shuffle(lotto)\n",
    "    result = lotto[:6]\n",
    "    result.sort()\n",
    "    print('{:3d} game: '.format(i + 1), end='')\n",
    "    for j in range(6):\n",
    "        print('{:02d}'.format(result[j]), end=' ')\n",
    "    # ===== for j\n",
    "    print()\n",
    "# ===== for i"
   ]
  },
  {
   "cell_type": "code",
   "execution_count": 13,
   "id": "c6fc5c16",
   "metadata": {},
   "outputs": [
    {
     "name": "stdout",
     "output_type": "stream",
     "text": [
      "로또 복권 구매 금액을 입력하세요: 5000\n",
      "  1 game: 04 05 13 21 26 42 \n",
      "  2 game: 13 18 20 29 30 40 \n",
      "  3 game: 04 23 28 33 39 45 \n",
      "  4 game: 07 13 18 32 35 44 \n",
      "  5 game: 02 05 18 29 38 41 \n"
     ]
    }
   ],
   "source": [
    "lotto = [i + 1 for i in range(45)]\n",
    "money = int(input('로또 복권 구매 금액을 입력하세요: '))\n",
    "for i in range(money // 1000):\n",
    "    # random.shuffle(lotto)\n",
    "    # result = lotto[:6]\n",
    "    result = random.sample(lotto, 6)\n",
    "    result.sort()\n",
    "    print('{:3d} game: '.format(i + 1), end='')\n",
    "    for j in range(6):\n",
    "        print('{:02d}'.format(result[j]), end=' ')\n",
    "    # ===== for j\n",
    "    print()\n",
    "# ===== for i"
   ]
  },
  {
   "cell_type": "code",
   "execution_count": null,
   "id": "7efe0296",
   "metadata": {},
   "outputs": [],
   "source": []
  },
  {
   "cell_type": "code",
   "execution_count": null,
   "id": "d3b6c5cc",
   "metadata": {},
   "outputs": [],
   "source": []
  }
 ],
 "metadata": {
  "kernelspec": {
   "display_name": "Python 3",
   "language": "python",
   "name": "python3"
  },
  "language_info": {
   "codemirror_mode": {
    "name": "ipython",
    "version": 3
   },
   "file_extension": ".py",
   "mimetype": "text/x-python",
   "name": "python",
   "nbconvert_exporter": "python",
   "pygments_lexer": "ipython3",
   "version": "3.6.8"
  }
 },
 "nbformat": 4,
 "nbformat_minor": 5
}
