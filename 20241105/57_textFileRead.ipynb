{
 "cells": [
  {
   "cell_type": "code",
   "execution_count": 19,
   "id": "c1965f8d",
   "metadata": {},
   "outputs": [
    {
     "name": "stdout",
     "output_type": "stream",
     "text": [
      "lkjfskljsfdkljfdskljfsdkljfds\n",
      "fsdkjlfsdkjlkjlfdskljfsd\n",
      "fdskjlfsdkjlfjkdslljkfsdsfd\n",
      "fsdljkfjkdlsjklfdsjklfjklewioue\n",
      "ㅐㅕㅑㅗㄷㅈ갸ㅓㅕㅐㄹ아ㅓㅣㄹㅇ너ㅏㅣ\\ㄹㄴ어ㅏㅣㅑㅏㅓㅐㅈㄷ갸ㅓㅐㄹㅇ너ㅏ\n",
      "ㅗㅓㅏㅣㄹ나ㅣㅓㄹㄴ어ㅏㅣㅓㅏㅣㄹㄴㅇ\n",
      "ㄹㅇ너ㅏㅣ라ㅓㄴ이ㅓㅏㅣㄹㄴㅇ\n",
      "ㄷ져ㅑㅓㅐㄱㄹㄷ자ㅓㅣㅏㅓ리\n",
      "9085430985489045\n",
      "423980423988904343\n",
      "4239842308908942\n",
      "42389042398980423\n",
      "\n",
      "data5.txt 파일에서 읽기 완료\n"
     ]
    }
   ],
   "source": [
    "# 텍스트 파일을 읽기용으로 open 할 때는 디스크에 파일이 없을 수 있으므로 try ~ except를 해서 오류를 처리를 해야한다.\n",
    "try:\n",
    "    file = open('./data/data5.txt', 'r')\n",
    "    \n",
    "    # 텍스트 파일에 저장된 데이터가 몇 줄인지 알 수 없으므로 무한 루프를 돌려서 읽어들인다.\n",
    "    while True:\n",
    "        char = file.read() # 텍스트 파일에 저장된 데이터를 문자 단위로 읽어온다.\n",
    "        if char == '': # 텍스트 파일에서 읽어들인 문자가 없으면\n",
    "            break\n",
    "        # ===== if\n",
    "        print(char)\n",
    "    # ===== while\n",
    "    \n",
    "    # file.close() # 'r' 모드로 open 한 경우 close() 메소드를 실행하지 않아도 상관없다.\n",
    "    print('data5.txt 파일에서 읽기 완료')\n",
    "except FileNotFoundError:\n",
    "    print('파일 이름이 잘못되었거나 디스크에 파일이 없습니다.')"
   ]
  },
  {
   "cell_type": "code",
   "execution_count": 26,
   "id": "85714c80",
   "metadata": {},
   "outputs": [
    {
     "name": "stdout",
     "output_type": "stream",
     "text": [
      "data5.txt 파일에서 읽기 완료\n",
      "['lkjfskljsfdkljfdskljfsdkljfds', 'fsdkjlfsdkjlkjlfdskljfsd', 'fdskjlfsdkjlfjkdslljkfsdsfd', 'fsdljkfjkdlsjklfdsjklfjklewioue', 'ㅐㅕㅑㅗㄷㅈ갸ㅓㅕㅐㄹ아ㅓㅣㄹㅇ너ㅏㅣ\\\\ㄹㄴ어ㅏㅣㅑㅏㅓㅐㅈㄷ갸ㅓㅐㄹㅇ너ㅏ', 'ㅗㅓㅏㅣㄹ나ㅣㅓㄹㄴ어ㅏㅣㅓㅏㅣㄹㄴㅇ', 'ㄹㅇ너ㅏㅣ라ㅓㄴ이ㅓㅏㅣㄹㄴㅇ', 'ㄷ져ㅑㅓㅐㄱㄹㄷ자ㅓㅣㅏㅓ리', '9085430985489045', '423980423988904343', '4239842308908942', '42389042398980423']\n"
     ]
    }
   ],
   "source": [
    "try:\n",
    "    file = open('./data/data5.txt', 'r')\n",
    "    lines = [] # 텍스트 파일에서 데이터를 읽어 저장할 빈 리스트를 만든다.\n",
    "    \n",
    "    while True:\n",
    "        line = file.readline() # 텍스트 파일에 저장된 데이터를 줄 단위로 읽어온다.\n",
    "        if not line: # 텍스트 파일에서 읽어들인 데이터가 없으면\n",
    "            break\n",
    "        # ===== if\n",
    "        # print(line, end='')\n",
    "        # print(line.strip())\n",
    "        # readline() 메소드로 데이터를 읽어들인 후 strip() 메소드로 문자열 앞, 뒤의 불필요한 공백을 제거하는 것이 좋다.\n",
    "        line = line.strip()\n",
    "        # readline() 메소드로 읽어들인 데이터가 공백이면 저장할 필요없다.\n",
    "        if len(line) != 0:\n",
    "            # print(line)\n",
    "            lines.append(line)\n",
    "    # ===== while\n",
    "    \n",
    "    print('data5.txt 파일에서 읽기 완료')\n",
    "except FileNotFoundError:\n",
    "    print('파일 이름이 잘못되었거나 디스크에 파일이 없습니다.')\n",
    "# ===== try ~ except\n",
    "print(lines)"
   ]
  },
  {
   "cell_type": "code",
   "execution_count": 27,
   "id": "3ba77f99",
   "metadata": {},
   "outputs": [
    {
     "name": "stdout",
     "output_type": "stream",
     "text": [
      "data5.txt 파일에서 읽기 완료\n",
      "['lkjfskljsfdkljfdskljfsdkljfds', 'fsdkjlfsdkjlkjlfdskljfsd', 'fdskjlfsdkjlfjkdslljkfsdsfd', 'fsdljkfjkdlsjklfdsjklfjklewioue', 'ㅐㅕㅑㅗㄷㅈ갸ㅓㅕㅐㄹ아ㅓㅣㄹㅇ너ㅏㅣ\\\\ㄹㄴ어ㅏㅣㅑㅏㅓㅐㅈㄷ갸ㅓㅐㄹㅇ너ㅏ', 'ㅗㅓㅏㅣㄹ나ㅣㅓㄹㄴ어ㅏㅣㅓㅏㅣㄹㄴㅇ', 'ㄹㅇ너ㅏㅣ라ㅓㄴ이ㅓㅏㅣㄹㄴㅇ', 'ㄷ져ㅑㅓㅐㄱㄹㄷ자ㅓㅣㅏㅓ리', '9085430985489045', '423980423988904343', '4239842308908942', '42389042398980423']\n"
     ]
    }
   ],
   "source": [
    "try:\n",
    "    with open('./data/data5.txt', 'r') as file:\n",
    "        lines = []\n",
    "        while True:\n",
    "            line = file.readline()\n",
    "            if not line:\n",
    "                break\n",
    "            # ===== if\n",
    "            line = line.strip()\n",
    "            if len(line) != 0:\n",
    "                lines.append(line)\n",
    "        # ===== while\n",
    "    # ===== with\n",
    "    print('data5.txt 파일에서 읽기 완료')\n",
    "except FileNotFoundError:\n",
    "    print('파일 이름이 잘못되었거나 디스크에 파일이 없습니다.')\n",
    "# ===== try ~ except\n",
    "print(lines)"
   ]
  },
  {
   "cell_type": "code",
   "execution_count": 29,
   "id": "e4110ced",
   "metadata": {},
   "outputs": [
    {
     "name": "stdout",
     "output_type": "stream",
     "text": [
      "<class 'list'>\n",
      "data5.txt 파일에서 읽기 완료\n",
      "['lkjfskljsfdkljfdskljfsdkljfds\\n', 'fsdkjlfsdkjlkjlfdskljfsd\\n', 'fdskjlfsdkjlfjkdslljkfsdsfd\\n', 'fsdljkfjkdlsjklfdsjklfjklewioue\\n', 'ㅐㅕㅑㅗㄷㅈ갸ㅓㅕㅐㄹ아ㅓㅣㄹㅇ너ㅏㅣ\\\\ㄹㄴ어ㅏㅣㅑㅏㅓㅐㅈㄷ갸ㅓㅐㄹㅇ너ㅏ\\n', 'ㅗㅓㅏㅣㄹ나ㅣㅓㄹㄴ어ㅏㅣㅓㅏㅣㄹㄴㅇ\\n', 'ㄹㅇ너ㅏㅣ라ㅓㄴ이ㅓㅏㅣㄹㄴㅇ\\n', 'ㄷ져ㅑㅓㅐㄱㄹㄷ자ㅓㅣㅏㅓ리\\n', '9085430985489045\\n', '423980423988904343\\n', '4239842308908942\\n', '42389042398980423\\n']\n"
     ]
    }
   ],
   "source": [
    "try:\n",
    "    file = open('./data/data5.txt', 'r')\n",
    "    lines = file.readlines() # 텍스트 파일에 저장된 데이터 전체를 한꺼번에 읽어서 리스트로 리턴한다.\n",
    "    print(type(lines)) # <class 'list'>\n",
    "    print('data5.txt 파일에서 읽기 완료')\n",
    "except FileNotFoundError:\n",
    "    print('파일 이름이 잘못되었거나 디스크에 파일이 없습니다.')\n",
    "# ===== try ~ except\n",
    "print(lines)"
   ]
  },
  {
   "cell_type": "code",
   "execution_count": null,
   "id": "2b19e24f",
   "metadata": {},
   "outputs": [],
   "source": []
  },
  {
   "cell_type": "code",
   "execution_count": null,
   "id": "0d01a785",
   "metadata": {},
   "outputs": [],
   "source": []
  }
 ],
 "metadata": {
  "kernelspec": {
   "display_name": "Python 3",
   "language": "python",
   "name": "python3"
  },
  "language_info": {
   "codemirror_mode": {
    "name": "ipython",
    "version": 3
   },
   "file_extension": ".py",
   "mimetype": "text/x-python",
   "name": "python",
   "nbconvert_exporter": "python",
   "pygments_lexer": "ipython3",
   "version": "3.6.8"
  }
 },
 "nbformat": 4,
 "nbformat_minor": 5
}
