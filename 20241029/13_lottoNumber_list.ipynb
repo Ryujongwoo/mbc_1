{
 "cells": [
  {
   "cell_type": "code",
   "execution_count": 1,
   "id": "ac2e9de5",
   "metadata": {},
   "outputs": [],
   "source": [
    "import random"
   ]
  },
  {
   "cell_type": "code",
   "execution_count": 9,
   "id": "dddd6445",
   "metadata": {},
   "outputs": [
    {
     "name": "stdout",
     "output_type": "stream",
     "text": [
      "1등 번호: 43 21 13 27 37 36 보너스 번호: 04\n"
     ]
    }
   ],
   "source": [
    "# 추첨기를 만든다.\n",
    "lotto = []\n",
    "\n",
    "# 추첨기에 공을 넣는다.\n",
    "i = 0\n",
    "while i < 45:\n",
    "    i += 1\n",
    "    lotto.append(i)\n",
    "# ===== while\n",
    "\n",
    "# 섞는다.\n",
    "i = 0\n",
    "while i < 1000000:\n",
    "    r = random.randint(1, 44)\n",
    "    lotto[0], lotto[r] = lotto[r], lotto[0]\n",
    "    i += 1\n",
    "# ===== while\n",
    "\n",
    "# 앞의 6개가 1등 번호, 7번째는 보너스 번호\n",
    "i = 0\n",
    "print('1등 번호: ', end='')\n",
    "while i < 6:\n",
    "    print('{:02d} '.format(lotto[i]), end='')\n",
    "    i += 1\n",
    "# ===== while\n",
    "print('보너스 번호: {:02d}'.format(lotto[6]))"
   ]
  },
  {
   "cell_type": "code",
   "execution_count": 38,
   "id": "b75f6dbd",
   "metadata": {},
   "outputs": [
    {
     "name": "stdout",
     "output_type": "stream",
     "text": [
      "1등 번호: 05 07 17 18 21 38 보너스 번호: 23 \n"
     ]
    }
   ],
   "source": [
    "# 로또 1등 번호를 기억할 빈 리스트를 선언한다.\n",
    "lotto = []\n",
    "\n",
    "# 1등 번호\n",
    "# 중복되는 번호가 나올수 있기 때문에 난수를 발생시키는 작업을 몇 번 반복해야하는지 알 수 없으므로\n",
    "# while 반복을 무한 루프를 돌려서 처리한다.\n",
    "while True:\n",
    "    # 1 ~ 45 사이의 난수를 정수로 발생시킨다.\n",
    "    r = random.randint(1, 45)\n",
    "    # print(r)\n",
    "    # 리스트에 중복되는 번호가 없다면 발생된 난수를 lotto 리스트에 추가한다.\n",
    "    if r not in lotto:\n",
    "        lotto.append(r)\n",
    "    # ===== if\n",
    "    # lotto 리스트에 숫자가 6개가 저장되면 무한 루프를 탈출한다.\n",
    "    if len(lotto) == 6:\n",
    "        break\n",
    "    # ===== if\n",
    "# ===== while\n",
    "\n",
    "lotto.sort()\n",
    "i = 0\n",
    "print('1등 번호: ', end='')\n",
    "while i < 6:\n",
    "    print('{:02d} '.format(lotto[i]), end='')\n",
    "    i += 1\n",
    "# ===== while\n",
    "\n",
    "# 보너스 번호\n",
    "while True:\n",
    "    bonus = random.randint(1, 45)\n",
    "    # print(bonus)\n",
    "    if bonus not in lotto:\n",
    "        break\n",
    "    # ===== if\n",
    "# ===== while\n",
    "print('보너스 번호: {:02d} '.format(bonus))"
   ]
  },
  {
   "cell_type": "code",
   "execution_count": 69,
   "id": "992cd2d4",
   "metadata": {},
   "outputs": [
    {
     "name": "stdout",
     "output_type": "stream",
     "text": [
      "1등 번호: 02 34 16 12 14 01 보너스 번호: 13\n"
     ]
    }
   ],
   "source": [
    "lotto = []\n",
    "\n",
    "i = 0\n",
    "while i < 45:\n",
    "    i += 1\n",
    "    lotto.append(i)\n",
    "# ===== while\n",
    "\n",
    "# shuffle() 메소드는 인수로 지정된 리스트에 저장된 데이터를 섞는다.\n",
    "random.shuffle(lotto)\n",
    "\n",
    "i = 0\n",
    "print('1등 번호: ', end='')\n",
    "while i < 6:\n",
    "    print('{:02d} '.format(lotto[i]), end='')\n",
    "    i += 1\n",
    "# ===== while\n",
    "print('보너스 번호: {:02d}'.format(lotto[6]))"
   ]
  },
  {
   "cell_type": "code",
   "execution_count": 81,
   "id": "3dd137e2",
   "metadata": {},
   "outputs": [
    {
     "name": "stdout",
     "output_type": "stream",
     "text": [
      "1등 번호: 01 11 26 28 31 36 보너스 번호: 02 \n"
     ]
    }
   ],
   "source": [
    "lotto = []\n",
    "\n",
    "i = 0\n",
    "while i < 45:\n",
    "    i += 1\n",
    "    lotto.append(i)\n",
    "# ===== while\n",
    "\n",
    "# sample() 메소드는 첫 번째 인수로 지정된 리스트를 섞어서 두 번째 인수로 지정된 수량만큼 추출한다.\n",
    "lotto = random.sample(lotto, 6)\n",
    "\n",
    "lotto.sort()\n",
    "i = 0\n",
    "print('1등 번호: ', end='')\n",
    "while i < 6:\n",
    "    print('{:02d} '.format(lotto[i]), end='')\n",
    "    i += 1\n",
    "# ===== while\n",
    "\n",
    "while True:\n",
    "    bonus = random.randint(1, 45)\n",
    "    if bonus not in lotto:\n",
    "        break\n",
    "    # ===== if\n",
    "# ===== while\n",
    "print('보너스 번호: {:02d} '.format(bonus))"
   ]
  },
  {
   "cell_type": "code",
   "execution_count": null,
   "id": "cd821914",
   "metadata": {},
   "outputs": [],
   "source": []
  },
  {
   "cell_type": "code",
   "execution_count": null,
   "id": "cd72b094",
   "metadata": {},
   "outputs": [],
   "source": []
  },
  {
   "cell_type": "code",
   "execution_count": null,
   "id": "b3a8d0a1",
   "metadata": {},
   "outputs": [],
   "source": []
  },
  {
   "cell_type": "code",
   "execution_count": null,
   "id": "8e34f3eb",
   "metadata": {},
   "outputs": [],
   "source": []
  },
  {
   "cell_type": "code",
   "execution_count": null,
   "id": "8ecd93fb",
   "metadata": {},
   "outputs": [],
   "source": []
  }
 ],
 "metadata": {
  "kernelspec": {
   "display_name": "Python 3",
   "language": "python",
   "name": "python3"
  },
  "language_info": {
   "codemirror_mode": {
    "name": "ipython",
    "version": 3
   },
   "file_extension": ".py",
   "mimetype": "text/x-python",
   "name": "python",
   "nbconvert_exporter": "python",
   "pygments_lexer": "ipython3",
   "version": "3.6.8"
  }
 },
 "nbformat": 4,
 "nbformat_minor": 5
}
