{
 "cells": [
  {
   "cell_type": "code",
   "execution_count": 1,
   "id": "db264bb0",
   "metadata": {
    "scrolled": false
   },
   "outputs": [],
   "source": [
    "import selectionSort as ss"
   ]
  },
  {
   "cell_type": "markdown",
   "id": "352994c1",
   "metadata": {},
   "source": [
    "999가 입력될 때 까지 데이터를 받아서 정렬한다."
   ]
  },
  {
   "cell_type": "code",
   "execution_count": 2,
   "id": "13cab7fc",
   "metadata": {},
   "outputs": [
    {
     "name": "stdout",
     "output_type": "stream",
     "text": [
      "정렬할 데이터 입력: 8\n",
      "정렬할 데이터 입력: 3\n",
      "정렬할 데이터 입력: 4\n",
      "정렬할 데이터 입력: 9\n",
      "정렬할 데이터 입력: 1\n",
      "정렬할 데이터 입력: 999\n",
      "입력한 데이터: [8, 3, 4, 9, 1]\n"
     ]
    }
   ],
   "source": [
    "data = []\n",
    "while True:\n",
    "    n = int(input('정렬할 데이터 입력: '))\n",
    "    # 999가 입력되면 무한 루프를 탈출하고 데이터를 정렬한다.\n",
    "    if n == 999:\n",
    "        break\n",
    "    # ===== if\n",
    "    data.append(n)\n",
    "# ===== while\n",
    "print(f'입력한 데이터: {data}')"
   ]
  },
  {
   "cell_type": "code",
   "execution_count": 8,
   "id": "3842f819",
   "metadata": {},
   "outputs": [
    {
     "name": "stdout",
     "output_type": "stream",
     "text": [
      "정렬 결과: [1, 3, 4, 8, 9]\n",
      "정렬 결과: [9, 8, 4, 3, 1]\n",
      "정렬 결과: [1, 3, 4, 8, 9]\n",
      "정렬 결과: [1, 3, 4, 8, 9]\n",
      "정렬 결과: [9, 8, 4, 3, 1]\n",
      "정렬 결과: reverse 인수에는 True 또는 False만 지정할 수 있습니다.\n"
     ]
    }
   ],
   "source": [
    "result = ss.selectionSortAsc(data)\n",
    "print(f'정렬 결과: {result}')\n",
    "result = ss.selectionSortDesc(data)\n",
    "print(f'정렬 결과: {result}')\n",
    "result = ss.selectionSort(data)\n",
    "print(f'정렬 결과: {result}')\n",
    "result = ss.selectionSort(data, reverse=False)\n",
    "print(f'정렬 결과: {result}')\n",
    "result = ss.selectionSort(data, reverse=True)\n",
    "print(f'정렬 결과: {result}')\n",
    "result = ss.selectionSort(data, reverse='DESC')\n",
    "print(f'정렬 결과: {result}')"
   ]
  },
  {
   "cell_type": "code",
   "execution_count": null,
   "id": "2a2e96d9",
   "metadata": {},
   "outputs": [],
   "source": []
  },
  {
   "cell_type": "code",
   "execution_count": null,
   "id": "426689e5",
   "metadata": {},
   "outputs": [],
   "source": []
  }
 ],
 "metadata": {
  "kernelspec": {
   "display_name": "Python 3",
   "language": "python",
   "name": "python3"
  },
  "language_info": {
   "codemirror_mode": {
    "name": "ipython",
    "version": 3
   },
   "file_extension": ".py",
   "mimetype": "text/x-python",
   "name": "python",
   "nbconvert_exporter": "python",
   "pygments_lexer": "ipython3",
   "version": "3.6.8"
  }
 },
 "nbformat": 4,
 "nbformat_minor": 5
}
