{
 "cells": [
  {
   "cell_type": "markdown",
   "id": "26066db7",
   "metadata": {},
   "source": [
    "for\n",
    "\n",
    "반복에 사용되는 변수에 리스트, 튜플, 딕셔너리, set에 저장된 데이터가 처음부터 마지막까지 차례대로 대입되며 반복한다.\n",
    "***\n",
    "for 변수 in 리스트 or 튜플 or 딕셔너리 or set:  \n",
    "&nbsp;&nbsp;&nbsp;&nbsp;반복할 문장  \n",
    "&nbsp;&nbsp;&nbsp;&nbsp;..."
   ]
  },
  {
   "cell_type": "markdown",
   "id": "fa42ebb3",
   "metadata": {},
   "source": [
    "리스트와 함께 사용하는 for"
   ]
  },
  {
   "cell_type": "code",
   "execution_count": 1,
   "id": "9716094a",
   "metadata": {},
   "outputs": [
    {
     "name": "stdout",
     "output_type": "stream",
     "text": [
      "['홍길동', '임꺽정', '장길산', '일지매']\n",
      "********************************************************************************\n",
      "홍길동\n",
      "임꺽정\n",
      "장길산\n",
      "일지매\n",
      "********************************************************************************\n",
      "임꺽정\n",
      "장길산\n"
     ]
    }
   ],
   "source": [
    "a = ['홍길동', '임꺽정', '장길산', '일지매']\n",
    "print(a)\n",
    "print('*' * 80)\n",
    "\n",
    "for i in a:\n",
    "    print(i)\n",
    "print('*' * 80)\n",
    "\n",
    "for i in a[1:3]:\n",
    "    print(i)"
   ]
  },
  {
   "cell_type": "markdown",
   "id": "8598e1f2",
   "metadata": {},
   "source": [
    "튜플과 함께 사용하는 for"
   ]
  },
  {
   "cell_type": "code",
   "execution_count": 2,
   "id": "9db3e7d1",
   "metadata": {},
   "outputs": [
    {
     "name": "stdout",
     "output_type": "stream",
     "text": [
      "('홍길동', '임꺽정', '장길산', '일지매')\n",
      "********************************************************************************\n",
      "홍길동\n",
      "임꺽정\n",
      "장길산\n",
      "일지매\n",
      "********************************************************************************\n",
      "임꺽정\n",
      "장길산\n"
     ]
    }
   ],
   "source": [
    "a = '홍길동', '임꺽정', '장길산', '일지매'\n",
    "print(a)\n",
    "print('*' * 80)\n",
    "\n",
    "for i in a:\n",
    "    print(i)\n",
    "print('*' * 80)\n",
    "\n",
    "for i in a[1:3]:\n",
    "    print(i)"
   ]
  },
  {
   "cell_type": "markdown",
   "id": "bb12e4fc",
   "metadata": {},
   "source": [
    "딕셔너리와 함께 사용하는 for"
   ]
  },
  {
   "cell_type": "code",
   "execution_count": 3,
   "id": "c67bbbe5",
   "metadata": {},
   "outputs": [
    {
     "name": "stdout",
     "output_type": "stream",
     "text": [
      "{'apple': 1000, 'banana': 3500, 'melon': 20000, 'mango': 5000}\n",
      "********************************************************************************\n",
      "apple\n",
      "banana\n",
      "melon\n",
      "mango\n",
      "********************************************************************************\n",
      "apple\n",
      "banana\n",
      "melon\n",
      "mango\n",
      "********************************************************************************\n",
      "1000\n",
      "3500\n",
      "20000\n",
      "5000\n",
      "********************************************************************************\n",
      "('apple', 1000)\n",
      "('banana', 3500)\n",
      "('melon', 20000)\n",
      "('mango', 5000)\n"
     ]
    }
   ],
   "source": [
    "a = {'apple': 1000, 'banana': 3500, 'melon': 20000, 'mango': 5000}\n",
    "print(a)\n",
    "print('*' * 80)\n",
    "\n",
    "for key in a: # 딕셔너리 이름만 사용하면 딕셔너리이름.keys()를 실행한 것과 같다.\n",
    "    print(key)\n",
    "print('*' * 80)\n",
    "\n",
    "for key in a.keys():\n",
    "    print(key)\n",
    "print('*' * 80)\n",
    "\n",
    "for value in a.values():\n",
    "    print(value)\n",
    "print('*' * 80)\n",
    "\n",
    "for value in a.items():\n",
    "    print(value)"
   ]
  },
  {
   "cell_type": "code",
   "execution_count": 4,
   "id": "512e6ea7",
   "metadata": {},
   "outputs": [
    {
     "name": "stdout",
     "output_type": "stream",
     "text": [
      "1000\n",
      "3500\n",
      "20000\n",
      "5000\n",
      "********************************************************************************\n",
      "1000\n",
      "3500\n",
      "20000\n",
      "5000\n"
     ]
    }
   ],
   "source": [
    "# key 값을 이용해서 value 값 얻어오기\n",
    "for key in a.keys():\n",
    "    print(a.get(key))\n",
    "print('*' * 80)\n",
    "\n",
    "for key in a.keys():\n",
    "    print(a[key])"
   ]
  },
  {
   "cell_type": "code",
   "execution_count": 5,
   "id": "7f6e1d08",
   "metadata": {},
   "outputs": [
    {
     "name": "stdout",
     "output_type": "stream",
     "text": [
      "('apple', 1000) apple 1000\n",
      "('banana', 3500) banana 3500\n",
      "('melon', 20000) melon 20000\n",
      "('mango', 5000) mango 5000\n",
      "********************************************************************************\n",
      "apple는(은) 1,000원 입니다.\n",
      "banana는(은) 3,500원 입니다.\n",
      "melon는(은) 20,000원 입니다.\n",
      "mango는(은) 5,000원 입니다.\n",
      "********************************************************************************\n",
      "apple는(은) 1,000원 입니다.\n",
      "banana는(은) 3,500원 입니다.\n",
      "melon는(은) 20,000원 입니다.\n",
      "mango는(은) 5,000원 입니다.\n"
     ]
    }
   ],
   "source": [
    "# item 값을 이용해서 key, value 값 얻어오기\n",
    "for item in a.items():\n",
    "    print(item, item[0], item[1])\n",
    "print('*' * 80)\n",
    "\n",
    "for item in a.items():\n",
    "    print('{}는(은) {:,}원 입니다.'.format(item[0], item[1]))\n",
    "print('*' * 80)\n",
    "\n",
    "for key, value in a.items():\n",
    "    print('{}는(은) {:,}원 입니다.'.format(key, value))"
   ]
  },
  {
   "cell_type": "markdown",
   "id": "a2628513",
   "metadata": {},
   "source": [
    "set과 함께 사용하는 for"
   ]
  },
  {
   "cell_type": "code",
   "execution_count": 6,
   "id": "a55a7faa",
   "metadata": {},
   "outputs": [
    {
     "name": "stdout",
     "output_type": "stream",
     "text": [
      "{'홍길동', '일지매', '장길산', '임꺽정'}\n",
      "********************************************************************************\n",
      "홍길동\n",
      "일지매\n",
      "장길산\n",
      "임꺽정\n",
      "********************************************************************************\n"
     ]
    },
    {
     "ename": "TypeError",
     "evalue": "'set' object is not subscriptable",
     "output_type": "error",
     "traceback": [
      "\u001b[1;31m---------------------------------------------------------------------------\u001b[0m",
      "\u001b[1;31mTypeError\u001b[0m                                 Traceback (most recent call last)",
      "\u001b[1;32m<ipython-input-6-685ce713668c>\u001b[0m in \u001b[0;36m<module>\u001b[1;34m\u001b[0m\n\u001b[0;32m      9\u001b[0m \u001b[1;33m\u001b[0m\u001b[0m\n\u001b[0;32m     10\u001b[0m \u001b[1;31m# set은 입력하는 순서와 실제 저장되는 순서가 달라서 인덱싱과 슬라이싱을 사용할 수 없으므로 에러가 발생된다.\u001b[0m\u001b[1;33m\u001b[0m\u001b[1;33m\u001b[0m\u001b[1;33m\u001b[0m\u001b[0m\n\u001b[1;32m---> 11\u001b[1;33m \u001b[1;32mfor\u001b[0m \u001b[0mi\u001b[0m \u001b[1;32min\u001b[0m \u001b[0ma\u001b[0m\u001b[1;33m[\u001b[0m\u001b[1;36m1\u001b[0m\u001b[1;33m:\u001b[0m\u001b[1;36m3\u001b[0m\u001b[1;33m]\u001b[0m\u001b[1;33m:\u001b[0m \u001b[1;31m# 에러\u001b[0m\u001b[1;33m\u001b[0m\u001b[1;33m\u001b[0m\u001b[0m\n\u001b[0m\u001b[0;32m     12\u001b[0m     \u001b[0mprint\u001b[0m\u001b[1;33m(\u001b[0m\u001b[0mi\u001b[0m\u001b[1;33m)\u001b[0m\u001b[1;33m\u001b[0m\u001b[1;33m\u001b[0m\u001b[0m\n",
      "\u001b[1;31mTypeError\u001b[0m: 'set' object is not subscriptable"
     ]
    }
   ],
   "source": [
    "a = {'홍길동', '임꺽정', '장길산', '일지매'}\n",
    "print(a)\n",
    "print('*' * 80)\n",
    "\n",
    "# set은 입력하는 순서와 실제 저장되는 순서가 다르지만 전체를 대상으로 반복 작업은 가능하다.\n",
    "for i in a:\n",
    "    print(i)\n",
    "print('*' * 80)\n",
    "\n",
    "# set은 입력하는 순서와 실제 저장되는 순서가 달라서 인덱싱과 슬라이싱을 사용할 수 없으므로 에러가 발생된다.\n",
    "for i in a[1:3]: # 에러\n",
    "    print(i)"
   ]
  },
  {
   "cell_type": "markdown",
   "id": "08f5c051",
   "metadata": {},
   "source": [
    "enumerate() 함수는 인수로 지정된 리스트, 튜플, 딕셔너리, set의 인덱스와 데이터를 쌍으로 묶은 튜플을 리턴한다."
   ]
  },
  {
   "cell_type": "code",
   "execution_count": 7,
   "id": "4c431659",
   "metadata": {},
   "outputs": [
    {
     "name": "stdout",
     "output_type": "stream",
     "text": [
      "['홍길동', '임꺽정', '장길산', '일지매']\n",
      "<enumerate object at 0x000001BBAEDD2AF8>\n",
      "[(0, '홍길동'), (1, '임꺽정'), (2, '장길산'), (3, '일지매')]\n",
      "(0, '홍길동')\n",
      "********************************************************************************\n",
      "(0, '홍길동') 0 홍길동\n",
      "(1, '임꺽정') 1 임꺽정\n",
      "(2, '장길산') 2 장길산\n",
      "(3, '일지매') 3 일지매\n",
      "********************************************************************************\n",
      "0 홍길동\n",
      "1 임꺽정\n",
      "2 장길산\n",
      "3 일지매\n"
     ]
    }
   ],
   "source": [
    "a = ['홍길동', '임꺽정', '장길산', '일지매']\n",
    "print(a)\n",
    "print(enumerate(a))\n",
    "print(list(enumerate(a)))\n",
    "print(list(enumerate(a))[0])\n",
    "print('*' * 80)\n",
    "\n",
    "for i in enumerate(a):\n",
    "    print(i, i[0], i[1])\n",
    "print('*' * 80)\n",
    "\n",
    "for index, value in enumerate(a):\n",
    "    print(index, value)"
   ]
  },
  {
   "cell_type": "code",
   "execution_count": 8,
   "id": "86613ee5",
   "metadata": {},
   "outputs": [
    {
     "name": "stdout",
     "output_type": "stream",
     "text": [
      "('홍길동', '임꺽정', '장길산', '일지매')\n",
      "<enumerate object at 0x000001BBAEE84168>\n",
      "[(0, '홍길동'), (1, '임꺽정'), (2, '장길산'), (3, '일지매')]\n",
      "(0, '홍길동')\n",
      "********************************************************************************\n",
      "(0, '홍길동') 0 홍길동\n",
      "(1, '임꺽정') 1 임꺽정\n",
      "(2, '장길산') 2 장길산\n",
      "(3, '일지매') 3 일지매\n",
      "********************************************************************************\n",
      "0 홍길동\n",
      "1 임꺽정\n",
      "2 장길산\n",
      "3 일지매\n"
     ]
    }
   ],
   "source": [
    "a = '홍길동', '임꺽정', '장길산', '일지매'\n",
    "print(a)\n",
    "print(enumerate(a))\n",
    "print(list(enumerate(a)))\n",
    "print(list(enumerate(a))[0])\n",
    "print('*' * 80)\n",
    "\n",
    "for i in enumerate(a):\n",
    "    print(i, i[0], i[1])\n",
    "print('*' * 80)\n",
    "\n",
    "for index, value in enumerate(a):\n",
    "    print(index, value)"
   ]
  },
  {
   "cell_type": "code",
   "execution_count": 9,
   "id": "a694539f",
   "metadata": {},
   "outputs": [
    {
     "name": "stdout",
     "output_type": "stream",
     "text": [
      "{'홍길동', '일지매', '장길산', '임꺽정'}\n",
      "<enumerate object at 0x000001BBAEDEF870>\n",
      "[(0, '홍길동'), (1, '일지매'), (2, '장길산'), (3, '임꺽정')]\n",
      "(0, '홍길동')\n",
      "********************************************************************************\n",
      "(0, '홍길동') 0 홍길동\n",
      "(1, '일지매') 1 일지매\n",
      "(2, '장길산') 2 장길산\n",
      "(3, '임꺽정') 3 임꺽정\n",
      "********************************************************************************\n",
      "0 홍길동\n",
      "1 일지매\n",
      "2 장길산\n",
      "3 임꺽정\n"
     ]
    }
   ],
   "source": [
    "a = {'홍길동', '임꺽정', '장길산', '일지매'}\n",
    "print(a)\n",
    "print(enumerate(a))\n",
    "print(list(enumerate(a)))\n",
    "print(list(enumerate(a))[0])\n",
    "print('*' * 80)\n",
    "\n",
    "for i in enumerate(a):\n",
    "    print(i, i[0], i[1])\n",
    "print('*' * 80)\n",
    "\n",
    "for index, value in enumerate(a):\n",
    "    print(index, value)"
   ]
  },
  {
   "cell_type": "code",
   "execution_count": 10,
   "id": "a939146d",
   "metadata": {},
   "outputs": [
    {
     "name": "stdout",
     "output_type": "stream",
     "text": [
      "{'apple': 1000, 'banana': 3500, 'melon': 20000, 'mango': 5000}\n",
      "<enumerate object at 0x000001BBAEE84E58>\n",
      "[(0, 'apple'), (1, 'banana'), (2, 'melon'), (3, 'mango')]\n",
      "[(0, 'apple'), (1, 'banana'), (2, 'melon'), (3, 'mango')]\n",
      "(0, 'apple')\n",
      "********************************************************************************\n",
      "0 apple\n",
      "1 banana\n",
      "2 melon\n",
      "3 mango\n",
      "********************************************************************************\n",
      "0 1000\n",
      "1 3500\n",
      "2 20000\n",
      "3 5000\n",
      "********************************************************************************\n",
      "0 ('apple', 1000)\n",
      "1 ('banana', 3500)\n",
      "2 ('melon', 20000)\n",
      "3 ('mango', 5000)\n"
     ]
    }
   ],
   "source": [
    "a = {'apple': 1000, 'banana': 3500, 'melon': 20000, 'mango': 5000}\n",
    "print(a)\n",
    "print(enumerate(a))\n",
    "print(list(enumerate(a)))\n",
    "print(list(enumerate(a.keys())))\n",
    "print(list(enumerate(a))[0])\n",
    "print('*' * 80)\n",
    "\n",
    "for index, key in enumerate(a.keys()):\n",
    "    print(index, key)\n",
    "print('*' * 80)\n",
    "\n",
    "for index, value in enumerate(a.values()):\n",
    "    print(index, value)\n",
    "print('*' * 80)\n",
    "\n",
    "for index, item in enumerate(a.items()):\n",
    "    print(index, item)"
   ]
  },
  {
   "cell_type": "markdown",
   "id": "d878aef0",
   "metadata": {},
   "source": [
    "zip() 함수는 서로 다른 데이터가 저장된 객체를 반복 가능한 형태로 묶는다."
   ]
  },
  {
   "cell_type": "code",
   "execution_count": 11,
   "id": "945cfcad",
   "metadata": {},
   "outputs": [
    {
     "name": "stdout",
     "output_type": "stream",
     "text": [
      "<zip object at 0x000001BBAEDB8808>\n",
      "[('java', 100), ('python', 95), ('spring', 98)]\n",
      "********************************************************************************\n",
      "('java', 100)\n",
      "('python', 95)\n",
      "('spring', 98)\n",
      "********************************************************************************\n",
      "java 100\n",
      "python 95\n",
      "spring 98\n"
     ]
    }
   ],
   "source": [
    "a = ['java', 'python', 'spring']\n",
    "b = [100, 95, 98]\n",
    "print(zip(a, b))\n",
    "print(list(zip(a, b)))\n",
    "print('*' * 80)\n",
    "\n",
    "for i in zip(a, b):\n",
    "    print(i)\n",
    "print('*' * 80)\n",
    "\n",
    "for subject, score in zip(a, b):\n",
    "    print(subject, score)"
   ]
  },
  {
   "cell_type": "code",
   "execution_count": 12,
   "id": "eccffbee",
   "metadata": {},
   "outputs": [
    {
     "name": "stdout",
     "output_type": "stream",
     "text": [
      "[253, 256, 233]\n"
     ]
    }
   ],
   "source": [
    "java = [100, 85, 91]\n",
    "python = [88, 97, 79]\n",
    "spring = [65, 74, 63]\n",
    "\n",
    "total = []\n",
    "for j, p, s in zip(java, python, spring):\n",
    "    total.append(j + p + s)\n",
    "print(total)"
   ]
  },
  {
   "cell_type": "code",
   "execution_count": null,
   "id": "53e41905",
   "metadata": {},
   "outputs": [],
   "source": []
  },
  {
   "cell_type": "code",
   "execution_count": null,
   "id": "e8c25995",
   "metadata": {},
   "outputs": [],
   "source": []
  }
 ],
 "metadata": {
  "kernelspec": {
   "display_name": "Python 3",
   "language": "python",
   "name": "python3"
  },
  "language_info": {
   "codemirror_mode": {
    "name": "ipython",
    "version": 3
   },
   "file_extension": ".py",
   "mimetype": "text/x-python",
   "name": "python",
   "nbconvert_exporter": "python",
   "pygments_lexer": "ipython3",
   "version": "3.6.8"
  }
 },
 "nbformat": 4,
 "nbformat_minor": 5
}
