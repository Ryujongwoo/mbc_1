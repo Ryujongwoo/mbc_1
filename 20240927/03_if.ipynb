{
 "cells": [
  {
   "cell_type": "markdown",
   "id": "fff43eff",
   "metadata": {},
   "source": [
    "if 명령 형식\n",
    "\n",
    "if 조건식:  \n",
    "&nbsp;&nbsp;&nbsp;&nbsp;조건식이 참일 경우 실행할 문장  \n",
    "&nbsp;&nbsp;&nbsp;&nbsp;...  \n",
    "else:  \n",
    "&nbsp;&nbsp;&nbsp;&nbsp;조건식이 거짓일 경우 실행할 문장  \n",
    "&nbsp;&nbsp;&nbsp;&nbsp;...\n",
    "***\n",
    "조건식을 만족하지 않을때 아무런 일도 할 필요가 없다면 else 이하를 생략할 수 있다."
   ]
  },
  {
   "cell_type": "markdown",
   "id": "148f2b51",
   "metadata": {},
   "source": [
    "관계 연산자\n",
    "\n",
    "&nbsp;< &nbsp;: 작다, 미만  \n",
    "&nbsp;<= : 작거나 같다, 이하  \n",
    "&nbsp;> &nbsp;: 크다, 초과  \n",
    "&nbsp;<= : 크거나 같다, 이상  \n",
    "&nbsp;== : 같다  \n",
    "&nbsp;!= : 같지 않다"
   ]
  },
  {
   "cell_type": "markdown",
   "id": "d9a6bb22",
   "metadata": {},
   "source": [
    "논리 연산자\n",
    "\n",
    "and : 논리곱, 두 조건이 모두 참일 경우에만 참, ~이고, ~이면서, ~중에서  \n",
    "or &nbsp;: 논리합, 두 조건 중에서 한 개 이상 참일 경우에 참, ~또는, ~이거나  \n",
    "not : 논리 부정\n",
    "\n",
    "<img src='./andOrNot.png' width='800' align='left'>"
   ]
  },
  {
   "cell_type": "markdown",
   "id": "7536bce4",
   "metadata": {},
   "source": [
    "연산자 우선 순위  \n",
    "단항 연산자 => 이항 연산자 => 삼항 연산자 => 대입 연산자('='와 함께 사용한다)  \n",
    "이항 연산자: 산술 연산자(** => *, /, //, % => +, - => 관계 연산자 => 논리 연산자(not => and => or)"
   ]
  },
  {
   "cell_type": "code",
   "execution_count": 10,
   "id": "fe204b48",
   "metadata": {},
   "outputs": [
    {
     "name": "stdout",
     "output_type": "stream",
     "text": [
      "나이를 입력하세요: 17\n",
      "<class 'int'>\n",
      "투표권이 없습니다.\n"
     ]
    }
   ],
   "source": [
    "# 나이를 입력받아 투표권이 있나 없나 판단한다.\n",
    "age = int(input('나이를 입력하세요: '))\n",
    "print(type(age))\n",
    "\n",
    "if age >= 18:\n",
    "    print('투표권이 있습니다.')\n",
    "else:\n",
    "    print('투표권이 없습니다.')"
   ]
  },
  {
   "cell_type": "markdown",
   "id": "4a71b454",
   "metadata": {},
   "source": [
    "문자열 인덱싱과 슬라이싱  \n",
    "\n",
    "인덱싱은 문자열에서 특정 문자 1개를 얻어올때 사용한다.  \n",
    "슬라이싱은 문자열에서 연속된 2개 이상의 문자를 얻어올때 사용한다."
   ]
  },
  {
   "cell_type": "code",
   "execution_count": 15,
   "id": "fd0c643f",
   "metadata": {},
   "outputs": [],
   "source": [
    "juminNo = '0304224185600'"
   ]
  },
  {
   "cell_type": "code",
   "execution_count": 20,
   "id": "92133da9",
   "metadata": {},
   "outputs": [
    {
     "name": "stdout",
     "output_type": "stream",
     "text": [
      "4\n",
      "0\n",
      "0\n"
     ]
    }
   ],
   "source": [
    "# 인덱싱은 []안에 얻어올 문자의 인덱스를 지정한다.\n",
    "print(juminNo[6])\n",
    "print(juminNo[12])\n",
    "# 파이썬은 음수 인덱싱을 지원한다.\n",
    "print(juminNo[-1])"
   ]
  },
  {
   "cell_type": "code",
   "execution_count": 27,
   "id": "be5faf96",
   "metadata": {},
   "outputs": [
    {
     "name": "stdout",
     "output_type": "stream",
     "text": [
      "224\n",
      "030422\n",
      "030422\n",
      "4185600\n",
      "4185600\n"
     ]
    }
   ],
   "source": [
    "# 슬라이싱은 []안에 ':'으로 시작 인덱스와 끝 인덱스를 지정한다.\n",
    "# [시작 인덱스:끝 인덱스]와 같이 지정하며 시작 인덱스 부터 끝 인덱스 - 1 번째 위치의 문자열을 얻어온다.\n",
    "print(juminNo[4:7])\n",
    "# 시작 인덱스를 생략하면 처음부터 얻어오고 끝 인덱스를 생략하면 마지막까지 얻어온다.\n",
    "print(juminNo[0:6])\n",
    "print(juminNo[:6])\n",
    "print(juminNo[6:13])\n",
    "print(juminNo[6:])"
   ]
  },
  {
   "cell_type": "code",
   "execution_count": 46,
   "id": "89e181f2",
   "metadata": {},
   "outputs": [
    {
     "name": "stdout",
     "output_type": "stream",
     "text": [
      "주민등록번호 13자리를 \"-\"없이 입력하세요: 8304227185600\n",
      "7\n",
      "<class 'str'>\n",
      "여자\n",
      "여자\n",
      "여자\n",
      "여자\n",
      "남자\n"
     ]
    }
   ],
   "source": [
    "# 주민등록번호를 입력받아 성별을 판단한다.\n",
    "juminNo = input('주민등록번호 13자리를 \"-\"없이 입력하세요: ')\n",
    "print(juminNo[6])\n",
    "print(type(juminNo[6]))\n",
    "\n",
    "# 문자열로 비교\n",
    "if juminNo[6] == '1' or juminNo[6] == '3' or juminNo[6] == '5':\n",
    "    print('남자')\n",
    "else:\n",
    "    print('여자')\n",
    "    \n",
    "if juminNo[6] in ['1', '3', '5']: # in 연산자 <=> not in 연산자\n",
    "    print('남자')\n",
    "else:\n",
    "    print('여자')\n",
    "    \n",
    "# 숫자로 비교\n",
    "if int(juminNo[6]) == 1 or int(juminNo[6]) == 3 or int(juminNo[6]) == 5:\n",
    "    print('남자')\n",
    "else:\n",
    "    print('여자')\n",
    "    \n",
    "if int(juminNo[6]) in [1, 3, 5]:\n",
    "    print('남자')\n",
    "else:\n",
    "    print('여자')\n",
    "    \n",
    "# 성별이 홀수면 남자, 짝수면 여자\n",
    "if int(juminNo[6]) % 2 == 1:\n",
    "    print('남자')\n",
    "else:\n",
    "    print('여자')"
   ]
  },
  {
   "cell_type": "code",
   "execution_count": 58,
   "id": "bf5cebb4",
   "metadata": {},
   "outputs": [
    {
     "name": "stdout",
     "output_type": "stream",
     "text": [
      "주민등록번호 13자리를 \"-\"없이 입력하세요: 0304222185600\n",
      "03\n",
      "03\n",
      "<class 'str'>\n",
      "3\n",
      "당신의 나이는 121살 입니다.\n"
     ]
    }
   ],
   "source": [
    "# 주민등록번호를 입력받아 나이를 출력한다.\n",
    "juminNo = input('주민등록번호 13자리를 \"-\"없이 입력하세요: ')\n",
    "print(juminNo[0:2])\n",
    "print(juminNo[:2])\n",
    "print(type(juminNo[:2]))\n",
    "# 프로그램에서 같은 값이 여러번 사용될 경우 변수에 저장해서 사용하면 편리하다.\n",
    "year = int(juminNo[:2])\n",
    "print(year)\n",
    "\n",
    "if juminNo[6] <= '2':\n",
    "    print('당신의 나이는 {}살 입니다.'.format(2024 - year - 1900))\n",
    "else:\n",
    "    print('당신의 나이는 {}살 입니다.'.format(2024 - year - 2000))"
   ]
  },
  {
   "cell_type": "code",
   "execution_count": 64,
   "id": "aa56d7f7",
   "metadata": {},
   "outputs": [
    {
     "name": "stdout",
     "output_type": "stream",
     "text": [
      "윤년/평년을 판별할 년도를 입력하세요: 2100\n",
      "2100년은 평년입니다.\n"
     ]
    }
   ],
   "source": [
    "# 윤년, 평년 판단하기\n",
    "# 년도가 4로 나눠 떨어지고 100으로 나눠 떨어지지 않거나 400으로 나눠 떨어지면 윤년, 그렇치 않으면 평년\n",
    "year = int(input('윤년/평년을 판별할 년도를 입력하세요: '))\n",
    "\n",
    "if year % 4 == 0 and year % 100 != 0 or year % 400 == 0:\n",
    "    print('{}년은 윤년입니다.'.format(year))\n",
    "else:\n",
    "    print('{}년은 평년입니다.'.format(year))"
   ]
  },
  {
   "cell_type": "code",
   "execution_count": 65,
   "id": "d87c8744",
   "metadata": {},
   "outputs": [],
   "source": [
    "# 난수를 발생시키는 random 모듈을 import 한다.\n",
    "import random"
   ]
  },
  {
   "cell_type": "code",
   "execution_count": 90,
   "id": "46c97cea",
   "metadata": {},
   "outputs": [
    {
     "name": "stdout",
     "output_type": "stream",
     "text": [
      "5\n",
      "0.6871264961073245\n",
      "2\n"
     ]
    }
   ],
   "source": [
    "# randint(a, b) 메소드는 a 부터 b 사이의 난수를 정수로 발생시킨다.\n",
    "print(random.randint(1, 6))\n",
    "# random() 메소드는 0이상이고 1미만인 난수를 실수로 발생시킨다.\n",
    "print(random.random())\n",
    "# randrange(a, b) 메소드는 a 부터 b - 1 사이의 난수를 정수로 발생시킨다.\n",
    "print(random.randrange(1, 6))"
   ]
  },
  {
   "cell_type": "code",
   "execution_count": 92,
   "id": "eeda4aeb",
   "metadata": {},
   "outputs": [
    {
     "name": "stdout",
     "output_type": "stream",
     "text": [
      "22\n",
      "29\n",
      "18\n",
      "23\n",
      "39\n",
      "30\n"
     ]
    }
   ],
   "source": [
    "print(random.randint(1, 45))\n",
    "print(random.randint(1, 45))\n",
    "print(random.randint(1, 45))\n",
    "print(random.randint(1, 45))\n",
    "print(random.randint(1, 45))\n",
    "print(random.randint(1, 45))"
   ]
  },
  {
   "cell_type": "code",
   "execution_count": 101,
   "id": "f4c3054e",
   "metadata": {},
   "outputs": [
    {
     "name": "stdout",
     "output_type": "stream",
     "text": [
      "가위(1), 바위(2), 보(3): 3\n",
      "cpu: 2, user: 3\n",
      "이겼다.\n"
     ]
    }
   ],
   "source": [
    "# 가위(1), 바위(2), 보(3)\n",
    "cpu = random.randint(1, 3)\n",
    "user = int(input('가위(1), 바위(2), 보(3): '))\n",
    "print('cpu: {}, user: {}'.format(cpu, user))\n",
    "\n",
    "if cpu == user:\n",
    "    print('비겼다.')\n",
    "elif (cpu == 1 and user == 2) or (cpu == 2 and user == 3) or (cpu == 3 and user == 1):\n",
    "    print('이겼다.')\n",
    "else:\n",
    "    print('졌다.')"
   ]
  },
  {
   "cell_type": "code",
   "execution_count": null,
   "id": "5c621d12",
   "metadata": {},
   "outputs": [],
   "source": []
  },
  {
   "cell_type": "code",
   "execution_count": null,
   "id": "f96ea70e",
   "metadata": {},
   "outputs": [],
   "source": []
  },
  {
   "cell_type": "code",
   "execution_count": null,
   "id": "ded04c35",
   "metadata": {},
   "outputs": [],
   "source": []
  },
  {
   "cell_type": "code",
   "execution_count": null,
   "id": "a6d660bb",
   "metadata": {},
   "outputs": [],
   "source": []
  }
 ],
 "metadata": {
  "kernelspec": {
   "display_name": "Python 3",
   "language": "python",
   "name": "python3"
  },
  "language_info": {
   "codemirror_mode": {
    "name": "ipython",
    "version": 3
   },
   "file_extension": ".py",
   "mimetype": "text/x-python",
   "name": "python",
   "nbconvert_exporter": "python",
   "pygments_lexer": "ipython3",
   "version": "3.6.8"
  }
 },
 "nbformat": 4,
 "nbformat_minor": 5
}
