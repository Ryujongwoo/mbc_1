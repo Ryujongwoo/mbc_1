{
 "cells": [
  {
   "cell_type": "code",
   "execution_count": 1,
   "id": "fdcf6007",
   "metadata": {},
   "outputs": [],
   "source": [
    "import random\n",
    "import time"
   ]
  },
  {
   "cell_type": "code",
   "execution_count": 9,
   "id": "e86d3856",
   "metadata": {},
   "outputs": [
    {
     "name": "stdout",
     "output_type": "stream",
     "text": [
      "흰공: 04 29 10 48 19 빨강공: 12\n"
     ]
    }
   ],
   "source": [
    "# 1 ~ 69 => 5개, 1 ~ 26 => 1개\n",
    "powerball = [i for i in range(1, 70)]\n",
    "# print(powerball)\n",
    "# random.shuffle(powerball)\n",
    "powerball = random.sample(powerball, 5)\n",
    "print('흰공: ', end='')\n",
    "for i in range(5):\n",
    "    time.sleep(1)\n",
    "    print('{:02d}'.format(powerball[i]), end=' ')\n",
    "# ===== for\n",
    "time.sleep(1)\n",
    "print('빨강공: {:02d}'.format(random.randint(1, 26)))"
   ]
  },
  {
   "cell_type": "code",
   "execution_count": null,
   "id": "41472f51",
   "metadata": {},
   "outputs": [],
   "source": []
  },
  {
   "cell_type": "code",
   "execution_count": null,
   "id": "95928af9",
   "metadata": {},
   "outputs": [],
   "source": []
  }
 ],
 "metadata": {
  "kernelspec": {
   "display_name": "Python 3",
   "language": "python",
   "name": "python3"
  },
  "language_info": {
   "codemirror_mode": {
    "name": "ipython",
    "version": 3
   },
   "file_extension": ".py",
   "mimetype": "text/x-python",
   "name": "python",
   "nbconvert_exporter": "python",
   "pygments_lexer": "ipython3",
   "version": "3.6.8"
  }
 },
 "nbformat": 4,
 "nbformat_minor": 5
}
