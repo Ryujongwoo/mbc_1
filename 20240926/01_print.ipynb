{
 "cells": [
  {
   "cell_type": "markdown",
   "id": "398e90ec",
   "metadata": {},
   "source": [
    "jupyter notebook 화면 설정  \n",
    "C:\\사용자\\계정이름\\.jupyter 폴더에 custom 이라는 이름의 폴더를 만들고 custom.css 파일을 복사한다.  \n",
    ".jupyter 폴더가 보이지 않는다면 cmd를 실행해서 까만창에 jupyter notebook --generate-config를 실행하면 .jupyter 폴더가 생성된다.\n",
    "\n",
    "유용한 단축키  \n",
    "자동 완성: tab  \n",
    "코드 실행: ctrl + enter => 한 셀 실행, shift + enter => 한 셀 실행, 셀 실행 후 다음 셀로 이동, 다음 셀이 없으면 빈 셀이 추가된다.  \n",
    "현재 셀 위에 빈 셀 삽입: a  \n",
    "현재 셀 아래에 빈셀 삽입: b  \n",
    "현재 셀 삭제: dd  \n",
    "현재 셀 복사: c  \n",
    "현재 셀 자르기: x  \n",
    "현재 셀 아래에 복사 또는 잘라낸 셀 붙여넣기: v  \n",
    "코드 셀을 마크다운 셀로 바꾸기: m  \n",
    "마크다운 셀을 코드 셀로 바꾸기: y"
   ]
  },
  {
   "cell_type": "code",
   "execution_count": 1,
   "id": "8ff2f214",
   "metadata": {},
   "outputs": [],
   "source": [
    "# '#'으로 시작하면 1줄 주석 => 주석은 컴파일러(번역) 인터프리터(통역)가 기계어로 번역하지 않는다. => 코드 설명\n",
    "# ''' 부터 ''' 사이에 코딩하면 여러줄 주석을 지정할 수 있다."
   ]
  },
  {
   "cell_type": "code",
   "execution_count": 2,
   "id": "1e70b8f5",
   "metadata": {},
   "outputs": [
    {
     "data": {
      "image/png": "[encoded data removed]",
      "text/plain": [
       "<IPython.core.display.Image object>"
      ]
     },
     "execution_count": 2,
     "metadata": {
      "image/png": {
       "width": "500"
      }
     },
     "output_type": "execute_result"
    }
   ],
   "source": [
    "# 코드로 이미지 넣기\n",
    "from IPython.display import Image\n",
    "Image('./python-logo.png', width='500')"
   ]
  },
  {
   "cell_type": "markdown",
   "id": "42cbe87c",
   "metadata": {},
   "source": [
    "마크다운으로 이미지 넣기\n",
    "\n",
    "<img src='./python-logo.png' width='500' align='left'>"
   ]
  },
  {
   "cell_type": "code",
   "execution_count": 3,
   "id": "23d1100c",
   "metadata": {},
   "outputs": [
    {
     "name": "stdout",
     "output_type": "stream",
     "text": [
      "Hello Python\n",
      "안녕 파이썬\n",
      "제2외국어를 배운 호랑이가 \"야옹\" 했습니다.\n",
      "제2외국어를 배운 고양이가 '어흥' 했습니다.\n",
      "제2외국어를 배운 호랑이가 '야옹' 했습니다.\n",
      "제2외국어를 배운 고양이가 \"어흥\" 했습니다.\n"
     ]
    }
   ],
   "source": [
    "# 파이썬은 자바와 달리 문자와 문자열을 구분하지 않는다.\n",
    "# 파이썬은 문자나 문자열 데이터를 표현할 때 큰따옴표나 작은따옴표로 묶어주면 된다. => 짝만 맞추면 된다.\n",
    "# print() 함수는 별도의 설정을 하지 않으면 ()안의 내용을 출력하고 줄을 바꾼다.\n",
    "print('Hello Python')\n",
    "print(\"안녕 파이썬\")\n",
    "print('제2외국어를 배운 호랑이가 \"야옹\" 했습니다.')\n",
    "print(\"제2외국어를 배운 고양이가 '어흥' 했습니다.\")\n",
    "print('제2외국어를 배운 호랑이가 \\'야옹\\' 했습니다.')\n",
    "print(\"제2외국어를 배운 고양이가 \\\"어흥\\\" 했습니다.\")"
   ]
  },
  {
   "cell_type": "code",
   "execution_count": 4,
   "id": "0c0198cd",
   "metadata": {},
   "outputs": [
    {
     "name": "stdout",
     "output_type": "stream",
     "text": [
      "Hello Python\n",
      "안녕 파이썬\n",
      "Hello Python안녕 파이썬\n",
      "Hello Python: 안녕 파이썬\n"
     ]
    }
   ],
   "source": [
    "# print() 함수로 출력 후 줄을 변경하지 않으려면 end 옵션을 사용한다.\n",
    "# end 옵션은 print() 함수로 출력한 후 출력할 내용을 지정한다.\n",
    "# end 옵션을 생략하면 '\\n'이 기본값으로 사용된다. '\\n' => new line => 줄을 바꾼다.\n",
    "print('Hello Python', end='\\n')\n",
    "print(\"안녕 파이썬\")\n",
    "print('Hello Python', end='')\n",
    "print(\"안녕 파이썬\")\n",
    "print('Hello Python', end=': ')\n",
    "print(\"안녕 파이썬\")"
   ]
  },
  {
   "cell_type": "code",
   "execution_count": 5,
   "id": "8b369d04",
   "metadata": {},
   "outputs": [
    {
     "name": "stdout",
     "output_type": "stream",
     "text": [
      "Hello Python 안녕 파이썬\n",
      "Hello Python 안녕 파이썬\n",
      "Hello Python, 안녕 파이썬\n",
      "Hello Python|안녕 파이썬\n",
      "Hello Python~(^^!)안녕 파이썬\n"
     ]
    }
   ],
   "source": [
    "# print() 함수로 2개 이상의 데이터를 출력하려면 ','로 구분해서 출력하면 된다.\n",
    "print('Hello Python', \"안녕 파이썬\")\n",
    "# print() 함수로 출력할 때 ','로 데이터를 구분하면 sep 옵션에서 지정한 구분자가 데이터와 데이터 사이에 출력된다.\n",
    "# sep 옵션을 생략하면 공백 1칸이 기본값으로 사용된다.\n",
    "print('Hello Python', \"안녕 파이썬\", sep=' ')\n",
    "print('Hello Python', \"안녕 파이썬\", sep=', ')\n",
    "print('Hello Python', \"안녕 파이썬\", sep='|')\n",
    "print('Hello Python', \"안녕 파이썬\", sep='~(^^!)')"
   ]
  },
  {
   "cell_type": "code",
   "execution_count": 6,
   "id": "a34ceff5",
   "metadata": {},
   "outputs": [
    {
     "name": "stdout",
     "output_type": "stream",
     "text": [
      "13\n",
      "58\n"
     ]
    }
   ],
   "source": [
    "print(5 + 8) # 숫자와 숫자 사이에 '+' 연산자를 사용하면 덧셈 연산이 실행된다.\n",
    "print('5' + '8') # 문자열과 문자열 사이에 '+' 연산자를 사용하면 문자열 데이터를 연결한다.\n",
    "# 파이썬은 숫자와 숫자를 '+' 연산자를 사용하면 덧셈 연산을 실행하고 문자열과 문자열에 '+' 연산자를\n",
    "# 사용하면 문자열을 연결하지만 숫자와 문자열 또는 문자열과 숫자 사이에 '+' 연산자를 사용하면 에러가 발생된다.\n",
    "# print(5 + '8') # 에러\n",
    "# print('5' + 8) # 에러"
   ]
  },
  {
   "cell_type": "code",
   "execution_count": 7,
   "id": "7d22c645",
   "metadata": {},
   "outputs": [
    {
     "name": "stdout",
     "output_type": "stream",
     "text": [
      "================================================================================\n",
      "================================================================================\n"
     ]
    }
   ],
   "source": [
    "# '*' 연산자를 사용하면 특정 문자열을 지정한 횟수만큼 반복시킬 수 있다.\n",
    "print('================================================================================')\n",
    "print('=' * 80)"
   ]
  },
  {
   "cell_type": "code",
   "execution_count": 8,
   "id": "e4e22fa9",
   "metadata": {},
   "outputs": [
    {
     "name": "stdout",
     "output_type": "stream",
     "text": [
      "13\n",
      "58\n"
     ]
    }
   ],
   "source": [
    "# int() 함수는 인수로 지정된 데이터를 정수로 변환한다.\n",
    "print(5 + int('8'))\n",
    "# str() 함수는 인수로 지정된 데이터를 문자열로 변환한다.\n",
    "print('5' + str(8))"
   ]
  },
  {
   "cell_type": "markdown",
   "id": "ecdbd824",
   "metadata": {},
   "source": [
    "'%'와 서식 문자를 이용해서 출력하기\n",
    "\n",
    "서식문자  \n",
    "d(정수), f(실수), s(문자열)를 사용해서 출력 서식을 지정할 수 있고 출력 서식을 제외한 나머지 문자들은 그대로 출력된다.\n",
    "\n",
    "출력 서식의 형식  \n",
    "%[-][0][n][.m]서식문자 => [] 안의 내용은 생략할 수 있다.  \n",
    "n: 출력할 전체 자리수, 출력할 전체 자리수가 지정되면 데이터는 오른쪽으로 정렬되서 출력된다.  \n",
    "-: 전체 자리수가 지정된 경우 데이터를 왼쪽으로 정렬해서 출력한다.  \n",
    "0: 전체 자리수가 지정된 경우 숫자 왼쪽의 남는 자리에 '0'이 채워져서 출력된다. => 문자열 데이터에서는 무시된다.  \n",
    ".m: 실수를 출력할 경우 소수점 아래 자리수를 지정한다."
   ]
  },
  {
   "cell_type": "code",
   "execution_count": 9,
   "id": "d05044d0",
   "metadata": {},
   "outputs": [
    {
     "name": "stdout",
     "output_type": "stream",
     "text": [
      "100\n",
      "1\n",
      "10000\n"
     ]
    }
   ],
   "source": [
    "print(100)\n",
    "print(1)\n",
    "print(10000)"
   ]
  },
  {
   "cell_type": "markdown",
   "id": "e9b7f21b",
   "metadata": {},
   "source": [
    "print('출력 서식' % 출력할 데이터) => 출력할 데이터가 1개일 경우"
   ]
  },
  {
   "cell_type": "code",
   "execution_count": 10,
   "id": "4e2444f4",
   "metadata": {},
   "outputs": [
    {
     "name": "stdout",
     "output_type": "stream",
     "text": [
      "  100\n",
      "    1\n",
      "2    \n",
      "00003\n",
      "10000\n"
     ]
    }
   ],
   "source": [
    "print('%5d' % 100)\n",
    "print('%5d' % 1)\n",
    "print('%-5d' % 2)\n",
    "print('%05d' % 3)\n",
    "print('%5d' % 10000)"
   ]
  },
  {
   "cell_type": "code",
   "execution_count": 11,
   "id": "6ef6439e",
   "metadata": {},
   "outputs": [
    {
     "name": "stdout",
     "output_type": "stream",
     "text": [
      "abc\n",
      "a\n",
      "abcde\n"
     ]
    }
   ],
   "source": [
    "print('abc')\n",
    "print('a')\n",
    "print('abcde')"
   ]
  },
  {
   "cell_type": "code",
   "execution_count": 12,
   "id": "3a9315d5",
   "metadata": {},
   "outputs": [
    {
     "name": "stdout",
     "output_type": "stream",
     "text": [
      "  abc\n",
      "    a\n",
      "b    \n",
      "    c\n",
      "abcde\n"
     ]
    }
   ],
   "source": [
    "print('%5s' % 'abc')\n",
    "print('%5s' % 'a')\n",
    "print('%-5s' % 'b')\n",
    "print('%05s' % 'c') # c/c++은 0이 출력되고 java는 에러가 발생되고 python은 무시한다.\n",
    "print('%5s' % 'abcde')"
   ]
  },
  {
   "cell_type": "code",
   "execution_count": 13,
   "id": "8f9bf1a0",
   "metadata": {},
   "outputs": [
    {
     "name": "stdout",
     "output_type": "stream",
     "text": [
      "123\n",
      "123.450000\n",
      "123.45\n",
      "123.46\n",
      "123.40\n"
     ]
    }
   ],
   "source": [
    "print('%d' % 123.45) # 실수 데이터를 정수 서식으로 출력해서 정수로 출력된다.\n",
    "print('%f' % 123.45)\n",
    "print('%6.2f' % 123.45)\n",
    "print('%6.2f' % 123.456) # 소수점 아래 숫자는 잘리는 자리에서 반올림해 출력한다. => 실제 데이터는 변하지 않는다.\n",
    "print('%6.2f' % 123.4) # 남는 자리에 0이 채워져서 출력된다."
   ]
  },
  {
   "cell_type": "markdown",
   "id": "4906887e",
   "metadata": {},
   "source": [
    "print('출력 서식' % (출력할 데이터, ...)) => 출력할 데이터가 여러개일 경우  \n",
    "서식을 지정해서 출력할 데이터가 2건 이상이라면 출력할 데이터를 반드시 ()로 묶어야 한다."
   ]
  },
  {
   "cell_type": "code",
   "execution_count": 14,
   "id": "ee6f6365",
   "metadata": {},
   "outputs": [
    {
     "name": "stdout",
     "output_type": "stream",
     "text": [
      "5 + 3 = 8\n",
      "5 - 3 = 2\n",
      "5 * 3 = 15\n",
      "5 / 3 = 1\n",
      "5 / 3 = 1.666667\n",
      "5 // 3 = 1\n",
      "5 // 3 = 1.000000\n",
      "5 % 3 = 2\n",
      "2의 10승 = 1024\n",
      "루트 2 = 1.414214\n"
     ]
    }
   ],
   "source": [
    "print('%d + %d = %d' % (5, 3, 5 + 3)) # 덧셈\n",
    "print('%d - %d = %d' % (5, 3, 5 - 3)) # 뺄셈\n",
    "print('%d * %d = %d' % (5, 3, 5 * 3)) # 곱셈\n",
    "# 파이썬은 '/' 연산자로 나눗셈을 하면 소수점 아래까지 계산된다.\n",
    "print('%d / %d = %d' % (5, 3, 5 / 3)) # 실수 나눗셈, 연산 결과는 실수지만 %d(정수)로 출력해서 1이 출력된다.\n",
    "print('%d / %d = %f' % (5, 3, 5 / 3)) # 실수 나눗셈\n",
    "# 파이썬은 '//' 연산자로 나눗셈을 하면 몫만 계산된다.\n",
    "print('%d // %d = %d' % (5, 3, 5 // 3)) # 정수 나눗셈\n",
    "print('%d // %d = %f' % (5, 3, 5 // 3)) # 정수 나눗셈, 연산 결과는 정수지만 %f(실수)로 출력해서 .000000이 출력된다.\n",
    "# '%' 자체를 출력하려면 2개를 연속해서 써야한다.\n",
    "print('%d %% %d = %d' % (5, 3, 5 % 3)) # 나머지\n",
    "print('%d의 %d승 = %d' % (2, 10, 2 ** 10)) # 거듭제곱\n",
    "print('루트 %d = %f' % (2, 2 ** 0.5)) # 제곱근"
   ]
  },
  {
   "cell_type": "code",
   "execution_count": 15,
   "id": "a9f341e1",
   "metadata": {},
   "outputs": [],
   "source": [
    "# 수학에 관련된 메소드를 사용하려면 math 모듈을 import 시킨다.\n",
    "import math"
   ]
  },
  {
   "cell_type": "code",
   "execution_count": 16,
   "id": "5cc28d6f",
   "metadata": {},
   "outputs": [
    {
     "name": "stdout",
     "output_type": "stream",
     "text": [
      "2의 10승 = 1024\n",
      "루트 2 = 1.414214\n"
     ]
    }
   ],
   "source": [
    "print('%d의 %d승 = %d' % (2, 10, math.pow(2, 10))) # 거듭제곱\n",
    "print('루트 %d = %f' % (2, math.sqrt(2))) # 제곱근"
   ]
  },
  {
   "cell_type": "markdown",
   "id": "128d560d",
   "metadata": {},
   "source": [
    "산술 연산자 우선순위: () → ** → * / // % → + -\n",
    "\n",
    "{}와 format() 메소드를 사용한 출력 서식 지정하기\n",
    "\n",
    "'%'로 서식을 지정할 때는 %d, %f, %s 위치에 데이터가 대입되서 출력되었지만 {}를 사용하면 {}에 데이터가 대입되서 출력된다."
   ]
  },
  {
   "cell_type": "code",
   "execution_count": 21,
   "id": "511ef755",
   "metadata": {},
   "outputs": [
    {
     "name": "stdout",
     "output_type": "stream",
     "text": [
      "5 + 3 = 8\n",
      "5 + 3 = 8\n",
      "5 - 3 = 2\n",
      "5 * 3 = 15\n",
      "5 / 3 = 1.6666666666666667\n",
      "5 // 3 = 1\n",
      "5 % 3 = 2\n",
      "2의 10승 = 1024\n",
      "루트 2 = 1.4142135623730951\n"
     ]
    }
   ],
   "source": [
    "print('%d + %d = %d' % (5, 3, 5 + 3))\n",
    "print('{} + {} = {}'.format(5, 3, 5 + 3))\n",
    "print('{} - {} = {}'.format(5, 3, 5 - 3))\n",
    "print('{} * {} = {}'.format(5, 3, 5 * 3))\n",
    "print('{} / {} = {}'.format(5, 3, 5 / 3))\n",
    "print('{} // {} = {}'.format(5, 3, 5 // 3))\n",
    "print('{} % {} = {}'.format(5, 3, 5 % 3))\n",
    "print('{}의 {}승 = {}'.format(2, 10, 2 ** 10))\n",
    "print('루트 {} = {}'.format(2, 2 ** 0.5))"
   ]
  },
  {
   "cell_type": "markdown",
   "id": "1df8035a",
   "metadata": {},
   "source": [
    "format() 메소드와 출력할 데이터의 인덱스를 이용해서 출력하기 => 인덱스는 0부터 시작된다."
   ]
  },
  {
   "cell_type": "code",
   "execution_count": 24,
   "id": "722ea6f3",
   "metadata": {},
   "outputs": [
    {
     "name": "stdout",
     "output_type": "stream",
     "text": [
      "홍길동 바보\n",
      "홍길동\n"
     ]
    }
   ],
   "source": [
    "print('{} {}'.format('홍길동', '바보'))\n",
    "# 인덱스를 지정하지 않은 상태에서 아래와 같이 {}의 개수가 출력할 데이터의 개수보다 많으면 에러가 발생된다.\n",
    "# print('{} {} {}'.format('홍길동', '바보')) # 에러\n",
    "# {}가 모자라면 남는 데이터는 무시된다.\n",
    "print('{}'.format('홍길동', '바보'))"
   ]
  },
  {
   "cell_type": "code",
   "execution_count": 30,
   "id": "9943d4a5",
   "metadata": {},
   "outputs": [
    {
     "name": "stdout",
     "output_type": "stream",
     "text": [
      "홍길동 바보\n",
      "바보 홍길동\n",
      "홍길동 바보 홍길동\n"
     ]
    }
   ],
   "source": [
    "print('{0} {1}'.format('홍길동', '바보'))\n",
    "print('{1} {0}'.format('홍길동', '바보'))\n",
    "# 인덱스를 지정하지 않은 상태에서 아래와 같이 사용하면 {}가 출력할 데이터의 개수보다 많기때문에 에러가 발생되었지만\n",
    "# {}에 출력할 데이터의 인덱스를 지정하면 {}의 개수와 데이터의 개수가 다르더라도 인덱스 범위만 벗어나지 않는다면\n",
    "# 에러가 발생되지 않는다.\n",
    "print('{0} {1} {0}'.format('홍길동', '바보'))\n",
    "# {}에 지정한 인덱스가 인덱스의 범위를 벗어나면 에러가 발생된다.\n",
    "# print('{0} {1} {2}'.format('홍길동', '바보')) # 에러\n",
    "# {}에 인덱스를 부분적으로 지정하면 에러가 발생된다.\n",
    "# print('{0} {}'.format('홍길동', '바보')) # 에러"
   ]
  },
  {
   "cell_type": "markdown",
   "id": "73c77fdf",
   "metadata": {},
   "source": [
    "{인덱스:출력서식} => 인덱스를 지정하지 않고 출력 서식만 지정할 수 있는데, 이 때 ':'는 생략하면 안되고 '%'를 사용하지 않는다."
   ]
  },
  {
   "cell_type": "code",
   "execution_count": 41,
   "id": "81661556",
   "metadata": {},
   "outputs": [
    {
     "name": "stdout",
     "output_type": "stream",
     "text": [
      "        멜론는(은)   15000원 입니다.\n",
      "멜론는(은) 15000원 입니다.\n",
      "멜론는(은) 15000원 입니다.\n",
      "멜론        는(은)   15000원 입니다.\n",
      "멜론        는(은)   15000원 입니다.\n",
      "멜론        는(은)  15,000원 입니다.\n",
      "멜론        는(은) 15,000.990000원 입니다.\n",
      "멜론        는(은) 15,000.99원 입니다.\n",
      "멜론        는(은) 1.5e+04원 입니다.\n",
      "멜론        는(은) 1,500,099.00%원 입니다.\n"
     ]
    }
   ],
   "source": [
    "print('%10s는(은) %7d원 입니다.' % ('멜론', 15000))\n",
    "print('{}는(은) {}원 입니다.'.format('멜론', 15000))\n",
    "print('{0}는(은) {1}원 입니다.'.format('멜론', 15000))\n",
    "print('{0:10s}는(은) {1:7d}원 입니다.'.format('멜론', 15000))\n",
    "print('{:10s}는(은) {:7d}원 입니다.'.format('멜론', 15000))\n",
    "print('{:10s}는(은) {:7,d}원 입니다.'.format('멜론', 15000))\n",
    "print('{:10s}는(은) {:7,f}원 입니다.'.format('멜론', 15000.99))\n",
    "print('{:10s}는(은) {:7,.2f}원 입니다.'.format('멜론', 15000.99))\n",
    "print('{:10s}는(은) {:7,.2}원 입니다.'.format('멜론', 15000.99))\n",
    "print('{:10s}는(은) {:7,.2%}원 입니다.'.format('멜론', 15000.99))"
   ]
  },
  {
   "cell_type": "code",
   "execution_count": 45,
   "id": "b4cdcc07",
   "metadata": {},
   "outputs": [
    {
     "name": "stdout",
     "output_type": "stream",
     "text": [
      "멜론        는(은)   15000원 입니다.\n",
      "멜론        는(은)   15000원 입니다.\n",
      "    멜론    는(은)   15000원 입니다.\n",
      "        멜론는(은)   15000원 입니다.\n"
     ]
    }
   ],
   "source": [
    "# '<', '^', '>'를 사용해서 문자열 정렬 방식을 지정할 수 있다. => '<'가 기본값으로 사용된다.\n",
    "print('{:10s}는(은) {:7d}원 입니다.'.format('멜론', 15000)) # 기본값\n",
    "print('{:<10s}는(은) {:7d}원 입니다.'.format('멜론', 15000)) # 왼쪽 정렬\n",
    "print('{:^10s}는(은) {:7d}원 입니다.'.format('멜론', 15000)) # 가운데 정렬\n",
    "print('{:>10s}는(은) {:7d}원 입니다.'.format('멜론', 15000)) # 오른쪽 정렬"
   ]
  },
  {
   "cell_type": "code",
   "execution_count": 50,
   "id": "849533e1",
   "metadata": {},
   "outputs": [
    {
     "name": "stdout",
     "output_type": "stream",
     "text": [
      "멜론________는(은)   15000원 입니다.\n",
      "****멜론****는(은)   15000원 입니다.\n",
      "★★★★★★★★멜론는(은)   15000원 입니다.\n"
     ]
    }
   ],
   "source": [
    "# 문자열 출력시 남는 자리는 공백이 기본적으로 채워지지만 공백 대신에 사용할 채움 문자를 '<', '^', '>' 앞에 지정할 수 있다.\n",
    "# print('{:_10s}는(은) {:7d}원 입니다.'.format('멜론', 15000)) # 에러\n",
    "print('{:_<10s}는(은) {:7d}원 입니다.'.format('멜론', 15000))\n",
    "print('{:*^10s}는(은) {:7d}원 입니다.'.format('멜론', 15000))\n",
    "print('{:★>10s}는(은) {:7d}원 입니다.'.format('멜론', 15000))"
   ]
  },
  {
   "cell_type": "code",
   "execution_count": 51,
   "id": "5a0710b5",
   "metadata": {},
   "outputs": [
    {
     "name": "stdout",
     "output_type": "stream",
     "text": [
      "홍길동님은 20살 입니다.\n"
     ]
    }
   ],
   "source": [
    "# f접두어를 사용한 출력 => 파이썬 3.6에서 등장\n",
    "name = '홍길동'\n",
    "age = 20\n",
    "print(f'{name}님은 {age}살 입니다.')"
   ]
  },
  {
   "cell_type": "code",
   "execution_count": null,
   "id": "50c8ae7f",
   "metadata": {},
   "outputs": [],
   "source": []
  },
  {
   "cell_type": "code",
   "execution_count": null,
   "id": "2c233b70",
   "metadata": {},
   "outputs": [],
   "source": []
  }
 ],
 "metadata": {
  "kernelspec": {
   "display_name": "Python 3",
   "language": "python",
   "name": "python3"
  },
  "language_info": {
   "codemirror_mode": {
    "name": "ipython",
    "version": 3
   },
   "file_extension": ".py",
   "mimetype": "text/x-python",
   "name": "python",
   "nbconvert_exporter": "python",
   "pygments_lexer": "ipython3",
   "version": "3.6.8"
  }
 },
 "nbformat": 4,
 "nbformat_minor": 5
}
