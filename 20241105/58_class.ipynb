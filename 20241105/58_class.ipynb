{
 "cells": [
  {
   "cell_type": "markdown",
   "id": "68e475ec",
   "metadata": {},
   "source": [
    "class\n",
    "\n",
    "class는 데이터와 데이터를 처리하는 함수(클래스 내부에서 만든 함수를 메소드라 부른다)를 가지고 있는 자료형이다.\n",
    "***\n",
    "형식\n",
    "\n",
    "class 클래스이름: # 클래스 이름은 다른 변수와 구분하기 위해서 일반적으로 첫 문자를 대문자로 만들어 사용한다.\n",
    "\n",
    "&nbsp;&nbsp;&nbsp;&nbsp;# 생성자(초기자) 함수를 선언한다. => \\_\\_init__(self)  \n",
    "&nbsp;&nbsp;&nbsp;&nbsp;# 생성자(constructor)란 객체(클래스로 만드는 변수)가 생성될 때 자동으로 실행되는 함수이다.  \n",
    "&nbsp;&nbsp;&nbsp;&nbsp;# 클래스 내부에서 선언하는 모든 함수의 첫 번째 인수는 무조건 self를 써야한다.  \n",
    "&nbsp;&nbsp;&nbsp;&nbsp;# self라는 변수로 클래스 객체가 메모리에 생성된 주소가 자동으로 넘어간다. => self에 넘어온 주소로 객체를 식별한다.  \n",
    "&nbsp;&nbsp;&nbsp;&nbsp;# 생성자는 클래스의 멤버 변수(클래스 내부의 모든 함수에서 사용할 수 있는 변수)를 초기화시키는 목적으로 사용된다.  \n",
    "\n",
    "&nbsp;&nbsp;&nbsp;&nbsp;def \\_\\_init__(self[, 인수, ...]):  \n",
    "&nbsp;&nbsp;&nbsp;&nbsp;&nbsp;&nbsp;&nbsp;&nbsp;# 멤버 변수 초기화  \n",
    "&nbsp;&nbsp;&nbsp;&nbsp;&nbsp;&nbsp;&nbsp;&nbsp;# 변수 이름 앞에 self가 붙어있는 변수를 멤버 변수라 부르고 클래스 전체에서 사용할 수 있다.  \n",
    "&nbsp;&nbsp;&nbsp;&nbsp;&nbsp;&nbsp;&nbsp;&nbsp;# 변수 이름 앞에 self가 붙어있지 않은 변수를 지역 변수라 부르고 선언된 함수 내부에서만 사용할 수 있다.  \n",
    "&nbsp;&nbsp;&nbsp;&nbsp;&nbsp;&nbsp;&nbsp;&nbsp;self.멤버변수이름 = 생성자의 인수로 넘어온 데이터  \n",
    "&nbsp;&nbsp;&nbsp;&nbsp;&nbsp;&nbsp;&nbsp;&nbsp;...\n",
    "\n",
    "&nbsp;&nbsp;&nbsp;&nbsp;# 클래스에 저장된 데이터 출력에 사용하는 \\_\\_str(self)__ 함수는 java의 toString() 메소드와 같은 기능을 한다.  \n",
    "&nbsp;&nbsp;&nbsp;&nbsp;def \\_\\_str(self)__  \n",
    "&nbsp;&nbsp;&nbsp;&nbsp;&nbsp;&nbsp;&nbsp;&nbsp;# return으로 출력할 내용을 반드시 문자열로 만들어 리턴시킨다.  \n",
    "&nbsp;&nbsp;&nbsp;&nbsp;&nbsp;&nbsp;&nbsp;&nbsp;return '출력할 내용'"
   ]
  },
  {
   "cell_type": "code",
   "execution_count": 55,
   "id": "d58fdb27",
   "metadata": {},
   "outputs": [],
   "source": [
    "class Score:\n",
    "    # 생성자로 Score 클래스의 객체가 생성될 때 이름과 3과목의 점수를 넘겨받아 멤버 변수를 초기화시키고\n",
    "    # 총점과 평균을 계산한다.\n",
    "    # 생성자의 인수로 이름과 3과목의 점수가 넘어오지 않을 경우 이름은 '무명씨', 점수는 모두 0으로 초기화 한다.\n",
    "    def __init__(self, name='무명씨', java=0, python=0, spring=0):\n",
    "        # print('Score 클래스 객체가 생성될 때 자동으로 실행된다.')\n",
    "        # print(f'Score 클래스 객체가 메모리에 생성된 주소: {self}')\n",
    "        # 멤버 변수 초기화\n",
    "        self.name = name\n",
    "        self.java = java\n",
    "        self.python = python\n",
    "        self.spring = spring\n",
    "        # 총점과 평균을 계산한다.\n",
    "        self.total = java + python + spring\n",
    "        self.mean = self.total / 3\n",
    "        # print('{}님의 총점은 {}점 이고 평균은 {:.2f}점 입니다.'.format(name, self.total, self.mean))\n",
    "    # ===== __init__\n",
    "    \n",
    "    # 총점을 출력하는 함수\n",
    "    def getTotal(self):\n",
    "        print('{}님의 총점은 {}점 입니다.'.format(self.name, self.total))\n",
    "        \n",
    "    # 평균을 출력하는 함수\n",
    "    def getMean(self):\n",
    "        print('{}님의 평균은 {:.2f}점 입니다.'.format(self.name, self.mean))\n",
    "        \n",
    "    def __str__(self):\n",
    "        # return 'name: {}, java: {}, python: {}, spring: {}, total: {}, mean: {}'.format(self.name, self.java, self.python, self.spring, self.total, self.mean)\n",
    "        \n",
    "        # 파이썬은 1줄에 1문장 코딩이 원칙이지만 1줄에 2개 이상의 문장을 코딩하려면 문장과 문장을 ';'으로 구분하면 된다.\n",
    "        # 문자열을 구성하는 1문장이 너무 길어서 부득이하게 2줄 이상으로 나눠 코딩하려면 줄을 변경하는 부분에 '\\'를 입력하고\n",
    "        # 다음 줄에 코딩하면 '\\'를 입력한 줄과 아랫줄을 같은 문장으로 인식한다. => '\\'뒤에 공백이 있으면 에러가 발생된다.\n",
    "        '''\n",
    "        return 'name: {}, java: {}, python: {}, spring: {}, ' \\\n",
    "            'total: {}, mean: {}'.format(self.name, self.java, self.python, self.spring, self.total, self.mean)\n",
    "        '''\n",
    "        \n",
    "        # 줄 분리가 ()안에서 되는 경우 끝에 '\\'를 입력하지 않아도 같은 문자으로 인식한다.\n",
    "        return (\n",
    "            'name: {}, java: {}, python: {}, spring: {}, '\n",
    "            'total: {}, mean: {}'.format(self.name, self.java, self.python, self.spring, self.total, self.mean)\n",
    "        )"
   ]
  },
  {
   "cell_type": "code",
   "execution_count": 56,
   "id": "3c7b194c",
   "metadata": {},
   "outputs": [
    {
     "name": "stdout",
     "output_type": "stream",
     "text": [
      "홍길동님의 총점은 299점 이고 평균은 99.67점 입니다.\n",
      "홍길동님의 총점은 299점 입니다.\n",
      "홍길동님의 평균은 99.67점 입니다.\n",
      "name: 홍길동, java: 100, python: 100, spring: 99, total: 299, mean: 99.66666666666667\n"
     ]
    }
   ],
   "source": [
    "# 클래스 객체(변수) 선언 방법\n",
    "# 객체이름 = 생성자이름([생성자로 전달할 데이터, ...])\n",
    "# 클래스 객체를 선언하면 클래스의 객체가 메모리에 생성되는 주소가 생성자의 첫 번째 인수인 self로 전달된다.\n",
    "score1 = Score('홍길동', 100, 100, 99)\n",
    "\n",
    "# 클래스 객체의 멤버 변수(앞에 self를 붙인 변수)에 접근하는 방법\n",
    "# 파이썬은 접근 권한 지정자가 없기 때문에 '객체이름.멤버변수이름' 형태로 접근하면 된다.\n",
    "print('{}님의 총점은 {}점 이고 평균은 {:.2f}점 입니다.'.format(score1.name, score1.total, score1.mean))\n",
    "\n",
    "# 클래스 객체의 메소드 실행 방법\n",
    "# '객체이름.메소드이름()' 형태로 실행하면 된다.\n",
    "score1.getTotal() # 총점을 출력하는 함수를 실행한다.\n",
    "score1.getMean() # 평균을 출력하는 함수를 실행한다.\n",
    "\n",
    "# 클래스에서 __str__() 함수를 선언하지 않고 객체를 출력하면 객체가 메모리에 생성된 주소가 출력된다.\n",
    "print(score1)"
   ]
  },
  {
   "cell_type": "code",
   "execution_count": 57,
   "id": "ea6be2bd",
   "metadata": {},
   "outputs": [
    {
     "name": "stdout",
     "output_type": "stream",
     "text": [
      "무명씨님의 총점은 0점 이고 평균은 0.00점 입니다.\n",
      "무명씨님의 총점은 0점 입니다.\n",
      "무명씨님의 평균은 0.00점 입니다.\n",
      "name: 무명씨, java: 0, python: 0, spring: 0, total: 0, mean: 0.0\n"
     ]
    }
   ],
   "source": [
    "score2 = Score()\n",
    "print('{}님의 총점은 {}점 이고 평균은 {:.2f}점 입니다.'.format(score2.name, score2.total, score2.mean))\n",
    "score2.getTotal()\n",
    "score2.getMean()\n",
    "print(score2)"
   ]
  },
  {
   "cell_type": "code",
   "execution_count": null,
   "id": "3502e9c6",
   "metadata": {},
   "outputs": [],
   "source": []
  },
  {
   "cell_type": "code",
   "execution_count": null,
   "id": "10aca6c2",
   "metadata": {},
   "outputs": [],
   "source": []
  }
 ],
 "metadata": {
  "kernelspec": {
   "display_name": "Python 3",
   "language": "python",
   "name": "python3"
  },
  "language_info": {
   "codemirror_mode": {
    "name": "ipython",
    "version": 3
   },
   "file_extension": ".py",
   "mimetype": "text/x-python",
   "name": "python",
   "nbconvert_exporter": "python",
   "pygments_lexer": "ipython3",
   "version": "3.6.8"
  }
 },
 "nbformat": 4,
 "nbformat_minor": 5
}
