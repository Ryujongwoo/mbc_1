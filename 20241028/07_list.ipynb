{
 "cells": [
  {
   "cell_type": "markdown",
   "id": "dc124474",
   "metadata": {},
   "source": [
    "리스트 만들기\n",
    "\n",
    "리스트는 데이터를 []로 감싸주고 데이터와 데이터는 ','로 구분한다."
   ]
  },
  {
   "cell_type": "code",
   "execution_count": 4,
   "id": "1066e5b3",
   "metadata": {},
   "outputs": [
    {
     "name": "stdout",
     "output_type": "stream",
     "text": [
      "<class 'list'>\n",
      "[]\n",
      "********************************************************************************\n",
      "<class 'list'>\n",
      "[]\n"
     ]
    }
   ],
   "source": [
    "# 빈 리스트를 만들기\n",
    "a = []\n",
    "print(type(a))\n",
    "print(a)\n",
    "print('*' * 80)\n",
    "\n",
    "# 빈 리스트는 생성자 함수를 사용해서 만들 수 있다.\n",
    "b = list()\n",
    "print(type(b))\n",
    "print(b)"
   ]
  },
  {
   "cell_type": "code",
   "execution_count": 8,
   "id": "9d724608",
   "metadata": {},
   "outputs": [
    {
     "name": "stdout",
     "output_type": "stream",
     "text": [
      "<class 'list'>\n",
      "[1, 2, 3]\n",
      "********************************************************************************\n",
      "<class 'list'>\n",
      "['a', 'b', 'c']\n",
      "********************************************************************************\n",
      "<class 'list'>\n",
      "[100, 'aaa', 200, 'bbb']\n",
      "********************************************************************************\n",
      "<class 'list'>\n",
      "[[100, 'aaa'], [200, 'bbb']]\n"
     ]
    }
   ],
   "source": [
    "# 초기치를 가지는 리스트\n",
    "a = [1, 2, 3]\n",
    "print(type(a))\n",
    "print(a)\n",
    "print('*' * 80)\n",
    "\n",
    "b = ['a', 'b', 'c']\n",
    "print(type(b))\n",
    "print(b)\n",
    "print('*' * 80)\n",
    "\n",
    "c = [100, 'aaa', 200, 'bbb']\n",
    "print(type(c))\n",
    "print(c)\n",
    "print('*' * 80)\n",
    "\n",
    "d = [[100, 'aaa'], [200, 'bbb']]\n",
    "print(type(d))\n",
    "print(d)"
   ]
  },
  {
   "cell_type": "markdown",
   "id": "fd2381a7",
   "metadata": {},
   "source": [
    "파이썬을 설치할 때 같이 설치되는 datetime, random 같은 모듈은 import만 시켜서 사용하면 되지만 numpy, pandas 같은 모듈은 파이썬 설치시 같이 설치되지 않기 때문에 커맨드(까만) 창이나 jupyter notebook에서 설치해서 사용해야 한다.  \n",
    "커맨드 창 => pip install 라이브러리이름  \n",
    "jupyter notebook => !pip install 라이브러리이름"
   ]
  },
  {
   "cell_type": "code",
   "execution_count": 10,
   "id": "7f89c81b",
   "metadata": {},
   "outputs": [
    {
     "name": "stdout",
     "output_type": "stream",
     "text": [
      "Requirement already satisfied: numpy in c:\\python\\lib\\site-packages (1.19.5)\n"
     ]
    }
   ],
   "source": [
    "# !pip install numpy"
   ]
  },
  {
   "cell_type": "code",
   "execution_count": 11,
   "id": "1a977979",
   "metadata": {},
   "outputs": [],
   "source": [
    "import numpy as np"
   ]
  },
  {
   "cell_type": "code",
   "execution_count": 13,
   "id": "3730f747",
   "metadata": {},
   "outputs": [
    {
     "name": "stdout",
     "output_type": "stream",
     "text": [
      "<class 'numpy.ndarray'>\n",
      "[['100' 'aaa']\n",
      " ['200' 'bbb']]\n"
     ]
    }
   ],
   "source": [
    "array = np.array(d)\n",
    "print(type(array))\n",
    "print(array)"
   ]
  },
  {
   "cell_type": "markdown",
   "id": "c6d40ecb",
   "metadata": {},
   "source": [
    "리스트 인덱싱"
   ]
  },
  {
   "cell_type": "code",
   "execution_count": 19,
   "id": "5aafa17c",
   "metadata": {},
   "outputs": [
    {
     "name": "stdout",
     "output_type": "stream",
     "text": [
      "[1, 2, 3]\n",
      "1\n",
      "<class 'int'>\n",
      "3\n",
      "3\n"
     ]
    }
   ],
   "source": [
    "a = [1, 2, 3]\n",
    "print(a) # 리스트 이름은 리스트 전체를 의미한다.\n",
    "print(a[0])\n",
    "print(type(a[0]))\n",
    "print(a[2])\n",
    "print(a[-1])"
   ]
  },
  {
   "cell_type": "code",
   "execution_count": 24,
   "id": "25101184",
   "metadata": {},
   "outputs": [
    {
     "name": "stdout",
     "output_type": "stream",
     "text": [
      "[1, 2, 3, ['a', 'b', 'c']]\n",
      "4\n",
      "['a', 'b', 'c']\n",
      "3\n",
      "b\n"
     ]
    }
   ],
   "source": [
    "a = [1, 2, 3, ['a', 'b', 'c']]\n",
    "print(a)\n",
    "print(len(a)) # 리스트에 저장된 데이터의 개수\n",
    "print(a[-1])\n",
    "print(len(a[-1]))\n",
    "print(a[-1][1]) # 2차원 인덱싱"
   ]
  },
  {
   "cell_type": "code",
   "execution_count": 31,
   "id": "19c95fd4",
   "metadata": {},
   "outputs": [
    {
     "name": "stdout",
     "output_type": "stream",
     "text": [
      "[1, 2, ['a', 'b', [3.14, True]]]\n",
      "3\n",
      "3\n",
      "2\n",
      "3.14\n"
     ]
    }
   ],
   "source": [
    "a = [1, 2, ['a', 'b', [3.14, True]]]\n",
    "print(a)\n",
    "print(len(a))\n",
    "print(len(a[-1]))\n",
    "print(len(a[-1][-1]))\n",
    "print(a[-1][-1][0]) # 3차원 인덱싱"
   ]
  },
  {
   "cell_type": "markdown",
   "id": "62f47647",
   "metadata": {},
   "source": [
    "리스트 슬라이싱"
   ]
  },
  {
   "cell_type": "code",
   "execution_count": 41,
   "id": "8a1e10be",
   "metadata": {},
   "outputs": [
    {
     "name": "stdout",
     "output_type": "stream",
     "text": [
      "[1, 2, 3, 4, 5]\n",
      "1 [1]\n",
      "<class 'int'> <class 'list'>\n",
      "[1, 2, 3]\n",
      "[1, 2, 3]\n",
      "[3, 4, 5]\n",
      "[3, 4, 5]\n",
      "[1, 2, 3, 4, 5]\n",
      "[1, 3, 5]\n",
      "[5, 4, 3, 2, 1]\n"
     ]
    }
   ],
   "source": [
    "a = [1, 2, 3, 4, 5]\n",
    "print(a)\n",
    "# 인덱싱을 하면 데이터 자체를 얻어올 수 있고 슬라이싱을 하면 데이터가 저장된 리스트를 얻어온다.\n",
    "print(a[0], a[0:1])\n",
    "print(type(a[0]), type(a[0:1]))\n",
    "print(a[0:3])\n",
    "print(a[:3])\n",
    "print(a[2:5])\n",
    "print(a[2:])\n",
    "print(a[:])\n",
    "print(a[::2])\n",
    "print(a[::-1])"
   ]
  },
  {
   "cell_type": "markdown",
   "id": "a905eab1",
   "metadata": {},
   "source": [
    "리스트에 사용되는 연산자\n",
    "\n",
    "'+'는 2개의 리스트를 연결하고 '*'는 리스트를 지정한 횟수만큼 반복한다."
   ]
  },
  {
   "cell_type": "code",
   "execution_count": 43,
   "id": "51725871",
   "metadata": {},
   "outputs": [
    {
     "name": "stdout",
     "output_type": "stream",
     "text": [
      "[1, 2, 3, 4, 5, 6, 7]\n",
      "[1, 2, 3, 1, 2, 3, 1, 2, 3]\n"
     ]
    }
   ],
   "source": [
    "a = [1, 2, 3]\n",
    "b = [4, 5, 6, 7]\n",
    "print(a + b)\n",
    "print(a * 3)"
   ]
  },
  {
   "cell_type": "markdown",
   "id": "e68f6f59",
   "metadata": {},
   "source": [
    "리스트에 저장된 데이터의 수정 및 삭제"
   ]
  },
  {
   "cell_type": "code",
   "execution_count": 52,
   "id": "497570fc",
   "metadata": {},
   "outputs": [
    {
     "name": "stdout",
     "output_type": "stream",
     "text": [
      "abcde\n",
      "<class 'str'>\n",
      "c\n",
      "bcd\n",
      "abCde\n",
      "abde\n"
     ]
    }
   ],
   "source": [
    "string = 'abcde'\n",
    "print(string)\n",
    "print(type(string))\n",
    "print(string[2])\n",
    "print(string[1:4])\n",
    "\n",
    "# 문자열 데이터의 일부분을 수정하려면 에러가 발생된다.\n",
    "# string[2] = 'C'\n",
    "string = string[:2] + 'C' + string[3:]\n",
    "print(string)\n",
    "\n",
    "# 문자열 데이터의 일부분을 삭제하려면 에러가 발생된다.\n",
    "# del string[2]\n",
    "string = string[:2] + string[3:]\n",
    "print(string)"
   ]
  },
  {
   "cell_type": "code",
   "execution_count": 59,
   "id": "ca6523e4",
   "metadata": {},
   "outputs": [
    {
     "name": "stdout",
     "output_type": "stream",
     "text": [
      "[1, 2, 3]\n",
      "[1, 4, 3]\n",
      "[[100, 200, 300], 4, 3]\n",
      "[[100, 200, 300], 4, 999]\n",
      "[[100, 200, 300], 'a', 'b', 'c', 999]\n"
     ]
    }
   ],
   "source": [
    "a = [1, 2, 3]\n",
    "print(a)\n",
    "\n",
    "# 인덱싱을 이용한 데이터 수정\n",
    "a[1] = 4 # 수정할 리스트의 인덱스 번째 요소에 수정할 값을 대입하면 된다.\n",
    "print(a)\n",
    "\n",
    "a[0] = [100, 200, 300]\n",
    "print(a)\n",
    "\n",
    "# 슬라이싱을 이용한 데이터 수정\n",
    "# a[2:3] = 999 # 리스트를 상수로 대체하려 해서 에러가 발생된다.\n",
    "a[2:3] = [999] # 리스트 슬라이싱 결과는 리스트이므로 리스트를 대입해야 한다.\n",
    "print(a)\n",
    "\n",
    "a[1:2] = ['a', 'b', 'c']\n",
    "print(a)"
   ]
  },
  {
   "cell_type": "code",
   "execution_count": 64,
   "id": "8544c6f7",
   "metadata": {},
   "outputs": [
    {
     "name": "stdout",
     "output_type": "stream",
     "text": [
      "[1, 2, 3, 4, 5]\n",
      "[1, 3, 4, 5]\n",
      "[1, 5]\n",
      "[]\n"
     ]
    },
    {
     "ename": "NameError",
     "evalue": "name 'a' is not defined",
     "output_type": "error",
     "traceback": [
      "\u001b[1;31m---------------------------------------------------------------------------\u001b[0m",
      "\u001b[1;31mNameError\u001b[0m                                 Traceback (most recent call last)",
      "\u001b[1;32m<ipython-input-64-dc04c07ac926>\u001b[0m in \u001b[0;36m<module>\u001b[1;34m\u001b[0m\n\u001b[0;32m     16\u001b[0m \u001b[1;31m# del 명령으로 리스트 자체를 삭제할 수 있다.\u001b[0m\u001b[1;33m\u001b[0m\u001b[1;33m\u001b[0m\u001b[1;33m\u001b[0m\u001b[0m\n\u001b[0;32m     17\u001b[0m \u001b[1;32mdel\u001b[0m \u001b[0ma\u001b[0m\u001b[1;33m\u001b[0m\u001b[1;33m\u001b[0m\u001b[0m\n\u001b[1;32m---> 18\u001b[1;33m \u001b[0mprint\u001b[0m\u001b[1;33m(\u001b[0m\u001b[0ma\u001b[0m\u001b[1;33m)\u001b[0m\u001b[1;33m\u001b[0m\u001b[1;33m\u001b[0m\u001b[0m\n\u001b[0m",
      "\u001b[1;31mNameError\u001b[0m: name 'a' is not defined"
     ]
    }
   ],
   "source": [
    "a = [1, 2, 3, 4, 5]\n",
    "print(a)\n",
    "\n",
    "# del 명령으로 인덱싱된 리스트의 데이터를 삭제할 수 있다.\n",
    "del a[1]\n",
    "print(a)\n",
    "\n",
    "# del 명령으로 슬라이싱된 리스트의 데이터를 삭제할 수 있다.\n",
    "del a[1:3]\n",
    "print(a)\n",
    "\n",
    "# clear() 메소드로 리스트에 저장된 모든 데이터를 삭제할 수 있다.\n",
    "a.clear()\n",
    "print(a)\n",
    "\n",
    "# del 명령으로 리스트 자체를 삭제할 수 있다.\n",
    "del a\n",
    "print(a)"
   ]
  },
  {
   "cell_type": "code",
   "execution_count": null,
   "id": "15228b76",
   "metadata": {},
   "outputs": [],
   "source": []
  },
  {
   "cell_type": "code",
   "execution_count": null,
   "id": "a2b713b5",
   "metadata": {},
   "outputs": [],
   "source": []
  }
 ],
 "metadata": {
  "kernelspec": {
   "display_name": "Python 3",
   "language": "python",
   "name": "python3"
  },
  "language_info": {
   "codemirror_mode": {
    "name": "ipython",
    "version": 3
   },
   "file_extension": ".py",
   "mimetype": "text/x-python",
   "name": "python",
   "nbconvert_exporter": "python",
   "pygments_lexer": "ipython3",
   "version": "3.6.8"
  }
 },
 "nbformat": 4,
 "nbformat_minor": 5
}
