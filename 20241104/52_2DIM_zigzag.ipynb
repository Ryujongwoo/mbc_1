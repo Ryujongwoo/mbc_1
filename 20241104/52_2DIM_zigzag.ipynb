{
 "cells": [
  {
   "cell_type": "markdown",
   "id": "697fb558",
   "metadata": {},
   "source": [
    "2차원 리스트\n",
    "\n",
    "<img src=\"./2DIM.png\" align=\"left\" width=\"1500\" title=\"2차원 리스트\">"
   ]
  },
  {
   "cell_type": "code",
   "execution_count": 1,
   "id": "7c57a996",
   "metadata": {},
   "outputs": [
    {
     "name": "stdout",
     "output_type": "stream",
     "text": [
      "<class 'list'>\n",
      "[[1, 2, 3], [4, 5, 6]]\n"
     ]
    }
   ],
   "source": [
    "a = [[1, 2, 3], [4, 5, 6]]\n",
    "print(type(a))\n",
    "print(a)"
   ]
  },
  {
   "cell_type": "code",
   "execution_count": 2,
   "id": "3a578d0b",
   "metadata": {},
   "outputs": [
    {
     "name": "stdout",
     "output_type": "stream",
     "text": [
      "<class 'numpy.ndarray'>\n",
      "[[1 2 3]\n",
      " [4 5 6]]\n"
     ]
    }
   ],
   "source": [
    "import numpy as np\n",
    "b = np.array(a)\n",
    "print(type(b))\n",
    "print(b)"
   ]
  },
  {
   "cell_type": "code",
   "execution_count": 3,
   "id": "37ff66fd",
   "metadata": {},
   "outputs": [
    {
     "name": "stdout",
     "output_type": "stream",
     "text": [
      "[0, 0, 0, 0, 0]\n",
      "[0, 0, 0, 0, 0]\n"
     ]
    }
   ],
   "source": [
    "a = [0] * 5\n",
    "print(a)\n",
    "b = [0 for _ in range(5)]\n",
    "print(b)"
   ]
  },
  {
   "cell_type": "code",
   "execution_count": 4,
   "id": "47c0a014",
   "metadata": {},
   "outputs": [
    {
     "name": "stdout",
     "output_type": "stream",
     "text": [
      "[[0, 0, 0, 0, 0], [0, 0, 0, 0, 0], [0, 0, 0, 0, 0], [0, 0, 0, 0, 0]]\n",
      "[[0 0 0 0 0]\n",
      " [0 0 0 0 0]\n",
      " [0 0 0 0 0]\n",
      " [0 0 0 0 0]]\n"
     ]
    }
   ],
   "source": [
    "# 리스트이름 = [[초기값] * 열개수 for 변수 in range(행개수)]\n",
    "a = [[0] * 5 for i in range(4)]\n",
    "print(a)\n",
    "b = np.array(a)\n",
    "print(b)"
   ]
  },
  {
   "cell_type": "code",
   "execution_count": 5,
   "id": "3b68f2d9",
   "metadata": {},
   "outputs": [
    {
     "name": "stdout",
     "output_type": "stream",
     "text": [
      "4\n",
      "5\n",
      "4\n",
      "5\n",
      "(4, 5)\n",
      "4\n",
      "5\n"
     ]
    }
   ],
   "source": [
    "print(len(a)) # 행의 개수\n",
    "print(len(a[0])) # 열의 개수\n",
    "# print(a.shape) # 파이썬의 list는 shape라는 속성이 없으므로 에러가 발생된다.\n",
    "print(len(b))\n",
    "print(len(b[0]))\n",
    "print(b.shape) # 넘파이는 shape 속성을 이용해서 배열의 크기를 튜플로 얻어온다.\n",
    "print(b.shape[0])\n",
    "print(b.shape[1])"
   ]
  },
  {
   "cell_type": "code",
   "execution_count": 6,
   "id": "f0de413a",
   "metadata": {},
   "outputs": [
    {
     "name": "stdout",
     "output_type": "stream",
     "text": [
      "[0, 0, 0, 0, 0]\n",
      "[0, 0, 0, 0, 0]\n",
      "[0, 0, 0, 0, 0]\n",
      "[0, 0, 0, 0, 0]\n"
     ]
    }
   ],
   "source": [
    "for i in range(len(a)):\n",
    "    print(a[i])"
   ]
  },
  {
   "cell_type": "code",
   "execution_count": 7,
   "id": "5468f61b",
   "metadata": {},
   "outputs": [
    {
     "name": "stdout",
     "output_type": "stream",
     "text": [
      "0 0 0 0 0 \n",
      "0 0 0 0 0 \n",
      "0 0 0 0 0 \n",
      "0 0 0 0 0 \n"
     ]
    }
   ],
   "source": [
    "for i in range(len(a)):\n",
    "    for j in range(len(a[i])):\n",
    "        print(a[i][j], end=' ')\n",
    "    print()"
   ]
  },
  {
   "cell_type": "markdown",
   "id": "2faece1d",
   "metadata": {},
   "source": [
    "<img src=\"./2DIM2.png\" align=\"left\" width=\"400\" title=\"2차원 리스트\">"
   ]
  },
  {
   "cell_type": "code",
   "execution_count": 8,
   "id": "849a798c",
   "metadata": {},
   "outputs": [],
   "source": [
    "# 2차원 리스트의 데이터를 출력하는 함수\n",
    "def pprint(data):\n",
    "    for i in range(len(data)):\n",
    "        for j in range(len(data[i])):\n",
    "            print('{:3d}'.format(data[i][j]), end=' ')\n",
    "        print()"
   ]
  },
  {
   "cell_type": "code",
   "execution_count": 9,
   "id": "73f9142c",
   "metadata": {},
   "outputs": [
    {
     "name": "stdout",
     "output_type": "stream",
     "text": [
      "2차원 리스트를 만들려는 행과 열의 개수: 4 6\n",
      "  1   2   3   4   5   6 \n",
      " 12  11  10   9   8   7 \n",
      " 13  14  15  16  17  18 \n",
      " 24  23  22  21  20  19 \n"
     ]
    }
   ],
   "source": [
    "# 2차원 리스트를 만들려는 행과 열의 개수를 입력받아 2차원 리스트를 만든다.\n",
    "row, col = map(int, input('2차원 리스트를 만들려는 행과 열의 개수: ').split())\n",
    "data = [[0] * col for _ in range(row)]\n",
    "n = 0 # 리스트에 1씩 증가하며 채워질 숫자가 기억되는 변수\n",
    "\n",
    "# 짝수행은 숫자가 왼쪽에서 오른쪽으로 채워지고 홀수행은 숫자가 오른쪽에서 왼쪽으로 채워진다.\n",
    "for i in range(row): # 행\n",
    "    # 짝수행인가 홀수행인가 판단한다.\n",
    "    if i % 2 == 0: # 짝수행인가?\n",
    "        # 짝수행은 왼쪽에서 오른쪽으로 숫자를 채운다. j => 0, 1, 2, 3, 4\n",
    "        for j in range(col):\n",
    "            n += 1\n",
    "            data[i][j] = n\n",
    "        # ===== for j\n",
    "    else:\n",
    "        # 홀수행은 오른쪽에서 왼쪽으로 숫자를 채운다. j => 4, 3, 2, 2, 1\n",
    "        for j in range(col - 1, -1, -1):\n",
    "            n += 1\n",
    "            data[i][j] = n\n",
    "        # ===== for j\n",
    "    # ===== if\n",
    "# ===== for i\n",
    "\n",
    "pprint(data)"
   ]
  },
  {
   "cell_type": "code",
   "execution_count": 10,
   "id": "3dce61b0",
   "metadata": {},
   "outputs": [
    {
     "name": "stdout",
     "output_type": "stream",
     "text": [
      "2차원 리스트를 만들려는 행과 열의 개수: 4 6\n",
      "  1   2   3   4   5   6 \n",
      " 12  11  10   9   8   7 \n",
      " 13  14  15  16  17  18 \n",
      " 24  23  22  21  20  19 \n"
     ]
    }
   ],
   "source": [
    "# i = 0, sw =  1, j = 0, 1, 2, 3, 4 => range(0,  5, sw)\n",
    "# i = 1, sw = -1, j = 4, 3, 2, 1, 0 => range(4, -1, sw)\n",
    "# i = 2, sw =  1, j = 0, 1, 2, 3, 4 => range(0,  5, sw)\n",
    "# i = 3, sw = -1, j = 4, 3, 2, 1, 0 => range(4, -1, sw)\n",
    "row, col = map(int, input('2차원 리스트를 만들려는 행과 열의 개수: ').split())\n",
    "data = [[0] * col for _ in range(row)]\n",
    "n = 0\n",
    "\n",
    "start = 0 # 2차원 리스트에 숫자가 채워지기 시작하는 열 인덱스\n",
    "end = col - 1 # 2차원 리스트에 숫자가 채워지기 마지막 열 인덱스\n",
    "# 왼쪽에서 오른쪽으로, 오른쪽에서 왼쪽으로 숫자가 채워지는 방향을 제하는 변수\n",
    "sw = 1 # start 부터 end 까지 증가치로 사용할 변수\n",
    "\n",
    "for i in range(row):\n",
    "    for j in range(start, end + sw, sw):\n",
    "        # print(f'[i = {i}, j = {j}]', end=' ')\n",
    "        n += 1\n",
    "        data[i][j] = n\n",
    "    # ===== for j\n",
    "    start, end = end, start\n",
    "    sw *= -1\n",
    "    # print()\n",
    "# ===== for i\n",
    "\n",
    "pprint(data)"
   ]
  },
  {
   "cell_type": "code",
   "execution_count": 13,
   "id": "b42d34ad",
   "metadata": {},
   "outputs": [
    {
     "name": "stdout",
     "output_type": "stream",
     "text": [
      "2차원 리스트를 만들려는 행과 열의 개수: 4 6\n",
      "  1   2   3   4   5   6 \n",
      " 12  11  10   9   8   7 \n",
      " 13  14  15  16  17  18 \n",
      " 24  23  22  21  20  19 \n"
     ]
    }
   ],
   "source": [
    "row, col = map(int, input('2차원 리스트를 만들려는 행과 열의 개수: ').split())\n",
    "data = [[0] * col for _ in range(row)]\n",
    "n = 0\n",
    "\n",
    "start = [i for i in range(col)] # 왼쪽부터 오른쪽으로 진행하는 열 인덱스를 기억하는 리스트\n",
    "end = [i for i in range(col - 1, -1, -1)] # 오른쪽부터 왼쪽으로 진행하는 열 인덱스를 기억하는 리스트\n",
    "# print(start, end)\n",
    "\n",
    "for i in range(row):\n",
    "    for j in start:\n",
    "        n += 1\n",
    "        data[i][j] = n\n",
    "    # ===== for j\n",
    "    start, end = end, start\n",
    "# ===== for i\n",
    "\n",
    "pprint(data)"
   ]
  },
  {
   "cell_type": "code",
   "execution_count": null,
   "id": "f4343c03",
   "metadata": {},
   "outputs": [],
   "source": []
  },
  {
   "cell_type": "code",
   "execution_count": null,
   "id": "d95b9212",
   "metadata": {},
   "outputs": [],
   "source": []
  }
 ],
 "metadata": {
  "kernelspec": {
   "display_name": "Python 3",
   "language": "python",
   "name": "python3"
  },
  "language_info": {
   "codemirror_mode": {
    "name": "ipython",
    "version": 3
   },
   "file_extension": ".py",
   "mimetype": "text/x-python",
   "name": "python",
   "nbconvert_exporter": "python",
   "pygments_lexer": "ipython3",
   "version": "3.6.8"
  }
 },
 "nbformat": 4,
 "nbformat_minor": 5
}
