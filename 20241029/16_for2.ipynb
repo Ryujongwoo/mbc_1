{
 "cells": [
  {
   "cell_type": "markdown",
   "id": "645b0117",
   "metadata": {},
   "source": [
    "range() 함수\n",
    "\n",
    "range() 함수는 초기치, 최종치, 증가치에 따른 숫자 리스트를 만들어 리턴한다.  \n",
    "range() 함수는 초기치부터 증가치만큼씩 증가하며 최종치를 넘어가지 않는 숫자 리스트를 만든다.\n",
    "***\n",
    "range([초기치, ]최종치[, 증가치]) 또는 range(초기치, 최종치[, 증가치])  \n",
    "초기치와 증가치는 생략할 수 있고 초기치는 생략시 0을 증가치는 생략시 1을 기본값으로 사용한다.  \n",
    "즉, range(0, 10, 1)와 range(10)은 같은 표현이다."
   ]
  },
  {
   "cell_type": "code",
   "execution_count": 8,
   "id": "8198cc9a",
   "metadata": {},
   "outputs": [
    {
     "name": "stdout",
     "output_type": "stream",
     "text": [
      "range(0, 10)\n",
      "[0, 1, 2, 3, 4, 5, 6, 7, 8, 9]\n",
      "[0, 1, 2, 3, 4, 5, 6, 7, 8, 9]\n",
      "[0, 2, 4, 6, 8]\n",
      "[1, 3, 5, 7, 9]\n",
      "[9, 8, 7, 6, 5, 4, 3, 2, 1, 0]\n",
      "[9, 8, 7, 6, 5, 4, 3, 2, 1, 0]\n"
     ]
    }
   ],
   "source": [
    "print(range(0, 10, 1))\n",
    "# range() 함수가 실행된 결과(리스트)는 list() 생성자 함수를 사용해서 확인해야 한다.\n",
    "print(list(range(0, 10, 1)))\n",
    "print(list(range(10)))\n",
    "print(list(range(0, 10, 2)))\n",
    "print(list(range(1, 10, 2)))\n",
    "print(list(range(0, 10, 1)[::-1]))\n",
    "print(list(range(9, -1, -1)))"
   ]
  },
  {
   "cell_type": "code",
   "execution_count": 10,
   "id": "09de55a6",
   "metadata": {},
   "outputs": [
    {
     "name": "stdout",
     "output_type": "stream",
     "text": [
      "[0, 1, 2, 3, 4]\n",
      "0\n",
      "1\n",
      "2\n",
      "3\n",
      "4\n"
     ]
    }
   ],
   "source": [
    "print(list(range(5)))\n",
    "for i in range(5):\n",
    "    print(i)"
   ]
  },
  {
   "cell_type": "code",
   "execution_count": 11,
   "id": "6939bd67",
   "metadata": {},
   "outputs": [
    {
     "name": "stdout",
     "output_type": "stream",
     "text": [
      "55\n"
     ]
    }
   ],
   "source": [
    "# 1 ~ 10의 합계 => while 사용\n",
    "i = 0\n",
    "total = 0\n",
    "while i < 10:\n",
    "    i += 1\n",
    "    total += i\n",
    "# ===== while\n",
    "print(total)"
   ]
  },
  {
   "cell_type": "code",
   "execution_count": 12,
   "id": "5d889601",
   "metadata": {},
   "outputs": [
    {
     "name": "stdout",
     "output_type": "stream",
     "text": [
      "55\n"
     ]
    }
   ],
   "source": [
    "# 1 ~ 10의 합계 => for 사용\n",
    "total = 0\n",
    "for i in range(1, 11, 1):\n",
    "    total += i\n",
    "# ===== for\n",
    "print(total)"
   ]
  },
  {
   "cell_type": "code",
   "execution_count": 13,
   "id": "99770430",
   "metadata": {},
   "outputs": [],
   "source": [
    "import random"
   ]
  },
  {
   "cell_type": "markdown",
   "id": "c89a393a",
   "metadata": {},
   "source": [
    "주사위를 10번 굴려서 출현한 눈의 개수를 센다. => 변수 사용"
   ]
  },
  {
   "cell_type": "code",
   "execution_count": 23,
   "id": "cc640e50",
   "metadata": {},
   "outputs": [
    {
     "name": "stdout",
     "output_type": "stream",
     "text": [
      "3 4 1 4 4 2 3 1 1 3 \n",
      "1의 개수: 3\n",
      "2의 개수: 1\n",
      "3의 개수: 3\n",
      "4의 개수: 3\n",
      "5의 개수: 0\n",
      "6의 개수: 0\n"
     ]
    }
   ],
   "source": [
    "# 1 ~ 6 사이의 숫자를 기억할 변수 6개를 선언하고 각각 0으로 초기화시킨다.\n",
    "num1 = 0; num2 = 0; num3 = 0; num4 = 0; num5 = 0; num6 = 0\n",
    "# 주사위를 10번 굴린다.\n",
    "for i in range(10):\n",
    "    dice = random.randint(1, 6)\n",
    "    print(dice, end=' ')\n",
    "    # 주사위를 굴려서 발생된 눈의 개수를 증가시킨다.\n",
    "    if dice == 1:\n",
    "        num1 += 1\n",
    "    elif dice == 2:\n",
    "        num2 += 1\n",
    "    elif dice == 3:\n",
    "        num3 += 1\n",
    "    elif dice == 4:\n",
    "        num4 += 1\n",
    "    elif dice == 5:\n",
    "        num5 += 1\n",
    "    else:\n",
    "        num6 += 1\n",
    "    # ===== if\n",
    "# ===== for\n",
    "print()\n",
    "\n",
    "# 주사위 눈의 개수를 출력한다.\n",
    "print('1의 개수: {}'.format(num1))\n",
    "print('2의 개수: {}'.format(num2))\n",
    "print('3의 개수: {}'.format(num3))\n",
    "print('4의 개수: {}'.format(num4))\n",
    "print('5의 개수: {}'.format(num5))\n",
    "print('6의 개수: {}'.format(num6))"
   ]
  },
  {
   "cell_type": "markdown",
   "id": "32fd21b9",
   "metadata": {},
   "source": [
    "주사위를 10번 굴려서 출현한 눈의 개수를 센다. => 리스트 사용"
   ]
  },
  {
   "cell_type": "code",
   "execution_count": 35,
   "id": "1ad2d0c5",
   "metadata": {},
   "outputs": [
    {
     "name": "stdout",
     "output_type": "stream",
     "text": [
      "[0, 0, 0, 0, 0, 0]\n",
      "1 5 3 4 4 4 1 5 5 3 \n",
      "1의 개수: 2\n",
      "2의 개수: 0\n",
      "3의 개수: 2\n",
      "4의 개수: 3\n",
      "5의 개수: 3\n",
      "6의 개수: 0\n"
     ]
    }
   ],
   "source": [
    "# 1. 주사위 눈의 개수를 기억할 크기가 6인 0으로 초기화된 리스트를 만든다.\n",
    "# num = [0, 0, 0, 0, 0, 0]\n",
    "# num = [0] * 6\n",
    "# 2. 빈 리스트를 선언하고 append() 메소드로 0을 넣어준다.\n",
    "# num = []\n",
    "# for i in range(45):\n",
    "#     num.append(i + 1)\n",
    "# 3. 컴프리핸션을 사용해서 리스트를 만든다. => 리스트 내부에 for나 if를 사용하는 방법\n",
    "num = [0 for i in range(6)] # 1번 방식을 컴프리핸션으로 구현\n",
    "# num = [i + 1 for i in range(45)] # 2번 방식을 컴프리핸션으로 구현\n",
    "print(num)\n",
    "\n",
    "for i in range(10):\n",
    "    dice = random.randint(1, 6)\n",
    "    print(dice, end=' ')\n",
    "    if dice == 1:\n",
    "        num[0] += 1\n",
    "    elif dice == 2:\n",
    "        num[1] += 1\n",
    "    elif dice == 3:\n",
    "        num[2] += 1\n",
    "    elif dice == 4:\n",
    "        num[3] += 1\n",
    "    elif dice == 5:\n",
    "        num[4] += 1\n",
    "    else:\n",
    "        num[5] += 1\n",
    "    # ===== if\n",
    "# ===== for\n",
    "print()\n",
    "\n",
    "print('1의 개수: {}'.format(num[0]))\n",
    "print('2의 개수: {}'.format(num[1]))\n",
    "print('3의 개수: {}'.format(num[2]))\n",
    "print('4의 개수: {}'.format(num[3]))\n",
    "print('5의 개수: {}'.format(num[4]))\n",
    "print('6의 개수: {}'.format(num[5]))"
   ]
  },
  {
   "cell_type": "code",
   "execution_count": 39,
   "id": "74e785e1",
   "metadata": {},
   "outputs": [
    {
     "name": "stdout",
     "output_type": "stream",
     "text": [
      "3 1 1 5 6 1 4 4 6 2 \n",
      "1의 개수: 3\n",
      "2의 개수: 1\n",
      "3의 개수: 1\n",
      "4의 개수: 2\n",
      "5의 개수: 1\n",
      "6의 개수: 2\n"
     ]
    }
   ],
   "source": [
    "num = [0 for i in range(6)]\n",
    "\n",
    "for i in range(10):\n",
    "    dice = random.randint(1, 6)\n",
    "    print(dice, end=' ')\n",
    "    num[dice - 1] += 1\n",
    "    # ===== if\n",
    "# ===== for\n",
    "print()\n",
    "\n",
    "for i in range(6):\n",
    "    print('{}의 개수: {}'.format(i + 1, num[i]))"
   ]
  },
  {
   "cell_type": "code",
   "execution_count": null,
   "id": "8c0f7a8d",
   "metadata": {},
   "outputs": [],
   "source": []
  },
  {
   "cell_type": "code",
   "execution_count": null,
   "id": "ce85f3dc",
   "metadata": {},
   "outputs": [],
   "source": []
  }
 ],
 "metadata": {
  "kernelspec": {
   "display_name": "Python 3",
   "language": "python",
   "name": "python3"
  },
  "language_info": {
   "codemirror_mode": {
    "name": "ipython",
    "version": 3
   },
   "file_extension": ".py",
   "mimetype": "text/x-python",
   "name": "python",
   "nbconvert_exporter": "python",
   "pygments_lexer": "ipython3",
   "version": "3.6.8"
  }
 },
 "nbformat": 4,
 "nbformat_minor": 5
}
