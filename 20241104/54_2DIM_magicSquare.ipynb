{
 "cells": [
  {
   "cell_type": "markdown",
   "id": "b1e2c1ca",
   "metadata": {},
   "source": [
    "마방진\n",
    "\n",
    "가로, 세로, 대각선 방향의 숫자 합계가 모두 같은 배열로 홀수차 정방행렬(행과 열의 개수가 같은 행렬)만 가능하다.\n",
    "\n",
    "<img src=\"./magicSquare.png\" align=\"left\" width=\"800\" title=\"2차원 리스트\">"
   ]
  },
  {
   "cell_type": "code",
   "execution_count": 1,
   "id": "9d51f230",
   "metadata": {},
   "outputs": [],
   "source": [
    "def pprint(data):\n",
    "    for i in range(len(data)):\n",
    "        for j in range(len(data[i])):\n",
    "            print('{:3d}'.format(data[i][j]), end=' ')\n",
    "        print()"
   ]
  },
  {
   "cell_type": "code",
   "execution_count": 2,
   "id": "73ed907e",
   "metadata": {},
   "outputs": [
    {
     "name": "stdout",
     "output_type": "stream",
     "text": [
      " 17  24   1   8  15 \n",
      " 23   5   7  14  16 \n",
      "  4   6  13  20  22 \n",
      " 10  12  19  21   3 \n",
      " 11  18  25   2   9 \n"
     ]
    }
   ],
   "source": [
    "a = [[0] * 5 for _ in range(5)]\n",
    "i = 0; j = 2 # 5행 5열일 경우 최초의 '1'이 채워질 위치를 정한다.\n",
    "\n",
    "# 5행 5열이므로 k값을 1 ~ 25까지 반복시키며 마방진을 만든다.\n",
    "for k in range(1, 26):\n",
    "    a[i][j] = k\n",
    "    # 마방진에 채운 숫자 k가 5의 배수인가 판단한다.\n",
    "    if k % 5 == 0: # 5의 배수인가?\n",
    "        # k가 5의 배수라면 다음에 채워질 숫자는 아래줄에 넣는다. 행만 1증가 시킨다.\n",
    "        i += 1\n",
    "    else:\n",
    "        # k가 5의 배수가 아니면 다음에 채워질 숫자는 오른쪽 위에 넣는다. 행은 1감소, 열은 1증가 시킨다.\n",
    "        i -= 1\n",
    "        # 행이 감소하다가 0보다 작아지면 마지막 행(4행)으로 행의 위치를 조정한다.\n",
    "        if i < 0:\n",
    "            i = 4\n",
    "        # ===== if\n",
    "        j += 1\n",
    "        # 열이 증가하다가 5가 되면 첫 번째 열(0열)로 열의 위치를 조정한다.\n",
    "        if j >= 5:\n",
    "            j = 0\n",
    "        # ===== if\n",
    "    # ===== if\n",
    "# ===== for\n",
    "\n",
    "pprint(a)"
   ]
  },
  {
   "cell_type": "code",
   "execution_count": 6,
   "id": "02b097b1",
   "metadata": {},
   "outputs": [
    {
     "name": "stdout",
     "output_type": "stream",
     "text": [
      "2차원 리스트의 차수를 3이상인 홀수로 입력하세요: 9\n",
      " 47  58  69  80   1  12  23  34  45 \n",
      " 57  68  79   9  11  22  33  44  46 \n",
      " 67  78   8  10  21  32  43  54  56 \n",
      " 77   7  18  20  31  42  53  55  66 \n",
      "  6  17  19  30  41  52  63  65  76 \n",
      " 16  27  29  40  51  62  64  75   5 \n",
      " 26  28  39  50  61  72  74   4  15 \n",
      " 36  38  49  60  71  73   3  14  25 \n",
      " 37  48  59  70  81   2  13  24  35 \n"
     ]
    }
   ],
   "source": [
    "while True:\n",
    "    m = int(input('2차원 리스트의 차수를 3이상인 홀수로 입력하세요: '))\n",
    "    if m >= 3 and m % 2 == 1:\n",
    "        break\n",
    "    # ===== if\n",
    "    print('2차원 리스트의 차수를 3이상인 홀수로 입력해야 합니다.')\n",
    "# ===== while\n",
    "\n",
    "a = [[0] * m for _ in range(m)]\n",
    "i = 0; j = m // 2 # m행 m열일 경우 최초의 '1'이 채워질 위치를 정한다.\n",
    "\n",
    "# m행 m열이므로 k의 값을 1에서 m의 제곱까지 반복시키며 마방진을 만든다.\n",
    "for k in range(1, m ** 2 + 1):\n",
    "    a[i][j] = k\n",
    "        # 마방진에 채운 숫자 k가 m의 배수인가 판단한다.\n",
    "    if k % m == 0: # m의 배수인가?\n",
    "        # k가 m의 배수라면 다음에 채워질 숫자는 아래줄에 넣는다. 행만 1증가 시킨다.\n",
    "        i += 1\n",
    "    else:\n",
    "        # k가 m의 배수가 아니면 다음에 채워질 숫자는 오른쪽 위에 넣는다. 행은 1감소, 열은 1증가 시킨다.\n",
    "        i -= 1\n",
    "        # 행이 감소하다가 0보다 작아지면 마지막 행(m-1행)으로 행의 위치를 조정한다.\n",
    "        if i < 0:\n",
    "            i = m - 1\n",
    "        # ===== if\n",
    "        j += 1\n",
    "        # 열이 증가하다가 m가 되면 첫 번째 열(0열)로 열의 위치를 조정한다.\n",
    "        if j >= m:\n",
    "            j = 0\n",
    "        # ===== if\n",
    "    # ===== if\n",
    "# ===== for\n",
    "\n",
    "pprint(a)"
   ]
  },
  {
   "cell_type": "code",
   "execution_count": null,
   "id": "e21800ac",
   "metadata": {},
   "outputs": [],
   "source": []
  },
  {
   "cell_type": "code",
   "execution_count": null,
   "id": "02759d11",
   "metadata": {},
   "outputs": [],
   "source": []
  }
 ],
 "metadata": {
  "kernelspec": {
   "display_name": "Python 3",
   "language": "python",
   "name": "python3"
  },
  "language_info": {
   "codemirror_mode": {
    "name": "ipython",
    "version": 3
   },
   "file_extension": ".py",
   "mimetype": "text/x-python",
   "name": "python",
   "nbconvert_exporter": "python",
   "pygments_lexer": "ipython3",
   "version": "3.6.8"
  }
 },
 "nbformat": 4,
 "nbformat_minor": 5
}
