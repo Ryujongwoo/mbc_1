{
 "cells": [
  {
   "cell_type": "markdown",
   "id": "60afe500",
   "metadata": {},
   "source": [
    "석차 계산\n",
    "\n",
    "석차를 계산할 점수와 전체 점수를 비교해서 석차를 계산한다.\n",
    "\n",
    "<img src=\"./ranking.png\" align=\"left\" width=\"1400\" title=\"석차 계산\">"
   ]
  },
  {
   "cell_type": "code",
   "execution_count": 22,
   "id": "b8cd1f17",
   "metadata": {},
   "outputs": [
    {
     "name": "stdout",
     "output_type": "stream",
     "text": [
      "[i = 0, j = 0] [i = 0, j = 1] [i = 0, j = 2] [i = 0, j = 3] [i = 0, j = 4]\n",
      "[i = 1, j = 0] [i = 1, j = 1] [i = 1, j = 2] [i = 1, j = 3] [i = 1, j = 4]\n",
      "[i = 2, j = 0] [i = 2, j = 1] [i = 2, j = 2] [i = 2, j = 3] [i = 2, j = 4]\n",
      "[i = 3, j = 0] [i = 3, j = 1] [i = 3, j = 2] [i = 3, j = 3] [i = 3, j = 4]\n",
      "[i = 4, j = 0] [i = 4, j = 1] [i = 4, j = 2] [i = 4, j = 3] [i = 4, j = 4]\n",
      " 80점은 2등 입니다.\n",
      "100점은 4등 입니다.\n",
      " 70점은 1등 입니다.\n",
      "100점은 4등 입니다.\n",
      " 90점은 3등 입니다.\n"
     ]
    }
   ],
   "source": [
    "score = [80, 100, 70, 100, 90]\n",
    "# 석차를 기억할 리스트를 만든다. => 석차를 기억할 기억장소의 초기치는 무조건 1로 지정한다.\n",
    "# rank = [1] * len(score)\n",
    "# rank = [1 for i in range(len(score))]\n",
    "rank = [1 for _ in range(len(score))]\n",
    "# int(rank)\n",
    "\n",
    "for i in range(len(score)):\n",
    "    for j in range(len(score)):\n",
    "        print(f'[i = {i}, j = {j}]', end=' ' if j < len(score) - 1 else '\\n')\n",
    "        # if score[i] < score[j]: # 내림차순 석차, 큰 점수가 1등\n",
    "        if score[i] > score[j]: # 오름차순 석차, 작은 점수가 1등\n",
    "            rank[i] += 1\n",
    "        # ===== if\n",
    "    # ===== for j\n",
    "# ===== for i\n",
    "\n",
    "for i in range(len(score)):\n",
    "    print('{:3d}점은 {}등 입니다.'.format(score[i], rank[i]))"
   ]
  },
  {
   "cell_type": "code",
   "execution_count": null,
   "id": "b720963a",
   "metadata": {},
   "outputs": [],
   "source": []
  },
  {
   "cell_type": "code",
   "execution_count": null,
   "id": "fd223be2",
   "metadata": {},
   "outputs": [],
   "source": []
  }
 ],
 "metadata": {
  "kernelspec": {
   "display_name": "Python 3",
   "language": "python",
   "name": "python3"
  },
  "language_info": {
   "codemirror_mode": {
    "name": "ipython",
    "version": 3
   },
   "file_extension": ".py",
   "mimetype": "text/x-python",
   "name": "python",
   "nbconvert_exporter": "python",
   "pygments_lexer": "ipython3",
   "version": "3.6.8"
  }
 },
 "nbformat": 4,
 "nbformat_minor": 5
}
