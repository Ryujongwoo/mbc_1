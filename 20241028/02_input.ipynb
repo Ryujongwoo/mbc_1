{
 "cells": [
  {
   "cell_type": "markdown",
   "id": "55f2b2ce",
   "metadata": {},
   "source": [
    "변수(variable)  \n",
    "변수는 처리할 데이터(상수, constant)를 기억하는 기억장소를 말한다.\n",
    "\n",
    "변수명 작성방법  \n",
    "영문자(대소문자 구분한다), 숫자, 특수문자('_'만 사용 가능)를 사용할 수 있으며 반드시 문자로 시작해야 한다.  \n",
    "파이썬 예약어(파이썬과 약속된 단어 => 명령어, 함수 등)는 사용할 수 없다.\n",
    "\n",
    "파이썬은 c/c++이나 java와 같이 변수 선언시 자료형을 지정하지 않고, javascript와 같이 var, let, const도 붙이지 않는다.  \n",
    "변수에 저장되는 데이터의 타입에 따라서 자동을 변수의 자료형이 결정된다.\n",
    "\n",
    "'='는 같다라는 의미로 사용되지 않고 '=' 오른쪽의 데이터를 '=' 왼쪽의 기억장소에 저장하라는 의미다. => 대입문, 할당문, 배정문  \n",
    "'=='와 같이 2개를 연속해서 사용해야 같다로 인식된다."
   ]
  },
  {
   "cell_type": "code",
   "execution_count": 5,
   "id": "bec316d9",
   "metadata": {},
   "outputs": [
    {
     "name": "stdout",
     "output_type": "stream",
     "text": [
      "홍길동\n",
      "<class 'str'>\n",
      "100\n",
      "<class 'int'>\n",
      "3.14\n",
      "<class 'float'>\n",
      "True\n",
      "<class 'bool'>\n"
     ]
    }
   ],
   "source": [
    "a = '홍길동'\n",
    "print(a)\n",
    "# type() 함수는 인수로 지정된 기억장소의 자료형을 얻어온다.\n",
    "print(type(a)) # <class 'str'> => 문자열\n",
    "\n",
    "a = 100\n",
    "print(a)\n",
    "print(type(a)) # <class 'int'> => 정수\n",
    "\n",
    "a = 3.14\n",
    "print(a)\n",
    "print(type(a)) # <class 'float'> => 실수\n",
    "\n",
    "# 파이썬은 True가 참이고 False가 거짓이다. => 첫 문자만 대문자로 사용한다.\n",
    "a = True\n",
    "print(a)\n",
    "print(type(a)) # <class 'bool'> => 논리값"
   ]
  },
  {
   "cell_type": "code",
   "execution_count": 6,
   "id": "3fb18310",
   "metadata": {},
   "outputs": [
    {
     "name": "stdout",
     "output_type": "stream",
     "text": [
      "True\n"
     ]
    },
    {
     "ename": "NameError",
     "evalue": "name 'a' is not defined",
     "output_type": "error",
     "traceback": [
      "\u001b[1;31m---------------------------------------------------------------------------\u001b[0m",
      "\u001b[1;31mNameError\u001b[0m                                 Traceback (most recent call last)",
      "\u001b[1;32m<ipython-input-6-d55c75695d41>\u001b[0m in \u001b[0;36m<module>\u001b[1;34m\u001b[0m\n\u001b[0;32m      4\u001b[0m \u001b[1;31m# 프로그램에서 더 이상 사용할 필요없은 변수는 del 명령어로 메모리에서 삭제할 수 있다.\u001b[0m\u001b[1;33m\u001b[0m\u001b[1;33m\u001b[0m\u001b[1;33m\u001b[0m\u001b[0m\n\u001b[0;32m      5\u001b[0m \u001b[1;32mdel\u001b[0m \u001b[0ma\u001b[0m\u001b[1;33m\u001b[0m\u001b[1;33m\u001b[0m\u001b[0m\n\u001b[1;32m----> 6\u001b[1;33m \u001b[0mprint\u001b[0m\u001b[1;33m(\u001b[0m\u001b[0ma\u001b[0m\u001b[1;33m)\u001b[0m\u001b[1;33m\u001b[0m\u001b[1;33m\u001b[0m\u001b[0m\n\u001b[0m",
      "\u001b[1;31mNameError\u001b[0m: name 'a' is not defined"
     ]
    }
   ],
   "source": [
    "print(a)\n",
    "# 자바는 변수가 선언된 {} 블록을 벗어나면 변수가 메모리에서 자동으로 소멸되지만 파이썬은 프로그램이 종료돼야\n",
    "# 메모리에서 소멸된다.\n",
    "# 프로그램에서 더 이상 사용할 필요없은 변수는 del 명령어로 메모리에서 삭제할 수 있다.\n",
    "del a\n",
    "print(a)"
   ]
  },
  {
   "cell_type": "markdown",
   "id": "a881dda7",
   "metadata": {},
   "source": [
    "input 함수\n",
    "\n",
    "키보드로 입력하는 데이터를 무조건 문자열 형태로 입력받는다.  \n",
    "변수 = input(['메시지'])\n",
    "\n",
    "input() 함수는 무조건 문자열 형태로 데이터를 입력받기 때문에 정수나 실수 형태의 데이터를 입력받으려면 입력받은 데이터를 int() 함수는 float() 함수를 사용해서 숫자로 변환해서 사용한다."
   ]
  },
  {
   "cell_type": "code",
   "execution_count": 3,
   "id": "0dfb55fc",
   "metadata": {},
   "outputs": [
    {
     "name": "stdout",
     "output_type": "stream",
     "text": [
      "이름을 입력하세요: 장길산\n",
      "장길산\n",
      "<class 'str'>\n",
      "장길산님 안녕하세요\n",
      "장길산님 안녕하세요\n",
      "장길산님 안녕하세요\n"
     ]
    }
   ],
   "source": [
    "# print('이름을 입력하세요: ', end='')\n",
    "# name = input()\n",
    "name = input('이름을 입력하세요: ')\n",
    "print(name)\n",
    "print(type(name))\n",
    "print('%s님 안녕하세요' % name)\n",
    "print('{:s}님 안녕하세요'.format(name))\n",
    "print(f'{name}님 안녕하세요')"
   ]
  },
  {
   "cell_type": "code",
   "execution_count": 11,
   "id": "ae70a387",
   "metadata": {},
   "outputs": [
    {
     "name": "stdout",
     "output_type": "stream",
     "text": [
      "나이를 입력하세요: 30\n",
      "30\n",
      "<class 'int'>\n",
      "장길산님은 30살 입니다.\n",
      "장길산님은 30살 입니다.\n",
      "장길산님은 내년에 31살 입니다.\n",
      "장길산님은 30살 입니다.\n"
     ]
    }
   ],
   "source": [
    "age = int(input('나이를 입력하세요: '))\n",
    "print(age)\n",
    "print(type(age))\n",
    "print('{}님은 {}살 입니다.'.format(name, age))\n",
    "print('{:s}님은 {:d}살 입니다.'.format(name, age))\n",
    "print('{:s}님은 내년에 {:d}살 입니다.'.format(name, age + 1))\n",
    "print('%s님은 %d살 입니다.' % (name, age))"
   ]
  },
  {
   "cell_type": "code",
   "execution_count": 12,
   "id": "f1011934",
   "metadata": {},
   "outputs": [
    {
     "name": "stdout",
     "output_type": "stream",
     "text": [
      "나이를 입력하세요: 12\n",
      "장길산님은 12살 입니다.\n",
      "장길산님은 12살 입니다.\n",
      "장길산님은 내년에 13살 입니다.\n",
      "장길산님은 12살 입니다.\n"
     ]
    }
   ],
   "source": [
    "age = input('나이를 입력하세요: ')\n",
    "print('{}님은 {}살 입니다.'.format(name, age))\n",
    "print('{:s}님은 {:d}살 입니다.'.format(name, int(age)))\n",
    "print('{:s}님은 내년에 {:d}살 입니다.'.format(name, int(age) + 1))\n",
    "print('%s님은 %d살 입니다.' % (name, int(age)))"
   ]
  },
  {
   "cell_type": "markdown",
   "id": "204b4966",
   "metadata": {},
   "source": [
    "split() 메소드를 사용하면 1개의 input 함수로 여러개의 데이터를 입력받을 수 있다.  \n",
    "split() 메소드는 인수로 지정된 구분자를 사용해서 문자열을 나눠준다. 구분자를 생략하면 공백이 기본 구분자로 사용된다."
   ]
  },
  {
   "cell_type": "code",
   "execution_count": 15,
   "id": "ffcbada1",
   "metadata": {},
   "outputs": [
    {
     "name": "stdout",
     "output_type": "stream",
     "text": [
      "이름과 나이를 입력하세요: 임꺽정 35\n",
      "임꺽정님은 35살 입니다.\n",
      "임꺽정님은 36살 입니다.\n"
     ]
    }
   ],
   "source": [
    "name, age = input('이름과 나이를 입력하세요: ').split()\n",
    "print('{}님은 {}살 입니다.'.format(name, age))\n",
    "print('{:s}님은 {:d}살 입니다.'.format(name, int(age) + 1))"
   ]
  },
  {
   "cell_type": "code",
   "execution_count": 16,
   "id": "5fc8754f",
   "metadata": {},
   "outputs": [
    {
     "name": "stdout",
     "output_type": "stream",
     "text": [
      "이름과 나이를 입력하세요: 장길산 40\n",
      "장길산님은 40살 입니다.\n",
      "장길산님은 41살 입니다.\n"
     ]
    }
   ],
   "source": [
    "name, age = input('이름과 나이를 입력하세요: ').split(' ')\n",
    "print('{}님은 {}살 입니다.'.format(name, age))\n",
    "print('{:s}님은 {:d}살 입니다.'.format(name, int(age) + 1))"
   ]
  },
  {
   "cell_type": "code",
   "execution_count": 17,
   "id": "283c5b19",
   "metadata": {},
   "outputs": [
    {
     "name": "stdout",
     "output_type": "stream",
     "text": [
      "이름과 나이를 입력하세요: 일지매,12\n",
      "일지매님은 12살 입니다.\n",
      "일지매님은 13살 입니다.\n"
     ]
    }
   ],
   "source": [
    "name, age = input('이름과 나이를 입력하세요: ').split(',')\n",
    "print('{}님은 {}살 입니다.'.format(name, age))\n",
    "print('{:s}님은 {:d}살 입니다.'.format(name, int(age) + 1))"
   ]
  },
  {
   "cell_type": "code",
   "execution_count": 20,
   "id": "0886067a",
   "metadata": {},
   "outputs": [
    {
     "name": "stdout",
     "output_type": "stream",
     "text": [
      "3과목 점수를 입력하세요: 100 100 99\n",
      "총점: 299, 평균: 99.67\n"
     ]
    }
   ],
   "source": [
    "java, spring, react = input('3과목 점수를 입력하세요: ').split()\n",
    "# total = java + spring + react # 100100100, 문자열 연결\n",
    "total = int(java) + int(spring) + int(react)\n",
    "print('총점: {}, 평균: {:.2f}'.format(total, total / 3))"
   ]
  },
  {
   "cell_type": "markdown",
   "id": "9a6edceb",
   "metadata": {},
   "source": [
    "map() 함수를 사용하면 입력받은 데이터를 split() 메소드로 구분한 후 일괄적으로 형변환 시킬 수 있다.  \n",
    "map(자료형, input('메시지').split())"
   ]
  },
  {
   "cell_type": "code",
   "execution_count": 21,
   "id": "275bffdf",
   "metadata": {},
   "outputs": [
    {
     "name": "stdout",
     "output_type": "stream",
     "text": [
      "3과목 점수를 입력하세요: 100 100 99\n",
      "총점: 299, 평균: 99.67\n"
     ]
    }
   ],
   "source": [
    "java, spring, react = map(int, input('3과목 점수를 입력하세요: ').split())\n",
    "total = int(java) + int(spring) + int(react)\n",
    "print('총점: {}, 평균: {:.2f}'.format(total, total / 3))"
   ]
  },
  {
   "cell_type": "code",
   "execution_count": null,
   "id": "cfd5c43f",
   "metadata": {},
   "outputs": [],
   "source": []
  },
  {
   "cell_type": "code",
   "execution_count": null,
   "id": "9bcaa9ba",
   "metadata": {},
   "outputs": [],
   "source": []
  }
 ],
 "metadata": {
  "kernelspec": {
   "display_name": "Python 3",
   "language": "python",
   "name": "python3"
  },
  "language_info": {
   "codemirror_mode": {
    "name": "ipython",
    "version": 3
   },
   "file_extension": ".py",
   "mimetype": "text/x-python",
   "name": "python",
   "nbconvert_exporter": "python",
   "pygments_lexer": "ipython3",
   "version": "3.6.8"
  }
 },
 "nbformat": 4,
 "nbformat_minor": 5
}
