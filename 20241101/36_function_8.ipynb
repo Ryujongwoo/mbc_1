{
 "cells": [
  {
   "cell_type": "markdown",
   "id": "41e71c79",
   "metadata": {},
   "source": [
    "함수 내부의 변수와 함수 외부의 변수는 이름이 같더라도 서로 독립된 기억공간을 사용한다."
   ]
  },
  {
   "cell_type": "code",
   "execution_count": 1,
   "id": "fb6a89a2",
   "metadata": {},
   "outputs": [],
   "source": [
    "def func9(var1):\n",
    "    var1 += 1\n",
    "    print(f'func9() 함수 내부의 var1: {var1}')"
   ]
  },
  {
   "cell_type": "code",
   "execution_count": 2,
   "id": "4cb151d8",
   "metadata": {},
   "outputs": [
    {
     "name": "stdout",
     "output_type": "stream",
     "text": [
      "func9() 함수 내부의 var1: 2\n",
      "func9() 함수 외부의 var1: 1\n"
     ]
    }
   ],
   "source": [
    "var1 = 1\n",
    "func9(var1)\n",
    "print(f'func9() 함수 외부의 var1: {var1}')"
   ]
  },
  {
   "cell_type": "markdown",
   "id": "91742bf9",
   "metadata": {},
   "source": [
    "global 예약어를 사용하면 함수 내부에서 함수 외부의 변수를 사용할 수 있다."
   ]
  },
  {
   "cell_type": "code",
   "execution_count": 3,
   "id": "d489ae63",
   "metadata": {},
   "outputs": [],
   "source": [
    "def func10():\n",
    "    # c/c++ 언어의 call by reference(참조에 의한 호출) 방식처럼 사용된다. => 부작용(side effect) 현상이 \n",
    "    # 발생될 수 있으니 주의해서 사용해야 한다.\n",
    "    # global로 사용할 변수는 함수의 인수로 선언하면 안된다.\n",
    "    # global로 사용하려는 변수는 함수 내부에서 인수로 선언하면 함수 내부에서 독립적으로 메모리를 할당받는 변수가 된다.\n",
    "    # global로 선언한 변수는 함수 내부에서 값을 변경하면 함수 외부에서도 같이 값이 변경된다.\n",
    "    global var2 # 함수 외부에서 선언한 var2라는 변수를 함수 내부에서 사용하겠다고 선언한다.\n",
    "    var2 += 1\n",
    "    print(f'func10() 함수 내부의 var2: {var2}')"
   ]
  },
  {
   "cell_type": "code",
   "execution_count": 4,
   "id": "44558882",
   "metadata": {},
   "outputs": [
    {
     "name": "stdout",
     "output_type": "stream",
     "text": [
      "func10() 함수 내부의 var2: 1000\n",
      "func10() 함수 외부의 var2: 1000\n"
     ]
    }
   ],
   "source": [
    "var2 = 999\n",
    "func10()\n",
    "print(f'func10() 함수 외부의 var2: {var2}')"
   ]
  },
  {
   "cell_type": "code",
   "execution_count": null,
   "id": "82d3a938",
   "metadata": {},
   "outputs": [],
   "source": []
  },
  {
   "cell_type": "code",
   "execution_count": null,
   "id": "d075e5f4",
   "metadata": {},
   "outputs": [],
   "source": []
  }
 ],
 "metadata": {
  "kernelspec": {
   "display_name": "Python 3",
   "language": "python",
   "name": "python3"
  },
  "language_info": {
   "codemirror_mode": {
    "name": "ipython",
    "version": 3
   },
   "file_extension": ".py",
   "mimetype": "text/x-python",
   "name": "python",
   "nbconvert_exporter": "python",
   "pygments_lexer": "ipython3",
   "version": "3.6.8"
  }
 },
 "nbformat": 4,
 "nbformat_minor": 5
}
