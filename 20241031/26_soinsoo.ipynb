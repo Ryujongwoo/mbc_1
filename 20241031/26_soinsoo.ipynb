{
 "cells": [
  {
   "cell_type": "markdown",
   "id": "45ff9f3e",
   "metadata": {},
   "source": [
    "소인수 분해\n",
    "\n",
    "<img src=\"./soinsoo1.png\" align=\"left\" width=\"800\" title=\"소인수 분해\">"
   ]
  },
  {
   "cell_type": "markdown",
   "id": "4b571b5f",
   "metadata": {},
   "source": [
    "<img src=\"./soinsoo2.png\" align=\"left\" width=\"600\" title=\"소인수 분해\">"
   ]
  },
  {
   "cell_type": "markdown",
   "id": "a086e70a",
   "metadata": {},
   "source": [
    "<img src=\"./soinsoo3.png\" align=\"left\" width=\"1300\" title=\"소인수 분해\">"
   ]
  },
  {
   "cell_type": "code",
   "execution_count": 8,
   "id": "239609fa",
   "metadata": {},
   "outputs": [
    {
     "name": "stdout",
     "output_type": "stream",
     "text": [
      "소인수 분해할 숫자를 입력하세요: 132\n",
      "132 => 2 * 2 * 3 * 11\n",
      "소인수 분해할 숫자를 입력하세요: 20\n",
      "20 => 2 * 2 * 5\n",
      "소인수 분해할 숫자를 입력하세요: 37\n",
      "37 => 소수\n",
      "소인수 분해할 숫자를 입력하세요: 0\n",
      "2보다 작은 숫자가 입력되서 프로그램을 종료합니다.\n",
      "0 => 프로그램 종료\n"
     ]
    }
   ],
   "source": [
    "# 소인수 분해가 불가능한 숫자가 입력될 때 까지 실행해야 하기 때문에 무한 루프를 돌려 처리한다.\n",
    "while True:\n",
    "    n = int(input('소인수 분해할 숫자를 입력하세요: '))\n",
    "    if n < 2:\n",
    "        print('2보다 작은 숫자가 입력되서 프로그램을 종료합니다.')\n",
    "        break\n",
    "    # ===== if\n",
    "    \n",
    "    # 2이상인 숫작 입력되었으므로 소인수 분해를 시작한다.\n",
    "    s = [] # 분해된 소인수를 기억할 빈 리스트를 선언한다.\n",
    "    c = 0 # 소인수의 개수를 기억할 변수를 선언하고 초기화한다.\n",
    "    number = n # 소인수 분해 결과를 출력하기 위해 입력받은 숫자를 number 변수에 보관한다.\n",
    "    \n",
    "    # 소인수 분해를 시작한다.\n",
    "    # 소인수 분해를 하기 위해서 입력된 숫자(n)의 크기에 따라서 반복 횟수가 달라지므로 무한 루프를 돌려서 처리한다.\n",
    "    while True:\n",
    "        k = 2 # 소인수 분해를 시작할 수를 초기화한다. 1은 소수가 아니므로 2부터 시작한다.\n",
    "        # k로 소인수 분해가 안되면 k를 1증가 시켜서 소인수 분해를 해야 한다.\n",
    "        # k를 1씩 몇 번 증가시키며 소인수 분해를 하는 반복 횟수가 달라지므로 무한 루프를 돌려서 처리한다.\n",
    "        while True:\n",
    "            r = n % k\n",
    "            if r == 0: # 소인수 분해가 되었는가?\n",
    "                break # 소인수 분해가 됐으면 k를 1씩 증가하는 무한 루프를 탈출한다.\n",
    "            # ===== if\n",
    "            k += 1 # 소인수 분해가 안되면 k값을 1증가 시킨다.\n",
    "        # ===== while True\n",
    "        c += 1 # 소인수 분해가 됐으면 소인수 개수를 1증가 시킨다. => 소인수 개수가 1개면 n은 소수다.\n",
    "        s.append(k) # 발생된 소인수를 리스트에 저장한다.\n",
    "        # 다음 소인수를 계산하기 위해 소인수 분해되고 남은 숫자(몫)을 다시 n에 넣어준다. => 소인수 분해가 완료되면 n은 1이된다.\n",
    "        n //= k\n",
    "        if n == 1: # 소인수 분해가 끝났는가?\n",
    "            break # 소인수 분해가 끝났으면 소인수 분해를 하는 무한 루프를 탈출한다.\n",
    "    # ===== while True\n",
    "    \n",
    "    # 소인수 분해를 하기 위해서 입력한 숫자가 소수인가 비교한다.\n",
    "    if c == 1: # 소수인가?\n",
    "        print(f'{number} => 소수')\n",
    "    else:\n",
    "        print(f'{number} => ', end='')\n",
    "        for y in range(c - 1):\n",
    "            print(s[y], end = ' * ')\n",
    "        # ===== for\n",
    "        print(s[-1])\n",
    "    # ===== if\n",
    "# ===== while True\n",
    "print(f'{n} => 프로그램 종료')"
   ]
  },
  {
   "cell_type": "code",
   "execution_count": null,
   "id": "49ecfd27",
   "metadata": {},
   "outputs": [],
   "source": []
  },
  {
   "cell_type": "code",
   "execution_count": null,
   "id": "530dc382",
   "metadata": {},
   "outputs": [],
   "source": []
  }
 ],
 "metadata": {
  "kernelspec": {
   "display_name": "Python 3",
   "language": "python",
   "name": "python3"
  },
  "language_info": {
   "codemirror_mode": {
    "name": "ipython",
    "version": 3
   },
   "file_extension": ".py",
   "mimetype": "text/x-python",
   "name": "python",
   "nbconvert_exporter": "python",
   "pygments_lexer": "ipython3",
   "version": "3.6.8"
  }
 },
 "nbformat": 4,
 "nbformat_minor": 5
}
