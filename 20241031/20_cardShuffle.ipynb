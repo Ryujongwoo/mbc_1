{
 "cells": [
  {
   "cell_type": "code",
   "execution_count": 1,
   "id": "e06d66c7",
   "metadata": {},
   "outputs": [],
   "source": [
    "import random"
   ]
  },
  {
   "cell_type": "code",
   "execution_count": 2,
   "id": "787fc425",
   "metadata": {},
   "outputs": [],
   "source": [
    "# 카드 출력에 사용할 숫자와 무늬를 기억하는 리스트 또는 튜플을 만든다.\n",
    "number = ['A', '2', '3', '4', '5', '6', '7', '8', '9', '10', 'J', 'Q', 'K']\n",
    "symbol = '♠', '◇', '♥', '♧'"
   ]
  },
  {
   "cell_type": "code",
   "execution_count": 9,
   "id": "d222f011",
   "metadata": {},
   "outputs": [
    {
     "name": "stdout",
     "output_type": "stream",
     "text": [
      "♠A  ♠2  ♠3  ♠4  ♠5  ♠6  ♠7  ♠8  ♠9  ♠10 ♠J  ♠Q  ♠K  \n",
      "◇A  ◇2  ◇3  ◇4  ◇5  ◇6  ◇7  ◇8  ◇9  ◇10 ◇J  ◇Q  ◇K  \n",
      "♥A  ♥2  ♥3  ♥4  ♥5  ♥6  ♥7  ♥8  ♥9  ♥10 ♥J  ♥Q  ♥K  \n",
      "♧A  ♧2  ♧3  ♧4  ♧5  ♧6  ♧7  ♧8  ♧9  ♧10 ♧J  ♧Q  ♧K  \n",
      "************************************************************ 섞기전\n",
      "◇5  ◇Q  ♥7  ♠9  ◇8  ♧K  ♥8  ◇7  ♥9  ♧A  ◇4  ♧3  ♥5  \n",
      "♥3  ♠6  ♧Q  ♠K  ♥2  ♧J  ◇9  ♧6  ♧5  ♧7  ◇3  ♠10 ♥6  \n",
      "♧4  ◇K  ♠5  ◇A  ♠J  ♠Q  ♠3  ♥Q  ♥J  ◇2  ♥10 ♠2  ◇10 \n",
      "♧2  ♠8  ◇J  ♥4  ◇6  ♥K  ♠A  ♠4  ♧10 ♧9  ♥A  ♧8  ♠7  \n",
      "************************************************************ 섞은후\n"
     ]
    }
   ],
   "source": [
    "# 0 ~ 51 사이의 숫자가 채워진 리스트를 만든다.\n",
    "cards = [i for i in range(52)]\n",
    "# print(cards)\n",
    "\n",
    "# 섞기전 상태를 1줄에 13개씩 출력한다.\n",
    "for i in range(len(cards)):\n",
    "    # print('{:2d}'.format(cards[i]), end=' ') # 0 ~ 51\n",
    "    # print('{:2s}'.format(number[cards[i] % 13]), end=' ') # 숫자만\n",
    "    # print('{:s}'.format(symbol[cards[i] // 13]), end=' ') # 무늬만\n",
    "    print('{:s}{:2s}'.format(symbol[cards[i] // 13], number[cards[i] % 13]), end=' ')\n",
    "    if (i + 1) % 13 == 0:\n",
    "        print()\n",
    "    # ===== if\n",
    "# ===== for\n",
    "print('*' * 60 + ' 섞기전')\n",
    "\n",
    "# 섞는다.\n",
    "random.shuffle(cards)\n",
    "\n",
    "# 섞은후 상태를 1줄에 13개씩 출력한다.\n",
    "for i in range(len(cards)):\n",
    "    print('{:s}{:2s}'.format(symbol[cards[i] // 13], number[cards[i] % 13]), end=' ')\n",
    "    if (i + 1) % 13 == 0:\n",
    "        print()\n",
    "    # ===== if\n",
    "# ===== for\n",
    "print('*' * 60 + ' 섞은후')"
   ]
  },
  {
   "cell_type": "code",
   "execution_count": null,
   "id": "62a346a5",
   "metadata": {},
   "outputs": [],
   "source": []
  },
  {
   "cell_type": "code",
   "execution_count": null,
   "id": "347fa1fc",
   "metadata": {},
   "outputs": [],
   "source": []
  }
 ],
 "metadata": {
  "kernelspec": {
   "display_name": "Python 3",
   "language": "python",
   "name": "python3"
  },
  "language_info": {
   "codemirror_mode": {
    "name": "ipython",
    "version": 3
   },
   "file_extension": ".py",
   "mimetype": "text/x-python",
   "name": "python",
   "nbconvert_exporter": "python",
   "pygments_lexer": "ipython3",
   "version": "3.6.8"
  }
 },
 "nbformat": 4,
 "nbformat_minor": 5
}
