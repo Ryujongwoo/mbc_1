{
 "cells": [
  {
   "cell_type": "markdown",
   "id": "806cc910",
   "metadata": {},
   "source": [
    "선택 정렬 알고리즘의 반복 알고리즘을 이용해서 석차를 계산한다.\n",
    "\n",
    "<img src=\"./ranking2.png\" align=\"left\" width=\"1400\" title=\"석차 계산\">"
   ]
  },
  {
   "cell_type": "code",
   "execution_count": 17,
   "id": "27e6671e",
   "metadata": {},
   "outputs": [
    {
     "name": "stdout",
     "output_type": "stream",
     "text": [
      "[i = 0, j = 1] [i = 0, j = 2] [i = 0, j = 3] [i = 0, j = 4] [i = 0, j = 5] [i = 0, j = 6]\n",
      "[i = 1, j = 2] [i = 1, j = 3] [i = 1, j = 4] [i = 1, j = 5] [i = 1, j = 6]\n",
      "[i = 2, j = 3] [i = 2, j = 4] [i = 2, j = 5] [i = 2, j = 6]\n",
      "[i = 3, j = 4] [i = 3, j = 5] [i = 3, j = 6]\n",
      "[i = 4, j = 5] [i = 4, j = 6]\n",
      "[i = 5, j = 6]\n",
      " 80점은 6등 입니다. ★★★★★★★★\n",
      "100점은 1등 입니다. ★★★★★★★★★★\n",
      " 70점은 7등 입니다. ★★★★★★★\n",
      "100점은 1등 입니다. ★★★★★★★★★★\n",
      " 90점은 3등 입니다. ★★★★★★★★★\n",
      " 85점은 4등 입니다. ★★★★★★★★☆\n",
      " 84점은 5등 입니다. ★★★★★★★★\n"
     ]
    }
   ],
   "source": [
    "score = [80, 100, 70, 100, 90, 85, 84]\n",
    "rank = [1 for _ in range(len(score))]\n",
    "\n",
    "for i in range(len(score) - 1):\n",
    "    for j in range(i + 1, len(score)):\n",
    "        print(f'[i = {i}, j = {j}]', end=' ' if j < len(score) - 1 else '\\n')\n",
    "        # i번째 점수가 크면 j번째 석차를 증가시키고 j번째 점수가 크면 i번째 석차를 증가시킨다.\n",
    "        # 부등호를 반대로 변경하면 오름차순 석차가 계산된다.\n",
    "        if score[i] > score[j]:\n",
    "            rank[j] += 1\n",
    "        elif score[i] < score[j]:\n",
    "            rank[i] += 1\n",
    "        # ===== if\n",
    "    # ===== for j\n",
    "# ===== for i\n",
    "\n",
    "for i in range(len(score)):\n",
    "    print('{:3d}점은 {}등 입니다.'.format(score[i], rank[i]), end=' ')\n",
    "    # 10점당 '★'을 1개씩 출력한다.\n",
    "    '''\n",
    "    for j in range(score[i] // 10):\n",
    "        print('★', end='')\n",
    "    # ===== for j\n",
    "    print()\n",
    "    '''\n",
    "    print('★' * (score[i] // 10), end='')\n",
    "    # 반올림 되는 점수는 '★' 뒤에 '☆'를 추가한다.\n",
    "    if score[i] % 10 >= 5:\n",
    "        print('☆', end='')\n",
    "    print()"
   ]
  },
  {
   "cell_type": "code",
   "execution_count": 22,
   "id": "e5ea2882",
   "metadata": {},
   "outputs": [
    {
     "name": "stdout",
     "output_type": "stream",
     "text": [
      " 80점은 6등 입니다. ★★★★★★★★\n",
      "100점은 1등 입니다. ★★★★★★★★★★\n",
      " 70점은 7등 입니다. ★★★★★★★\n",
      "100점은 1등 입니다. ★★★★★★★★★★\n",
      " 90점은 3등 입니다. ★★★★★★★★★\n",
      " 85점은 4등 입니다. ★★★★★★★★☆\n",
      " 84점은 5등 입니다. ★★★★★★★★\n"
     ]
    }
   ],
   "source": [
    "for s, r in zip(score, rank):\n",
    "    # print(s, r)\n",
    "    print('{:3d}점은 {}등 입니다.'.format(s, r), end=' ')\n",
    "    print('★' * (s // 10), end='')\n",
    "    if s % 10 >= 5:\n",
    "        print('☆', end='')\n",
    "    print()"
   ]
  },
  {
   "cell_type": "code",
   "execution_count": null,
   "id": "ab89e1e2",
   "metadata": {},
   "outputs": [],
   "source": []
  },
  {
   "cell_type": "code",
   "execution_count": null,
   "id": "1c1f1b94",
   "metadata": {},
   "outputs": [],
   "source": []
  }
 ],
 "metadata": {
  "kernelspec": {
   "display_name": "Python 3",
   "language": "python",
   "name": "python3"
  },
  "language_info": {
   "codemirror_mode": {
    "name": "ipython",
    "version": 3
   },
   "file_extension": ".py",
   "mimetype": "text/x-python",
   "name": "python",
   "nbconvert_exporter": "python",
   "pygments_lexer": "ipython3",
   "version": "3.6.8"
  }
 },
 "nbformat": 4,
 "nbformat_minor": 5
}
