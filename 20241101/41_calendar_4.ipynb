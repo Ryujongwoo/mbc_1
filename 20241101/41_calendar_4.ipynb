{
 "cells": [
  {
   "cell_type": "markdown",
   "id": "f80796c6",
   "metadata": {},
   "source": [
    "import 할 때 모듈 이름만 쓰면 현재 작업 중인 소스 프로그램이 위치한 경로에 있는 모듀임을 의미한다.\n",
    "import 할 모듈이 현재 작업중인 소스 프로그램이 위치한 폴더에 존재하지 않고 소스 프로그램이 위치한 폴더의 하위 폴더에 존재할 경우 모듈이 위치한 폴더 이름을 쓰고 '.'으로 구분해서 모듈 이름을 쓰면 된다."
   ]
  },
  {
   "cell_type": "code",
   "execution_count": 1,
   "id": "d46b8ffe",
   "metadata": {},
   "outputs": [],
   "source": [
    "# 현재 폴더 아래의 lib 폴더에 저장된 calModule 모듈을 import 한다.\n",
    "import lib.calModule as cm"
   ]
  },
  {
   "cell_type": "code",
   "execution_count": 2,
   "id": "c94a37ea",
   "metadata": {},
   "outputs": [
    {
     "name": "stdout",
     "output_type": "stream",
     "text": [
      "달력을 출력할 년과 월을 입력하세요: 2024 11\n",
      "============================\n",
      "         2024년11월\n",
      "============================\n",
      " 일  월  화  수  목  금  토 \n",
      "============================\n",
      "                      1   2 \n",
      "  3   4   5   6   7   8   9 \n",
      " 10  11  12  13  14  15  16 \n",
      " 17  18  19  20  21  22  23 \n",
      " 24  25  26  27  28  29  30 \n",
      "============================\n"
     ]
    }
   ],
   "source": [
    "# 달력을 출력할 년, 월을 입력받는다.\n",
    "year, month = map(int, input('달력을 출력할 년과 월을 입력하세요: ').split())\n",
    "\n",
    "print('=' * 28)\n",
    "print('         {:4d}년{:2d}월'.format(year, month))\n",
    "print('=' * 28)\n",
    "print(' 일  월  화  수  목  금  토 ')\n",
    "print('=' * 28)\n",
    "\n",
    "# 1일이 출력될 위치(요일)을 맞추기 위해 1일의 요일만큼 반복하며 빈 칸을 출력한다. => 빈 칸은 요일당 4칸으로 한다.\n",
    "for i in range(cm.weekDay(year, month, 1)):\n",
    "    print('    ', end='')\n",
    "# ===== for\n",
    "\n",
    "# 1일부터 달력을 출력할 달의 마지막 날짜까지 반복하며 날짜를 출력한다.\n",
    "for i in range(1, cm.lastDay(year, month) + 1):\n",
    "    print(' {:2d} '.format(i), end='')\n",
    "    # 출력한 날짜(i)가 토요일이고 그 달의 마지막 날짜가 아니면 줄을 바꾼다.\n",
    "    if cm.weekDay(year, month, i) == 6 and i != cm.lastDay(year, month):\n",
    "        print()\n",
    "    # ===== if\n",
    "# ===== for\n",
    "print('\\n' + '=' * 28)"
   ]
  },
  {
   "cell_type": "code",
   "execution_count": null,
   "id": "33e2b8c5",
   "metadata": {},
   "outputs": [],
   "source": []
  },
  {
   "cell_type": "code",
   "execution_count": null,
   "id": "6b2fe351",
   "metadata": {},
   "outputs": [],
   "source": []
  }
 ],
 "metadata": {
  "kernelspec": {
   "display_name": "Python 3",
   "language": "python",
   "name": "python3"
  },
  "language_info": {
   "codemirror_mode": {
    "name": "ipython",
    "version": 3
   },
   "file_extension": ".py",
   "mimetype": "text/x-python",
   "name": "python",
   "nbconvert_exporter": "python",
   "pygments_lexer": "ipython3",
   "version": "3.6.8"
  }
 },
 "nbformat": 4,
 "nbformat_minor": 5
}
