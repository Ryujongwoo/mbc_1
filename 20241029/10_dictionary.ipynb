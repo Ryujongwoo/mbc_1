{
 "cells": [
  {
   "cell_type": "markdown",
   "id": "2f9fddf0",
   "metadata": {},
   "source": [
    "딕셔너리 만들기\n",
    "\n",
    "딕셔너리는 key와 value가 1:1로 대응되는 관계를 나타내는 자료형으로 key와 key에 할당되는 데이터(value)가 한 쌍이 되는 자료형이다.  \n",
    "딕셔너리는 {}로 감싸주고 {key: value, key: value, ...}와 같은 형태를 가진다.  \n",
    "일반적으로 key는 string 타입을 사용하고 value에는 저장할 데이터를 적어주면 된다."
   ]
  },
  {
   "cell_type": "code",
   "execution_count": 4,
   "id": "e4dd0b89",
   "metadata": {},
   "outputs": [
    {
     "name": "stdout",
     "output_type": "stream",
     "text": [
      "<class 'dict'>\n",
      "{}\n",
      "********************************************************************************\n",
      "<class 'dict'>\n",
      "{}\n"
     ]
    }
   ],
   "source": [
    "# 빈 딕셔너리 만들기\n",
    "a = {}\n",
    "print(type(a))\n",
    "print(a)\n",
    "print('*' * 80)\n",
    "\n",
    "# 빈 딕셔너리는 생성자 함수를 사용해서 만들 수 있다.\n",
    "b = dict()\n",
    "print(type(b))\n",
    "print(b)"
   ]
  },
  {
   "cell_type": "code",
   "execution_count": 7,
   "id": "22d38b14",
   "metadata": {},
   "outputs": [
    {
     "name": "stdout",
     "output_type": "stream",
     "text": [
      "{'name': '홍길동', 'phone': '010-1234-5678', 'age': 20}\n"
     ]
    }
   ],
   "source": [
    "# 초기치를 가지는 딕셔너리\n",
    "a = {\n",
    "    \"name\": '홍길동', \n",
    "    \"phone\": '010-1234-5678', \n",
    "    \"age\": 20\n",
    "}\n",
    "print(a)"
   ]
  },
  {
   "cell_type": "markdown",
   "id": "57f0f688",
   "metadata": {},
   "source": [
    "딕셔너리에 데이터 추가 및 수정하기"
   ]
  },
  {
   "cell_type": "code",
   "execution_count": 10,
   "id": "3edc9c2a",
   "metadata": {},
   "outputs": [
    {
     "name": "stdout",
     "output_type": "stream",
     "text": [
      "{'name': '홍길동', 'phone': '010-1234-5678', 'age': 20}\n",
      "{'name': '홍길동', 'phone': '010-1234-5678', 'age': 20, 'gender': '여자'}\n",
      "{'name': '홍길동', 'phone': '010-1234-5678', 'age': 20, 'gender': '남자'}\n"
     ]
    }
   ],
   "source": [
    "a = {\"name\": '홍길동', \"phone\": '010-1234-5678', \"age\": 20}\n",
    "print(a)\n",
    "\n",
    "# 딕셔너리에 존재하지 않는 key에 데이터를 할당하면 데이터가 추가되고 존재하는 key에 데이터를 할당하면 수정된다.\n",
    "# 딕셔너리이름[key] = value\n",
    "a['gender'] = '여자'\n",
    "print(a)\n",
    "a['gender'] = '남자'\n",
    "print(a)"
   ]
  },
  {
   "cell_type": "markdown",
   "id": "fe1a7a65",
   "metadata": {},
   "source": [
    "딕셔너리에 저장된 데이터 제거하기"
   ]
  },
  {
   "cell_type": "code",
   "execution_count": 14,
   "id": "aa458479",
   "metadata": {},
   "outputs": [
    {
     "name": "stdout",
     "output_type": "stream",
     "text": [
      "{'name': '홍길동', 'phone': '010-1234-5678', 'age': 20}\n",
      "{'name': '홍길동', 'phone': '010-1234-5678'}\n",
      "{}\n"
     ]
    },
    {
     "ename": "NameError",
     "evalue": "name 'a' is not defined",
     "output_type": "error",
     "traceback": [
      "\u001b[1;31m---------------------------------------------------------------------------\u001b[0m",
      "\u001b[1;31mNameError\u001b[0m                                 Traceback (most recent call last)",
      "\u001b[1;32m<ipython-input-14-cc2cd78b9dbc>\u001b[0m in \u001b[0;36m<module>\u001b[1;34m\u001b[0m\n\u001b[0;32m     12\u001b[0m \u001b[1;31m# del 명령으로 딕셔너리 자체를 제거할 수 있다.\u001b[0m\u001b[1;33m\u001b[0m\u001b[1;33m\u001b[0m\u001b[1;33m\u001b[0m\u001b[0m\n\u001b[0;32m     13\u001b[0m \u001b[1;32mdel\u001b[0m \u001b[0ma\u001b[0m\u001b[1;33m\u001b[0m\u001b[1;33m\u001b[0m\u001b[0m\n\u001b[1;32m---> 14\u001b[1;33m \u001b[0mprint\u001b[0m\u001b[1;33m(\u001b[0m\u001b[0ma\u001b[0m\u001b[1;33m)\u001b[0m\u001b[1;33m\u001b[0m\u001b[1;33m\u001b[0m\u001b[0m\n\u001b[0m",
      "\u001b[1;31mNameError\u001b[0m: name 'a' is not defined"
     ]
    }
   ],
   "source": [
    "a = {\"name\": '홍길동', \"phone\": '010-1234-5678', \"age\": 20}\n",
    "print(a)\n",
    "\n",
    "# del 딕셔너리이름[key]\n",
    "del a['age']\n",
    "print(a)\n",
    "\n",
    "# clear() 메소드로 딕셔너리에 저장된 모든 데이터를 제거할 수 있다.\n",
    "a.clear()\n",
    "print(a)\n",
    "\n",
    "# del 명령으로 딕셔너리 자체를 제거할 수 있다.\n",
    "del a\n",
    "print(a)"
   ]
  },
  {
   "cell_type": "markdown",
   "id": "b84726f9",
   "metadata": {},
   "source": [
    "딕셔너리에 저장된 데이터 얻어오기"
   ]
  },
  {
   "cell_type": "code",
   "execution_count": 21,
   "id": "91c9d5e4",
   "metadata": {},
   "outputs": [
    {
     "name": "stdout",
     "output_type": "stream",
     "text": [
      "{'name': '홍길동', 'phone': '010-1234-5678', 'age': 20}\n",
      "홍길동\n",
      "20\n",
      "None\n",
      "********************************************************************************\n",
      "홍길동\n",
      "20\n"
     ]
    },
    {
     "ename": "KeyError",
     "evalue": "'email'",
     "output_type": "error",
     "traceback": [
      "\u001b[1;31m---------------------------------------------------------------------------\u001b[0m",
      "\u001b[1;31mKeyError\u001b[0m                                  Traceback (most recent call last)",
      "\u001b[1;32m<ipython-input-21-066cdbc4d405>\u001b[0m in \u001b[0;36m<module>\u001b[1;34m\u001b[0m\n\u001b[0;32m     11\u001b[0m \u001b[0mprint\u001b[0m\u001b[1;33m(\u001b[0m\u001b[0ma\u001b[0m\u001b[1;33m[\u001b[0m\u001b[1;34m'name'\u001b[0m\u001b[1;33m]\u001b[0m\u001b[1;33m)\u001b[0m\u001b[1;33m\u001b[0m\u001b[1;33m\u001b[0m\u001b[0m\n\u001b[0;32m     12\u001b[0m \u001b[0mprint\u001b[0m\u001b[1;33m(\u001b[0m\u001b[0ma\u001b[0m\u001b[1;33m[\u001b[0m\u001b[1;34m'age'\u001b[0m\u001b[1;33m]\u001b[0m\u001b[1;33m)\u001b[0m\u001b[1;33m\u001b[0m\u001b[1;33m\u001b[0m\u001b[0m\n\u001b[1;32m---> 13\u001b[1;33m \u001b[0mprint\u001b[0m\u001b[1;33m(\u001b[0m\u001b[0ma\u001b[0m\u001b[1;33m[\u001b[0m\u001b[1;34m'email'\u001b[0m\u001b[1;33m]\u001b[0m\u001b[1;33m)\u001b[0m\u001b[1;33m\u001b[0m\u001b[1;33m\u001b[0m\u001b[0m\n\u001b[0m",
      "\u001b[1;31mKeyError\u001b[0m: 'email'"
     ]
    }
   ],
   "source": [
    "a = {\"name\": '홍길동', \"phone\": '010-1234-5678', \"age\": 20}\n",
    "print(a)\n",
    "\n",
    "# 딕셔너리이름.get(key)\n",
    "print(a.get('name'))\n",
    "print(a.get('age'))\n",
    "print(a.get('email')) # 딕셔너리에 존재하지 않는 key가 지정되면 None이 리턴된다.\n",
    "print('*' * 80)\n",
    "\n",
    "# 딕셔너리이름[key]\n",
    "print(a['name'])\n",
    "print(a['age'])\n",
    "print(a['email']) # 딕셔너리에 존재하지 않는 key가 지정되면 에러가 발생된다."
   ]
  },
  {
   "cell_type": "markdown",
   "id": "8777f151",
   "metadata": {},
   "source": [
    "딕셔너리 전용 메소드"
   ]
  },
  {
   "cell_type": "code",
   "execution_count": 25,
   "id": "0fab41fa",
   "metadata": {},
   "outputs": [
    {
     "name": "stdout",
     "output_type": "stream",
     "text": [
      "{'name': '홍길동', 'phone': '010-1234-5678', 'age': 20}\n",
      "dict_keys(['name', 'phone', 'age'])\n",
      "dict_values(['홍길동', '010-1234-5678', 20])\n",
      "dict_items([('name', '홍길동'), ('phone', '010-1234-5678'), ('age', 20)])\n"
     ]
    }
   ],
   "source": [
    "a = {\"name\": '홍길동', \"phone\": '010-1234-5678', \"age\": 20}\n",
    "print(a)\n",
    "\n",
    "# keys() 메소드로 딕셔너리에 저장된 key 목록만 얻어올 수 있다.\n",
    "print(a.keys())\n",
    "# values() 메소드로 딕셔너리에 저장된 value 목록만 얻어올 수 있다.\n",
    "print(a.values())\n",
    "# items() 메소드로 딕셔너리에 저장된 key와 value를 쌍으로 묶은 목록을 튜플로 얻어올 수 있다.\n",
    "print(a.items())"
   ]
  },
  {
   "cell_type": "code",
   "execution_count": null,
   "id": "ff62e518",
   "metadata": {},
   "outputs": [],
   "source": []
  },
  {
   "cell_type": "code",
   "execution_count": null,
   "id": "f0ae19dd",
   "metadata": {},
   "outputs": [],
   "source": []
  }
 ],
 "metadata": {
  "kernelspec": {
   "display_name": "Python 3",
   "language": "python",
   "name": "python3"
  },
  "language_info": {
   "codemirror_mode": {
    "name": "ipython",
    "version": 3
   },
   "file_extension": ".py",
   "mimetype": "text/x-python",
   "name": "python",
   "nbconvert_exporter": "python",
   "pygments_lexer": "ipython3",
   "version": "3.6.8"
  }
 },
 "nbformat": 4,
 "nbformat_minor": 5
}
