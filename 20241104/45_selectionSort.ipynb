{
 "cells": [
  {
   "cell_type": "markdown",
   "id": "1404cd9b",
   "metadata": {},
   "source": [
    "선택 정렬(Selection Sort, 교환법)\n",
    "\n",
    "선택 정렬은 i번째 데이터를 선택해서 나머지 데이터(j번째)와 비교하며 정렬한다.  \n",
    "정렬할 데이터가 n개일 경우 회전수는 n-1번이 된다. => 데이터 5개면 회전수는 4번이다.\n",
    "\n",
    "<img src=\"./selectionSort1.png\" align=\"left\" width=\"1100\">"
   ]
  },
  {
   "cell_type": "markdown",
   "id": "33b9fbbd",
   "metadata": {},
   "source": [
    "<img src=\"./selectionSort2.png\" align=\"left\" width=\"1100\">"
   ]
  },
  {
   "cell_type": "code",
   "execution_count": 1,
   "id": "411e28fc",
   "metadata": {},
   "outputs": [],
   "source": [
    "'''\n",
    "n = 5\n",
    "for i in range(n - 1): # 회전수, 비교하기 위한 선택위치\n",
    "    for j in range(i + 1, n): # i번째 데이터와 비교 대상의 위치\n",
    "        print(f'[i = {i}, j = {j}]', end=' ')\n",
    "    # ===== for j\n",
    "    print()\n",
    "'''\n",
    "pass"
   ]
  },
  {
   "cell_type": "code",
   "execution_count": 2,
   "id": "102982ac",
   "metadata": {},
   "outputs": [],
   "source": [
    "# 데이터를 선택 정렬을 이용해서 오름차순으로 정렬한 결과를 리턴하는 함수\n",
    "def selectionSortAsc(data):\n",
    "    for i in range(len(data) - 1):\n",
    "        for j in range(i + 1, len(data)):\n",
    "            # 오름차순 정렬 => 앞(i번째)의 데이터가 뒤(j번째)의 데이터보다 크면 데이터를 교환한다.\n",
    "            # 내림차순 정렬 => 앞(i번째)의 데이터가 뒤(j번째)의 데이터보다 작으면 데이터를 교환한다.\n",
    "            # 부등호를 '>'에서 '<'로 변경하면 내림차순으로 정렬된다.\n",
    "            if data[i] > data[j]:\n",
    "                data[i], data[j] = data[j], data[i]\n",
    "            # ===== if\n",
    "        # ===== for j => 회전 종료\n",
    "        # print(f'{i + 1}회전 결과: {data}')\n",
    "    # ===== for i => 정렬 종료\n",
    "    # print(f'정렬 결과: {data}')\n",
    "    return data"
   ]
  },
  {
   "cell_type": "code",
   "execution_count": 3,
   "id": "1b7e9295",
   "metadata": {},
   "outputs": [],
   "source": [
    "# 데이터를 선택 정렬을 이용해서 내림차순으로 정렬한 결과를 리턴하는 함수\n",
    "def selectionSortDesc(data):\n",
    "    for i in range(len(data) - 1):\n",
    "        for j in range(i + 1, len(data)):\n",
    "            if data[i] < data[j]:\n",
    "                data[i], data[j] = data[j], data[i]\n",
    "    return data"
   ]
  },
  {
   "cell_type": "code",
   "execution_count": 4,
   "id": "75febeee",
   "metadata": {},
   "outputs": [],
   "source": [
    "# 디폴트 인수 reverse를 이용해서 오름차순, 내림차순을 모두 수행하는 함수\n",
    "def selectionSort(data, reverse = False):\n",
    "    if reverse == False:\n",
    "        selectionSortAsc(data)\n",
    "    elif reverse == True:\n",
    "        selectionSortDesc(data)\n",
    "    else:\n",
    "        data = 'reverse 인수에는 True 또는 False만 지정할 수 있습니다.'\n",
    "    # ===== if\n",
    "    return data"
   ]
  },
  {
   "cell_type": "code",
   "execution_count": 5,
   "id": "591e9e4c",
   "metadata": {},
   "outputs": [
    {
     "name": "stdout",
     "output_type": "stream",
     "text": [
      "정렬 결과: [1, 3, 4, 8, 9]\n",
      "정렬 결과: [9, 8, 4, 3, 1]\n",
      "정렬 결과: [1, 3, 4, 8, 9]\n",
      "정렬 결과: [1, 3, 4, 8, 9]\n",
      "정렬 결과: [9, 8, 4, 3, 1]\n",
      "정렬 결과: reverse 인수에는 True 또는 False만 지정할 수 있습니다.\n"
     ]
    }
   ],
   "source": [
    "if __name__ == '__main__':\n",
    "    data = [8, 3, 4, 9, 1]\n",
    "    result = selectionSortAsc(data)\n",
    "    print(f'정렬 결과: {result}')\n",
    "    result = selectionSortDesc(data)\n",
    "    print(f'정렬 결과: {result}')\n",
    "    result = selectionSort(data)\n",
    "    print(f'정렬 결과: {result}')\n",
    "    result = selectionSort(data, reverse=False)\n",
    "    print(f'정렬 결과: {result}')\n",
    "    result = selectionSort(data, reverse=True)\n",
    "    print(f'정렬 결과: {result}')\n",
    "    result = selectionSort(data, reverse='오름차순')\n",
    "    print(f'정렬 결과: {result}')"
   ]
  },
  {
   "cell_type": "code",
   "execution_count": null,
   "id": "0b7bc418",
   "metadata": {},
   "outputs": [],
   "source": []
  },
  {
   "cell_type": "code",
   "execution_count": null,
   "id": "6de622d5",
   "metadata": {},
   "outputs": [],
   "source": []
  }
 ],
 "metadata": {
  "kernelspec": {
   "display_name": "Python 3",
   "language": "python",
   "name": "python3"
  },
  "language_info": {
   "codemirror_mode": {
    "name": "ipython",
    "version": 3
   },
   "file_extension": ".py",
   "mimetype": "text/x-python",
   "name": "python",
   "nbconvert_exporter": "python",
   "pygments_lexer": "ipython3",
   "version": "3.6.8"
  }
 },
 "nbformat": 4,
 "nbformat_minor": 5
}
