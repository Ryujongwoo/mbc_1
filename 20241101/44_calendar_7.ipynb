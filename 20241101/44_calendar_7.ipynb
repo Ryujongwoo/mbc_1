{
 "cells": [
  {
   "cell_type": "markdown",
   "id": "f80796c6",
   "metadata": {},
   "source": [
    "키보드로 1을 입력하면 컴퓨터 시스템의 년, 월에 해당하는 달력을 출력하고 2를 입력하면 년, 월을 입력받아 입력받는 년, 월에 해당되는 달력을 출력하는 프로그램"
   ]
  },
  {
   "cell_type": "code",
   "execution_count": 1,
   "id": "bb296880",
   "metadata": {},
   "outputs": [],
   "source": [
    "from calendarModule import weekDay as week\n",
    "from calendarModule import lastDay as last\n",
    "from datetime import datetime as dt"
   ]
  },
  {
   "cell_type": "code",
   "execution_count": 3,
   "id": "c94a37ea",
   "metadata": {},
   "outputs": [
    {
     "name": "stdout",
     "output_type": "stream",
     "text": [
      "1 => 이번달, 2 => 특정달: 2\n",
      "달력을 출력할 년과 월을 입력하세요: 2024 12\n",
      "============================\n",
      "         2024년12월\n",
      "============================\n",
      " 일  월  화  수  목  금  토 \n",
      "============================\n",
      "  1   2   3   4   5   6   7 \n",
      "  8   9  10  11  12  13  14 \n",
      " 15  16  17  18  19  20  21 \n",
      " 22  23  24  25  26  27  28 \n",
      " 29  30  31 \n",
      "============================\n"
     ]
    }
   ],
   "source": [
    "menu = input('1 => 이번달, 2 => 특정달: ')\n",
    "if menu == '1':\n",
    "    # 컴퓨터 시스템의 년, 월을 얻어온다.\n",
    "    now = dt.now()\n",
    "    year = now.year\n",
    "    month = now.month\n",
    "else:\n",
    "    # 달력을 출력할 년, 월을 입력받는다.\n",
    "    year, month = map(int, input('달력을 출력할 년과 월을 입력하세요: ').split())\n",
    "# ===== if\n",
    "\n",
    "print('=' * 28)\n",
    "print('         {:4d}년{:2d}월'.format(year, month))\n",
    "print('=' * 28)\n",
    "print(' 일  월  화  수  목  금  토 ')\n",
    "print('=' * 28)\n",
    "\n",
    "# 1일이 출력될 위치(요일)을 맞추기 위해 1일의 요일만큼 반복하며 빈 칸을 출력한다. => 빈 칸은 요일당 4칸으로 한다.\n",
    "for i in range(week(year, month, 1)):\n",
    "    print('    ', end='')\n",
    "# ===== for\n",
    "\n",
    "# 1일부터 달력을 출력할 달의 마지막 날짜까지 반복하며 날짜를 출력한다.\n",
    "for i in range(1, last(year, month) + 1):\n",
    "    print(' {:2d} '.format(i), end='')\n",
    "    # 출력한 날짜(i)가 토요일이고 그 달의 마지막 날짜가 아니면 줄을 바꾼다.\n",
    "    if week(year, month, i) == 6 and i != last(year, month):\n",
    "        print()\n",
    "    # ===== if\n",
    "# ===== for\n",
    "print('\\n' + '=' * 28)"
   ]
  },
  {
   "cell_type": "code",
   "execution_count": null,
   "id": "33e2b8c5",
   "metadata": {},
   "outputs": [],
   "source": []
  },
  {
   "cell_type": "code",
   "execution_count": null,
   "id": "6b2fe351",
   "metadata": {},
   "outputs": [],
   "source": []
  }
 ],
 "metadata": {
  "kernelspec": {
   "display_name": "Python 3",
   "language": "python",
   "name": "python3"
  },
  "language_info": {
   "codemirror_mode": {
    "name": "ipython",
    "version": 3
   },
   "file_extension": ".py",
   "mimetype": "text/x-python",
   "name": "python",
   "nbconvert_exporter": "python",
   "pygments_lexer": "ipython3",
   "version": "3.6.8"
  }
 },
 "nbformat": 4,
 "nbformat_minor": 5
}
