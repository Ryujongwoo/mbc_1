{
 "cells": [
  {
   "cell_type": "markdown",
   "id": "b409f22e",
   "metadata": {},
   "source": [
    "<img src=\"./fibonacci1.png\" align=\"left\" width=\"800\" title=\"피보나치 수열\">"
   ]
  },
  {
   "cell_type": "markdown",
   "id": "0632ae02",
   "metadata": {},
   "source": [
    "<img src=\"./fibonacci2.png\" align=\"left\" width=\"900\" title=\"피보나치 수열\">"
   ]
  },
  {
   "cell_type": "code",
   "execution_count": 8,
   "id": "e6d9c7a9",
   "metadata": {},
   "outputs": [
    {
     "name": "stdout",
     "output_type": "stream",
     "text": [
      "피보나치 수열의 합계를 계산할 항을 입력하세요: 6\n",
      "피보나치 수열의 6번째 항 까지의 합계: 20\n"
     ]
    }
   ],
   "source": [
    "a = 1 # 피보나치 수열의 첫 번째(n - 2번째) 항 초기화\n",
    "b = 1 # 피보나치 수열의 두 번째(n - 1번째) 항 초기화\n",
    "y = 2 # 첫 번째 항과 두 번째 항의 합계 => n번째 항 까지 피보나치 수열의 합계를 기억할 변수\n",
    "\n",
    "# 피보나치 수열의 합계를 계산할 항(n)을 입력받는다.\n",
    "n = int(input('피보나치 수열의 합계를 계산할 항을 입력하세요: '))\n",
    "\n",
    "# 첫 번째 항과 두 번째 항은 이미 합계가 계산되었다는 가정하에 작업을 시작하므로 세 번째 항부터 n 번째 항까지\n",
    "# 반복하며 피보나치 수열의 합계를 계산한다.\n",
    "for k in range(3, n + 1):\n",
    "    c = a + b # 피보나치 수열의 k번째 항의 값을 계산한다.\n",
    "    y += c # 피보나치 수열의 k번째 항까지 합계를 계산한다.\n",
    "    # 피보나치 수열의 다음 항의 값을 계산하기 위해서 현재 반복의 n-1 번째 항의 값(b)을 다음 반복의 n-2 번째 \n",
    "    # 항의 값(a)에 넣어준다.\n",
    "    a = b\n",
    "    # 피보나치 수열의 다음 항의 값을 계산하기 위해서 현재 반복의 n 번째 항의 값(c)을 다음 반복의 n-1 번째 \n",
    "    # 항의 값(b)에 넣어준다.\n",
    "    b = c\n",
    "# ===== for\n",
    "print(f'피보나치 수열의 {n}번째 항 까지의 합계: {y}')"
   ]
  },
  {
   "cell_type": "code",
   "execution_count": 14,
   "id": "1239f541",
   "metadata": {},
   "outputs": [
    {
     "name": "stdout",
     "output_type": "stream",
     "text": [
      "피보나치 수열의 합계를 계산할 항을 입력하세요: 8\n",
      "피보나치 수열의 8번째 항 까지의 합계: 54 = [1, 1, 2, 3, 5, 8, 13, 21]\n"
     ]
    }
   ],
   "source": [
    "# 피보나치 수열의 첫 번째 항과 두 번째 항의 값으로 초기화된 리스트를 만든다. => 세 번째 항의 값부터 리스트에 추가한다.\n",
    "f = [1, 1]\n",
    "n = int(input('피보나치 수열의 합계를 계산할 항을 입력하세요: '))\n",
    "# y = 2\n",
    "for k in range(3, n + 1):\n",
    "    f.append(f[k - 3] + f[k - 2])\n",
    "    # y += f[k - 1]\n",
    "# print(f'피보나치 수열의 {n}번째 항 까지의 합계: {y} = {f}')\n",
    "# sum() 함수는 인수로 지정된 리스트 또는 튜플 또는 set에 저장된 데이터의 합계를 계산한다.\n",
    "print(f'피보나치 수열의 {n}번째 항 까지의 합계: {sum(f)} = {f}')"
   ]
  },
  {
   "cell_type": "code",
   "execution_count": 21,
   "id": "61b73c70",
   "metadata": {},
   "outputs": [
    {
     "name": "stdout",
     "output_type": "stream",
     "text": [
      "피보나치 수열의 8번째 항 까지의 합계: 54 = 1 + 1 + 2 + 3 + 5 + 8 + 13 + 21\n"
     ]
    }
   ],
   "source": [
    "# 피보나치 수열의 8번째 항 까지의 합계: 54 = 1 + 1 + 2 + 3 + 5 + 8 + 13 + 21\n",
    "print(f'피보나치 수열의 {n}번째 항 까지의 합계: {sum(f)} = ', end='')\n",
    "for i in range(len(f) - 1):\n",
    "    print(f[i], end=' + ')\n",
    "print(f[-1])"
   ]
  },
  {
   "cell_type": "code",
   "execution_count": 22,
   "id": "1c9cedf0",
   "metadata": {},
   "outputs": [
    {
     "name": "stdout",
     "output_type": "stream",
     "text": [
      "피보나치 수열의 8번째 항 까지의 합계: 54 = 1 + 1 + 2 + 3 + 5 + 8 + 13 + 21"
     ]
    }
   ],
   "source": [
    "print(f'피보나치 수열의 {n}번째 항 까지의 합계: {sum(f)} = ', end='')\n",
    "for i in range(len(f)):\n",
    "    if i > 0:\n",
    "        print(' + ', end='')\n",
    "    print(f[i], end='')"
   ]
  },
  {
   "cell_type": "code",
   "execution_count": 24,
   "id": "bad5ed06",
   "metadata": {},
   "outputs": [
    {
     "name": "stdout",
     "output_type": "stream",
     "text": [
      "['1', '1', '2', '3', '5', '8', '13', '21']\n",
      "피보나치 수열의 8번째 항 까지의 합계: 54 = 1 + 1 + 2 + 3 + 5 + 8 + 13 + 21"
     ]
    }
   ],
   "source": [
    "p = [str(i) for i in f]\n",
    "print(p)\n",
    "print(f'피보나치 수열의 {n}번째 항 까지의 합계: {sum(f)} = {\" + \".join(p)}', end='')"
   ]
  },
  {
   "cell_type": "code",
   "execution_count": 26,
   "id": "0a4f7756",
   "metadata": {},
   "outputs": [
    {
     "name": "stdout",
     "output_type": "stream",
     "text": [
      "피보나치 수열의 8번째 항 까지의 합계: 54 = 1 + 1 + 2 + 3 + 5 + 8 + 13 + 21\n"
     ]
    }
   ],
   "source": [
    "print(f'피보나치 수열의 {n}번째 항 까지의 합계: {sum(f)} = ', end='')\n",
    "for i in range(len(f)):\n",
    "    print(f[i], end=' + ' if i < len(f) - 1 else '\\n')"
   ]
  },
  {
   "cell_type": "code",
   "execution_count": null,
   "id": "ba661b5c",
   "metadata": {},
   "outputs": [],
   "source": []
  },
  {
   "cell_type": "code",
   "execution_count": null,
   "id": "64a1115c",
   "metadata": {},
   "outputs": [],
   "source": []
  }
 ],
 "metadata": {
  "kernelspec": {
   "display_name": "Python 3",
   "language": "python",
   "name": "python3"
  },
  "language_info": {
   "codemirror_mode": {
    "name": "ipython",
    "version": 3
   },
   "file_extension": ".py",
   "mimetype": "text/x-python",
   "name": "python",
   "nbconvert_exporter": "python",
   "pygments_lexer": "ipython3",
   "version": "3.6.8"
  }
 },
 "nbformat": 4,
 "nbformat_minor": 5
}
