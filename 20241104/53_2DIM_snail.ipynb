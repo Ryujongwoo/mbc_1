{
 "cells": [
  {
   "cell_type": "markdown",
   "id": "ee31e826",
   "metadata": {},
   "source": [
    "<img src=\"./snail.png\" align=\"left\" width=\"800\" title=\"2차원 리스트\">"
   ]
  },
  {
   "cell_type": "markdown",
   "id": "7e910346",
   "metadata": {},
   "source": [
    "<img src=\"./snail2.png\" align=\"left\" width=\"500\" title=\"2차원 리스트\">"
   ]
  },
  {
   "cell_type": "markdown",
   "id": "bada8993",
   "metadata": {},
   "source": [
    "<img src=\"./snail3.png\" align=\"left\" width=\"400\" title=\"2차원 리스트\">"
   ]
  },
  {
   "cell_type": "code",
   "execution_count": 3,
   "id": "545b5b13",
   "metadata": {},
   "outputs": [],
   "source": [
    "def pprint(data):\n",
    "    for i in range(len(data)):\n",
    "        for j in range(len(data[i])):\n",
    "            print('{:3d}'.format(data[i][j]), end=' ')\n",
    "        print()"
   ]
  },
  {
   "cell_type": "code",
   "execution_count": 5,
   "id": "3a257113",
   "metadata": {},
   "outputs": [
    {
     "name": "stdout",
     "output_type": "stream",
     "text": [
      "  1   2   3   4   5 \n",
      " 16  17  18  19   6 \n",
      " 15  24  25  20   7 \n",
      " 14  23  22  21   8 \n",
      " 13  12  11  10   9 \n"
     ]
    }
   ],
   "source": [
    "a = [[0] * 5 for _ in range(5)]\n",
    "n = 0 # 1 ~ 25까지 1씩 증가하는 변수\n",
    "s = 1 # 행과 열이 1또는 -1씩 증가 및 감소 처리에 사용하는 변수\n",
    "i = 0 # 행\n",
    "j = -1 # 열\n",
    "k = 5 # 숫자를 채우는 반복 횟수 제어에 사용하는 변수\n",
    "\n",
    "while True:\n",
    "    # 행 방향으로 숫자를 채운다.\n",
    "    for p in range(1, k + 1):\n",
    "        n += 1\n",
    "        j += s # 행이 고정된 상태에서 열만 변경한다.\n",
    "        a[i][j] = n\n",
    "    # ===== for p\n",
    "    # k를 1감소 시킨후 무한 루프를 탈출하는 조건을 비교한다.\n",
    "    k -= 1\n",
    "    if k <= 0:\n",
    "        break\n",
    "    # ===== if\n",
    "    # 열 방향으로 숫자를 채운다.\n",
    "    for p in range(1, k + 1):\n",
    "        n += 1\n",
    "        i += s # 열이 고정된 상태에서 행만 변경한다.\n",
    "        a[i][j] = n\n",
    "    # ===== for p\n",
    "    # 행과 열의 증가 및 감소 처리에 사용하는 변수의 부호를 변경한다.\n",
    "    s *= -1\n",
    "# ===== while\n",
    "\n",
    "pprint(a)"
   ]
  },
  {
   "cell_type": "code",
   "execution_count": 12,
   "id": "e47c529c",
   "metadata": {},
   "outputs": [
    {
     "name": "stdout",
     "output_type": "stream",
     "text": [
      "2차원 리스트의 차수를 3이상인 홀수로 입력하세요: 5\n",
      "  1   2   3   4   5 \n",
      " 16  17  18  19   6 \n",
      " 15  24  25  20   7 \n",
      " 14  23  22  21   8 \n",
      " 13  12  11  10   9 \n"
     ]
    }
   ],
   "source": [
    "while True:\n",
    "    m = int(input('2차원 리스트의 차수를 3이상인 홀수로 입력하세요: '))\n",
    "    if m >= 3 and m % 2 == 1:\n",
    "        break\n",
    "    # ===== if\n",
    "    print('2차원 리스트의 차수를 3이상인 홀수로 입력해야 합니다.')\n",
    "# ===== while\n",
    "\n",
    "a = [[0] * m for _ in range(m)]\n",
    "n = 0; s = 1; i = 0; j = -1; k = m\n",
    "\n",
    "while n < m ** 2:\n",
    "    for p in range(1, k + 1):\n",
    "        n += 1\n",
    "        j += s\n",
    "        a[i][j] = n\n",
    "    # ===== for p\n",
    "    k -= 1\n",
    "    for p in range(1, k + 1):\n",
    "        n += 1\n",
    "        i += s\n",
    "        a[i][j] = n\n",
    "    # ===== for p\n",
    "    s *= -1\n",
    "# ===== while\n",
    "\n",
    "pprint(a)"
   ]
  },
  {
   "cell_type": "code",
   "execution_count": 15,
   "id": "7ddeeee7",
   "metadata": {},
   "outputs": [
    {
     "name": "stdout",
     "output_type": "stream",
     "text": [
      " 21  22  23  24  25 \n",
      " 20   7   8   9  10 \n",
      " 19   6   1   2  11 \n",
      " 18   5   4   3  12 \n",
      " 17  16  15  14  13 \n"
     ]
    }
   ],
   "source": [
    "a = [[0] * 5 for _ in range(5)]\n",
    "# 2차원 리스트의 정 가운데 위치에 1이 채워져있다는 가정을 하고 시작한다.\n",
    "n = 1 # 1을 리스트의 정 가운데 위치에 채웠으므로 2부터 채우기 위해서 1로 초기화 한다.\n",
    "i = 2 # 행\n",
    "j = 2 # 열\n",
    "a[i][j] = n # 2차원 리스트의 정 가운데 위치에 1을 채운다.\n",
    "k = 1 # 숫자를 채우는 반복 횟수 제어에 사용하는 변수\n",
    "flag = False # 마지막 숫자가지 채워졌나 확인하는 변수\n",
    "s = 1\n",
    "\n",
    "while True:\n",
    "    k += 1 # 3시 방향부터 숫자를 채운다.\n",
    "    for p in range(1, k):\n",
    "        n += 1; j += s\n",
    "        if n > 25:\n",
    "            flag = True\n",
    "            break\n",
    "        # ===== if\n",
    "        a[i][j] = n\n",
    "    # ===== for p\n",
    "    # 위의 반복문이 정상적으로 종료되면 flag 변수에 False가 저장되어있으므로 다음 반복을 실행하고\n",
    "    # 위의 반복문이 break에 의해 종료되면 flag 변수에 True가 저장되어 있으므로 리스트를 출력하고 프로그램을 종료한다.\n",
    "    if flag:\n",
    "        break\n",
    "    # ===== if\n",
    "    for p in range(1, k):\n",
    "        n += 1; i += s\n",
    "        a[i][j] = n\n",
    "    # ===== for p\n",
    "    s *= -1\n",
    "    # k += 1 # 9시 방향부터 숫자를 채운다.\n",
    "# ===== while\n",
    "\n",
    "pprint(a)"
   ]
  },
  {
   "cell_type": "code",
   "execution_count": 22,
   "id": "11f17402",
   "metadata": {},
   "outputs": [
    {
     "name": "stdout",
     "output_type": "stream",
     "text": [
      "2차원 리스트의 차수를 3이상인 홀수로 입력하세요: 5\n",
      " 21  22  23  24  25 \n",
      " 20   7   8   9  10 \n",
      " 19   6   1   2  11 \n",
      " 18   5   4   3  12 \n",
      " 17  16  15  14  13 \n"
     ]
    }
   ],
   "source": [
    "while True:\n",
    "    m = int(input('2차원 리스트의 차수를 3이상인 홀수로 입력하세요: '))\n",
    "    if m >= 3 and m % 2 == 1:\n",
    "        break\n",
    "    # ===== if\n",
    "    print('2차원 리스트의 차수를 3이상인 홀수로 입력해야 합니다.')\n",
    "# ===== while\n",
    "\n",
    "a = [[0] * m for _ in range(m)]\n",
    "# 2차원 리스트의 정 가운데 위치를 계산한다.\n",
    "i = m // 2; j = m // 2\n",
    "n = 1; a[i][j] = n; k = 1; flag = False; s = 1\n",
    "\n",
    "while True:\n",
    "    k += 1 # 3시 방향부터 숫자를 채운다.\n",
    "    for p in range(1, k):\n",
    "        n += 1; j += s\n",
    "        if n > m ** 2:\n",
    "            flag = True\n",
    "            break\n",
    "        # ===== if\n",
    "        a[i][j] = n\n",
    "    # ===== for p\n",
    "    if flag:\n",
    "        break\n",
    "    # ===== if\n",
    "    for p in range(1, k):\n",
    "        n += 1; i += s\n",
    "        a[i][j] = n\n",
    "    # ===== for p\n",
    "    s *= -1\n",
    "    # k += 1 # 9시 방향부터 숫자를 채운다.\n",
    "# ===== while\n",
    "\n",
    "pprint(a)"
   ]
  },
  {
   "cell_type": "code",
   "execution_count": null,
   "id": "df98fd10",
   "metadata": {},
   "outputs": [],
   "source": []
  },
  {
   "cell_type": "code",
   "execution_count": null,
   "id": "1b6f0487",
   "metadata": {},
   "outputs": [],
   "source": []
  }
 ],
 "metadata": {
  "kernelspec": {
   "display_name": "Python 3",
   "language": "python",
   "name": "python3"
  },
  "language_info": {
   "codemirror_mode": {
    "name": "ipython",
    "version": 3
   },
   "file_extension": ".py",
   "mimetype": "text/x-python",
   "name": "python",
   "nbconvert_exporter": "python",
   "pygments_lexer": "ipython3",
   "version": "3.6.8"
  }
 },
 "nbformat": 4,
 "nbformat_minor": 5
}
